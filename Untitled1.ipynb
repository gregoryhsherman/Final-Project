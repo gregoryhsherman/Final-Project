{
 "cells": [
  {
   "cell_type": "code",
   "execution_count": null,
   "metadata": {},
   "outputs": [],
   "source": [
    "fig = px.scatter_3d(df_scaled, x=\"danceability\", y=\"energy\", z=\"loudness\", color=\"tempo\", \n",
    "                    symbol=\"acousticness\", width=800)\n",
    "fig.update_layout(legend=dict(x=0,y=1))\n",
    "fig.show()"
   ]
  },
  {
   "cell_type": "code",
   "execution_count": null,
   "metadata": {},
   "outputs": [],
   "source": [
    "# plot size\n",
    "fig=plt.figure(figsize=(10,8))\n",
    "\n",
    "# convert column names into a list\n",
    "categories=list(df_scaled.columns)\n",
    "# number of categories\n",
    "N=len(categories)\n",
    "\n",
    "# create a list with the average of all features\n",
    "value=list(df_scaled.mean())\n",
    "\n",
    "# repeat first value to close the circle\n",
    "# the plot is a circle, so we need to \"complete the loop\"\n",
    "# and append the start value to the end.\n",
    "value+=value[:1]\n",
    "# calculate angle for each category\n",
    "angles=[n/float(N)*2*pi for n in range(N)]\n",
    "angles+=angles[:1]\n",
    "\n",
    "# plot\n",
    "plt.polar(angles, value)\n",
    "plt.fill(angles,value,alpha=0.3)\n",
    "\n",
    "# plt.title('Discovery Weekly Songs Audio Features', size=35)\n",
    "\n",
    "plt.xticks(angles[:-1],categories, size=15)\n",
    "plt.yticks(color='grey',size=15)\n",
    "plt.show()"
   ]
  }
 ],
 "metadata": {
  "kernelspec": {
   "display_name": "Python 3",
   "language": "python",
   "name": "python3"
  },
  "language_info": {
   "codemirror_mode": {
    "name": "ipython",
    "version": 3
   },
   "file_extension": ".py",
   "mimetype": "text/x-python",
   "name": "python",
   "nbconvert_exporter": "python",
   "pygments_lexer": "ipython3",
   "version": "3.7.7"
  }
 },
 "nbformat": 4,
 "nbformat_minor": 4
}
