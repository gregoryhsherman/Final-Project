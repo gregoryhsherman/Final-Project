{
 "cells": [
  {
   "cell_type": "code",
   "execution_count": 1,
   "metadata": {},
   "outputs": [],
   "source": [
    "import json\n",
    "import spotipy\n",
    "import pandas as pd\n",
    "import numpy as np\n",
    "import matplotlib.pyplot as plt\n",
    "import plotly.express as px\n",
    "import os\n",
    "from sqlalchemy import create_engine\n",
    "from spotipy.oauth2 import SpotifyClientCredentials\n",
    "from math import pi\n",
    "\n",
    "client_id = 'acc540a7f8844bd887f02c72b9508732' #insert your client id\n",
    "client_secret = '183b3d48db27418a8e6b2b73e14f7e53' # insert your client secret id here\n",
    "\n",
    "client_credentials_manager = SpotifyClientCredentials(client_id, client_secret)\n",
    "sp = spotipy.Spotify(client_credentials_manager=client_credentials_manager)\n",
    "\n",
    "playlist_id='spotify:playlist:37i9dQZF1EjqdQrvqcMFqb' #insert your playlist id\n",
    "results = sp.playlist(playlist_id)\n"
   ]
  },
  {
   "cell_type": "code",
   "execution_count": 2,
   "metadata": {},
   "outputs": [],
   "source": [
    "# create a list of song ids\n",
    "ids=[]\n",
    "\n",
    "for item in results['tracks']['items']:\n",
    "        track = item['track']['id']\n",
    "        ids.append(track)\n",
    "        \n",
    "song_meta={'id':[],'album':[], 'name':[], \n",
    "           'artist':[],'explicit':[],'popularity':[]}\n",
    "\n",
    "for song_id in ids:\n",
    "    # get song meta data\n",
    "    meta = sp.track(song_id)\n",
    "    \n",
    "    # song id\n",
    "    song_meta['id'].append(song_id)\n",
    "\n",
    "    # album name\n",
    "    album=meta['album']['name']\n",
    "    song_meta['album']+=[album]\n",
    "\n",
    "    # song name\n",
    "    song=meta['name']\n",
    "    song_meta['name']+=[song]\n",
    "    \n",
    "    # artist name\n",
    "    s = ', '\n",
    "    artist=s.join([singer_name['name'] for singer_name in meta['artists']])\n",
    "    song_meta['artist']+=[artist]\n",
    "    \n",
    "    # explicit: lyrics could be considered offensive or unsuitable for children\n",
    "    explicit=meta['explicit']\n",
    "    song_meta['explicit'].append(explicit)\n",
    "    \n",
    "    # song popularity\n",
    "    popularity=meta['popularity']\n",
    "    song_meta['popularity'].append(popularity)\n",
    "\n",
    "song_meta_df=pd.DataFrame.from_dict(song_meta)\n",
    "\n",
    "# check the song feature\n",
    "features = sp.audio_features(song_meta['id'])\n",
    "# change dictionary to dataframe\n",
    "features_df=pd.DataFrame.from_dict(features)\n",
    "\n",
    "# convert milliseconds to mins\n",
    "# duration_ms: The duration of the track in milliseconds.\n",
    "# 1 minute = 60 seconds = 60 × 1000 milliseconds = 60,000 ms\n",
    "features_df['duration_ms']=features_df['duration_ms']/60000\n",
    "\n",
    "# combine two dataframe\n",
    "final_df=song_meta_df.merge(features_df)\n",
    "   "
   ]
  },
  {
   "cell_type": "code",
   "execution_count": 3,
   "metadata": {
    "scrolled": true
   },
   "outputs": [
    {
     "data": {
      "text/html": [
       "<div>\n",
       "<style scoped>\n",
       "    .dataframe tbody tr th:only-of-type {\n",
       "        vertical-align: middle;\n",
       "    }\n",
       "\n",
       "    .dataframe tbody tr th {\n",
       "        vertical-align: top;\n",
       "    }\n",
       "\n",
       "    .dataframe thead th {\n",
       "        text-align: right;\n",
       "    }\n",
       "</style>\n",
       "<table border=\"1\" class=\"dataframe\">\n",
       "  <thead>\n",
       "    <tr style=\"text-align: right;\">\n",
       "      <th></th>\n",
       "      <th>id</th>\n",
       "      <th>album</th>\n",
       "      <th>name</th>\n",
       "      <th>artist</th>\n",
       "      <th>explicit</th>\n",
       "      <th>popularity</th>\n",
       "      <th>danceability</th>\n",
       "      <th>energy</th>\n",
       "      <th>key</th>\n",
       "      <th>loudness</th>\n",
       "      <th>...</th>\n",
       "      <th>instrumentalness</th>\n",
       "      <th>liveness</th>\n",
       "      <th>valence</th>\n",
       "      <th>tempo</th>\n",
       "      <th>type</th>\n",
       "      <th>uri</th>\n",
       "      <th>track_href</th>\n",
       "      <th>analysis_url</th>\n",
       "      <th>duration_ms</th>\n",
       "      <th>time_signature</th>\n",
       "    </tr>\n",
       "  </thead>\n",
       "  <tbody>\n",
       "    <tr>\n",
       "      <th>0</th>\n",
       "      <td>4DdoBfBEJ2gr6rUlRT34wz</td>\n",
       "      <td>Red Forest</td>\n",
       "      <td>Red Forest</td>\n",
       "      <td>CloZee</td>\n",
       "      <td>False</td>\n",
       "      <td>0</td>\n",
       "      <td>0.629</td>\n",
       "      <td>0.746</td>\n",
       "      <td>7</td>\n",
       "      <td>-4.899</td>\n",
       "      <td>...</td>\n",
       "      <td>0.651000</td>\n",
       "      <td>0.1710</td>\n",
       "      <td>0.3020</td>\n",
       "      <td>100.004</td>\n",
       "      <td>audio_features</td>\n",
       "      <td>spotify:track:4DdoBfBEJ2gr6rUlRT34wz</td>\n",
       "      <td>https://api.spotify.com/v1/tracks/4DdoBfBEJ2gr...</td>\n",
       "      <td>https://api.spotify.com/v1/audio-analysis/4Ddo...</td>\n",
       "      <td>3.555000</td>\n",
       "      <td>4</td>\n",
       "    </tr>\n",
       "    <tr>\n",
       "      <th>1</th>\n",
       "      <td>7Jcf74UJvImsHrGOqSS0tG</td>\n",
       "      <td>it's not us</td>\n",
       "      <td>You &amp; You Alone</td>\n",
       "      <td>Umphrey's McGee</td>\n",
       "      <td>False</td>\n",
       "      <td>45</td>\n",
       "      <td>0.514</td>\n",
       "      <td>0.282</td>\n",
       "      <td>0</td>\n",
       "      <td>-13.793</td>\n",
       "      <td>...</td>\n",
       "      <td>0.000021</td>\n",
       "      <td>0.1140</td>\n",
       "      <td>0.1170</td>\n",
       "      <td>89.942</td>\n",
       "      <td>audio_features</td>\n",
       "      <td>spotify:track:7Jcf74UJvImsHrGOqSS0tG</td>\n",
       "      <td>https://api.spotify.com/v1/tracks/7Jcf74UJvIms...</td>\n",
       "      <td>https://api.spotify.com/v1/audio-analysis/7Jcf...</td>\n",
       "      <td>3.979367</td>\n",
       "      <td>3</td>\n",
       "    </tr>\n",
       "    <tr>\n",
       "      <th>2</th>\n",
       "      <td>2jt2WxXMCD4zjACthkJQVE</td>\n",
       "      <td>Kamikaze</td>\n",
       "      <td>The Ringer</td>\n",
       "      <td>Eminem</td>\n",
       "      <td>True</td>\n",
       "      <td>72</td>\n",
       "      <td>0.939</td>\n",
       "      <td>0.551</td>\n",
       "      <td>1</td>\n",
       "      <td>-9.126</td>\n",
       "      <td>...</td>\n",
       "      <td>0.000000</td>\n",
       "      <td>0.1920</td>\n",
       "      <td>0.4200</td>\n",
       "      <td>118.552</td>\n",
       "      <td>audio_features</td>\n",
       "      <td>spotify:track:2jt2WxXMCD4zjACthkJQVE</td>\n",
       "      <td>https://api.spotify.com/v1/tracks/2jt2WxXMCD4z...</td>\n",
       "      <td>https://api.spotify.com/v1/audio-analysis/2jt2...</td>\n",
       "      <td>5.632350</td>\n",
       "      <td>4</td>\n",
       "    </tr>\n",
       "    <tr>\n",
       "      <th>3</th>\n",
       "      <td>1Jc15fxurf0RSLfiZoslaY</td>\n",
       "      <td>Inner G</td>\n",
       "      <td>Inner G (feat. Ganavya)</td>\n",
       "      <td>Zebbler Encanti Experience, Ganavya</td>\n",
       "      <td>False</td>\n",
       "      <td>37</td>\n",
       "      <td>0.618</td>\n",
       "      <td>0.825</td>\n",
       "      <td>1</td>\n",
       "      <td>-5.711</td>\n",
       "      <td>...</td>\n",
       "      <td>0.712000</td>\n",
       "      <td>0.1030</td>\n",
       "      <td>0.0467</td>\n",
       "      <td>159.998</td>\n",
       "      <td>audio_features</td>\n",
       "      <td>spotify:track:1Jc15fxurf0RSLfiZoslaY</td>\n",
       "      <td>https://api.spotify.com/v1/tracks/1Jc15fxurf0R...</td>\n",
       "      <td>https://api.spotify.com/v1/audio-analysis/1Jc1...</td>\n",
       "      <td>4.200000</td>\n",
       "      <td>4</td>\n",
       "    </tr>\n",
       "    <tr>\n",
       "      <th>4</th>\n",
       "      <td>5cio8CvmB7nBA1OxiSYqrg</td>\n",
       "      <td>Visions of Backbeat</td>\n",
       "      <td>Midnight on the Run</td>\n",
       "      <td>BoomBox</td>\n",
       "      <td>False</td>\n",
       "      <td>44</td>\n",
       "      <td>0.823</td>\n",
       "      <td>0.455</td>\n",
       "      <td>10</td>\n",
       "      <td>-9.245</td>\n",
       "      <td>...</td>\n",
       "      <td>0.356000</td>\n",
       "      <td>0.1240</td>\n",
       "      <td>0.1560</td>\n",
       "      <td>102.024</td>\n",
       "      <td>audio_features</td>\n",
       "      <td>spotify:track:5cio8CvmB7nBA1OxiSYqrg</td>\n",
       "      <td>https://api.spotify.com/v1/tracks/5cio8CvmB7nB...</td>\n",
       "      <td>https://api.spotify.com/v1/audio-analysis/5cio...</td>\n",
       "      <td>9.986667</td>\n",
       "      <td>4</td>\n",
       "    </tr>\n",
       "    <tr>\n",
       "      <th>...</th>\n",
       "      <td>...</td>\n",
       "      <td>...</td>\n",
       "      <td>...</td>\n",
       "      <td>...</td>\n",
       "      <td>...</td>\n",
       "      <td>...</td>\n",
       "      <td>...</td>\n",
       "      <td>...</td>\n",
       "      <td>...</td>\n",
       "      <td>...</td>\n",
       "      <td>...</td>\n",
       "      <td>...</td>\n",
       "      <td>...</td>\n",
       "      <td>...</td>\n",
       "      <td>...</td>\n",
       "      <td>...</td>\n",
       "      <td>...</td>\n",
       "      <td>...</td>\n",
       "      <td>...</td>\n",
       "      <td>...</td>\n",
       "      <td>...</td>\n",
       "    </tr>\n",
       "    <tr>\n",
       "      <th>95</th>\n",
       "      <td>6veGXXMZLNEVYyB8bipmAv</td>\n",
       "      <td>NVSB Remixes</td>\n",
       "      <td>So Butterfly (2014 Version) [D.V.S* Remix]</td>\n",
       "      <td>Bassnectar, D.V.S*</td>\n",
       "      <td>False</td>\n",
       "      <td>0</td>\n",
       "      <td>0.584</td>\n",
       "      <td>0.883</td>\n",
       "      <td>10</td>\n",
       "      <td>-3.176</td>\n",
       "      <td>...</td>\n",
       "      <td>0.331000</td>\n",
       "      <td>0.0863</td>\n",
       "      <td>0.0386</td>\n",
       "      <td>104.993</td>\n",
       "      <td>audio_features</td>\n",
       "      <td>spotify:track:6veGXXMZLNEVYyB8bipmAv</td>\n",
       "      <td>https://api.spotify.com/v1/tracks/6veGXXMZLNEV...</td>\n",
       "      <td>https://api.spotify.com/v1/audio-analysis/6veG...</td>\n",
       "      <td>4.277083</td>\n",
       "      <td>4</td>\n",
       "    </tr>\n",
       "    <tr>\n",
       "      <th>96</th>\n",
       "      <td>4zD13A370cQQIkxQxa17Gp</td>\n",
       "      <td>ZONKEY</td>\n",
       "      <td>Sad Clint Eastwood</td>\n",
       "      <td>Umphrey's McGee</td>\n",
       "      <td>False</td>\n",
       "      <td>43</td>\n",
       "      <td>0.710</td>\n",
       "      <td>0.826</td>\n",
       "      <td>2</td>\n",
       "      <td>-6.963</td>\n",
       "      <td>...</td>\n",
       "      <td>0.005070</td>\n",
       "      <td>0.0687</td>\n",
       "      <td>0.4910</td>\n",
       "      <td>92.989</td>\n",
       "      <td>audio_features</td>\n",
       "      <td>spotify:track:4zD13A370cQQIkxQxa17Gp</td>\n",
       "      <td>https://api.spotify.com/v1/tracks/4zD13A370cQQ...</td>\n",
       "      <td>https://api.spotify.com/v1/audio-analysis/4zD1...</td>\n",
       "      <td>4.383667</td>\n",
       "      <td>4</td>\n",
       "    </tr>\n",
       "    <tr>\n",
       "      <th>97</th>\n",
       "      <td>5H0dVldtI6HJZnEXzigKfY</td>\n",
       "      <td>It's Dark And Hell Is Hot</td>\n",
       "      <td>Ruff Ryders' Anthem</td>\n",
       "      <td>DMX</td>\n",
       "      <td>True</td>\n",
       "      <td>0</td>\n",
       "      <td>0.879</td>\n",
       "      <td>0.573</td>\n",
       "      <td>10</td>\n",
       "      <td>-8.113</td>\n",
       "      <td>...</td>\n",
       "      <td>0.000000</td>\n",
       "      <td>0.2560</td>\n",
       "      <td>0.7300</td>\n",
       "      <td>91.037</td>\n",
       "      <td>audio_features</td>\n",
       "      <td>spotify:track:5H0dVldtI6HJZnEXzigKfY</td>\n",
       "      <td>https://api.spotify.com/v1/tracks/5H0dVldtI6HJ...</td>\n",
       "      <td>https://api.spotify.com/v1/audio-analysis/5H0d...</td>\n",
       "      <td>3.574000</td>\n",
       "      <td>4</td>\n",
       "    </tr>\n",
       "    <tr>\n",
       "      <th>98</th>\n",
       "      <td>4XpQ2F8NtzWMZ3g5t8qv2Y</td>\n",
       "      <td>Tallahassee</td>\n",
       "      <td>No Children</td>\n",
       "      <td>The Mountain Goats</td>\n",
       "      <td>False</td>\n",
       "      <td>47</td>\n",
       "      <td>0.606</td>\n",
       "      <td>0.411</td>\n",
       "      <td>1</td>\n",
       "      <td>-7.566</td>\n",
       "      <td>...</td>\n",
       "      <td>0.000649</td>\n",
       "      <td>0.1030</td>\n",
       "      <td>0.4120</td>\n",
       "      <td>84.944</td>\n",
       "      <td>audio_features</td>\n",
       "      <td>spotify:track:4XpQ2F8NtzWMZ3g5t8qv2Y</td>\n",
       "      <td>https://api.spotify.com/v1/tracks/4XpQ2F8NtzWM...</td>\n",
       "      <td>https://api.spotify.com/v1/audio-analysis/4XpQ...</td>\n",
       "      <td>2.805117</td>\n",
       "      <td>4</td>\n",
       "    </tr>\n",
       "    <tr>\n",
       "      <th>99</th>\n",
       "      <td>6XiIRJj7xO62wWQYn7iWPo</td>\n",
       "      <td>4x4=12</td>\n",
       "      <td>Right This Second</td>\n",
       "      <td>deadmau5</td>\n",
       "      <td>False</td>\n",
       "      <td>26</td>\n",
       "      <td>0.658</td>\n",
       "      <td>0.902</td>\n",
       "      <td>10</td>\n",
       "      <td>-8.328</td>\n",
       "      <td>...</td>\n",
       "      <td>0.858000</td>\n",
       "      <td>0.0690</td>\n",
       "      <td>0.0279</td>\n",
       "      <td>191.994</td>\n",
       "      <td>audio_features</td>\n",
       "      <td>spotify:track:6XiIRJj7xO62wWQYn7iWPo</td>\n",
       "      <td>https://api.spotify.com/v1/tracks/6XiIRJj7xO62...</td>\n",
       "      <td>https://api.spotify.com/v1/audio-analysis/6XiI...</td>\n",
       "      <td>7.825500</td>\n",
       "      <td>3</td>\n",
       "    </tr>\n",
       "  </tbody>\n",
       "</table>\n",
       "<p>100 rows × 23 columns</p>\n",
       "</div>"
      ],
      "text/plain": [
       "                        id                      album  \\\n",
       "0   4DdoBfBEJ2gr6rUlRT34wz                 Red Forest   \n",
       "1   7Jcf74UJvImsHrGOqSS0tG                it's not us   \n",
       "2   2jt2WxXMCD4zjACthkJQVE                   Kamikaze   \n",
       "3   1Jc15fxurf0RSLfiZoslaY                    Inner G   \n",
       "4   5cio8CvmB7nBA1OxiSYqrg        Visions of Backbeat   \n",
       "..                     ...                        ...   \n",
       "95  6veGXXMZLNEVYyB8bipmAv               NVSB Remixes   \n",
       "96  4zD13A370cQQIkxQxa17Gp                     ZONKEY   \n",
       "97  5H0dVldtI6HJZnEXzigKfY  It's Dark And Hell Is Hot   \n",
       "98  4XpQ2F8NtzWMZ3g5t8qv2Y                Tallahassee   \n",
       "99  6XiIRJj7xO62wWQYn7iWPo                     4x4=12   \n",
       "\n",
       "                                          name  \\\n",
       "0                                   Red Forest   \n",
       "1                              You & You Alone   \n",
       "2                                   The Ringer   \n",
       "3                      Inner G (feat. Ganavya)   \n",
       "4                          Midnight on the Run   \n",
       "..                                         ...   \n",
       "95  So Butterfly (2014 Version) [D.V.S* Remix]   \n",
       "96                          Sad Clint Eastwood   \n",
       "97                         Ruff Ryders' Anthem   \n",
       "98                                 No Children   \n",
       "99                           Right This Second   \n",
       "\n",
       "                                 artist  explicit  popularity  danceability  \\\n",
       "0                                CloZee     False           0         0.629   \n",
       "1                       Umphrey's McGee     False          45         0.514   \n",
       "2                                Eminem      True          72         0.939   \n",
       "3   Zebbler Encanti Experience, Ganavya     False          37         0.618   \n",
       "4                               BoomBox     False          44         0.823   \n",
       "..                                  ...       ...         ...           ...   \n",
       "95                   Bassnectar, D.V.S*     False           0         0.584   \n",
       "96                      Umphrey's McGee     False          43         0.710   \n",
       "97                                  DMX      True           0         0.879   \n",
       "98                   The Mountain Goats     False          47         0.606   \n",
       "99                             deadmau5     False          26         0.658   \n",
       "\n",
       "    energy  key  loudness  ...  instrumentalness  liveness  valence    tempo  \\\n",
       "0    0.746    7    -4.899  ...          0.651000    0.1710   0.3020  100.004   \n",
       "1    0.282    0   -13.793  ...          0.000021    0.1140   0.1170   89.942   \n",
       "2    0.551    1    -9.126  ...          0.000000    0.1920   0.4200  118.552   \n",
       "3    0.825    1    -5.711  ...          0.712000    0.1030   0.0467  159.998   \n",
       "4    0.455   10    -9.245  ...          0.356000    0.1240   0.1560  102.024   \n",
       "..     ...  ...       ...  ...               ...       ...      ...      ...   \n",
       "95   0.883   10    -3.176  ...          0.331000    0.0863   0.0386  104.993   \n",
       "96   0.826    2    -6.963  ...          0.005070    0.0687   0.4910   92.989   \n",
       "97   0.573   10    -8.113  ...          0.000000    0.2560   0.7300   91.037   \n",
       "98   0.411    1    -7.566  ...          0.000649    0.1030   0.4120   84.944   \n",
       "99   0.902   10    -8.328  ...          0.858000    0.0690   0.0279  191.994   \n",
       "\n",
       "              type                                   uri  \\\n",
       "0   audio_features  spotify:track:4DdoBfBEJ2gr6rUlRT34wz   \n",
       "1   audio_features  spotify:track:7Jcf74UJvImsHrGOqSS0tG   \n",
       "2   audio_features  spotify:track:2jt2WxXMCD4zjACthkJQVE   \n",
       "3   audio_features  spotify:track:1Jc15fxurf0RSLfiZoslaY   \n",
       "4   audio_features  spotify:track:5cio8CvmB7nBA1OxiSYqrg   \n",
       "..             ...                                   ...   \n",
       "95  audio_features  spotify:track:6veGXXMZLNEVYyB8bipmAv   \n",
       "96  audio_features  spotify:track:4zD13A370cQQIkxQxa17Gp   \n",
       "97  audio_features  spotify:track:5H0dVldtI6HJZnEXzigKfY   \n",
       "98  audio_features  spotify:track:4XpQ2F8NtzWMZ3g5t8qv2Y   \n",
       "99  audio_features  spotify:track:6XiIRJj7xO62wWQYn7iWPo   \n",
       "\n",
       "                                           track_href  \\\n",
       "0   https://api.spotify.com/v1/tracks/4DdoBfBEJ2gr...   \n",
       "1   https://api.spotify.com/v1/tracks/7Jcf74UJvIms...   \n",
       "2   https://api.spotify.com/v1/tracks/2jt2WxXMCD4z...   \n",
       "3   https://api.spotify.com/v1/tracks/1Jc15fxurf0R...   \n",
       "4   https://api.spotify.com/v1/tracks/5cio8CvmB7nB...   \n",
       "..                                                ...   \n",
       "95  https://api.spotify.com/v1/tracks/6veGXXMZLNEV...   \n",
       "96  https://api.spotify.com/v1/tracks/4zD13A370cQQ...   \n",
       "97  https://api.spotify.com/v1/tracks/5H0dVldtI6HJ...   \n",
       "98  https://api.spotify.com/v1/tracks/4XpQ2F8NtzWM...   \n",
       "99  https://api.spotify.com/v1/tracks/6XiIRJj7xO62...   \n",
       "\n",
       "                                         analysis_url duration_ms  \\\n",
       "0   https://api.spotify.com/v1/audio-analysis/4Ddo...    3.555000   \n",
       "1   https://api.spotify.com/v1/audio-analysis/7Jcf...    3.979367   \n",
       "2   https://api.spotify.com/v1/audio-analysis/2jt2...    5.632350   \n",
       "3   https://api.spotify.com/v1/audio-analysis/1Jc1...    4.200000   \n",
       "4   https://api.spotify.com/v1/audio-analysis/5cio...    9.986667   \n",
       "..                                                ...         ...   \n",
       "95  https://api.spotify.com/v1/audio-analysis/6veG...    4.277083   \n",
       "96  https://api.spotify.com/v1/audio-analysis/4zD1...    4.383667   \n",
       "97  https://api.spotify.com/v1/audio-analysis/5H0d...    3.574000   \n",
       "98  https://api.spotify.com/v1/audio-analysis/4XpQ...    2.805117   \n",
       "99  https://api.spotify.com/v1/audio-analysis/6XiI...    7.825500   \n",
       "\n",
       "   time_signature  \n",
       "0               4  \n",
       "1               3  \n",
       "2               4  \n",
       "3               4  \n",
       "4               4  \n",
       "..            ...  \n",
       "95              4  \n",
       "96              4  \n",
       "97              4  \n",
       "98              4  \n",
       "99              3  \n",
       "\n",
       "[100 rows x 23 columns]"
      ]
     },
     "execution_count": 3,
     "metadata": {},
     "output_type": "execute_result"
    }
   ],
   "source": [
    "final_df"
   ]
  },
  {
   "cell_type": "code",
   "execution_count": 4,
   "metadata": {},
   "outputs": [],
   "source": [
    "music_feature = features_df[['danceability','energy','loudness','speechiness','acousticness','instrumentalness','liveness','valence','tempo','duration_ms']]"
   ]
  },
  {
   "cell_type": "code",
   "execution_count": 5,
   "metadata": {},
   "outputs": [
    {
     "data": {
      "text/html": [
       "<div>\n",
       "<style scoped>\n",
       "    .dataframe tbody tr th:only-of-type {\n",
       "        vertical-align: middle;\n",
       "    }\n",
       "\n",
       "    .dataframe tbody tr th {\n",
       "        vertical-align: top;\n",
       "    }\n",
       "\n",
       "    .dataframe thead th {\n",
       "        text-align: right;\n",
       "    }\n",
       "</style>\n",
       "<table border=\"1\" class=\"dataframe\">\n",
       "  <thead>\n",
       "    <tr style=\"text-align: right;\">\n",
       "      <th></th>\n",
       "      <th>danceability</th>\n",
       "      <th>energy</th>\n",
       "      <th>loudness</th>\n",
       "      <th>speechiness</th>\n",
       "      <th>acousticness</th>\n",
       "      <th>instrumentalness</th>\n",
       "      <th>liveness</th>\n",
       "      <th>valence</th>\n",
       "      <th>tempo</th>\n",
       "      <th>duration_ms</th>\n",
       "    </tr>\n",
       "  </thead>\n",
       "  <tbody>\n",
       "    <tr>\n",
       "      <th>count</th>\n",
       "      <td>100.000000</td>\n",
       "      <td>100.00000</td>\n",
       "      <td>100.000000</td>\n",
       "      <td>100.000000</td>\n",
       "      <td>100.000000</td>\n",
       "      <td>100.000000</td>\n",
       "      <td>100.000000</td>\n",
       "      <td>100.000000</td>\n",
       "      <td>100.000000</td>\n",
       "      <td>100.000000</td>\n",
       "    </tr>\n",
       "    <tr>\n",
       "      <th>mean</th>\n",
       "      <td>0.531992</td>\n",
       "      <td>0.63650</td>\n",
       "      <td>-9.067930</td>\n",
       "      <td>0.177718</td>\n",
       "      <td>0.292319</td>\n",
       "      <td>0.256898</td>\n",
       "      <td>0.286347</td>\n",
       "      <td>0.361723</td>\n",
       "      <td>117.509360</td>\n",
       "      <td>5.142458</td>\n",
       "    </tr>\n",
       "    <tr>\n",
       "      <th>std</th>\n",
       "      <td>0.204937</td>\n",
       "      <td>0.25043</td>\n",
       "      <td>4.935737</td>\n",
       "      <td>0.263158</td>\n",
       "      <td>0.327186</td>\n",
       "      <td>0.350940</td>\n",
       "      <td>0.277784</td>\n",
       "      <td>0.227727</td>\n",
       "      <td>31.352656</td>\n",
       "      <td>2.616950</td>\n",
       "    </tr>\n",
       "    <tr>\n",
       "      <th>min</th>\n",
       "      <td>0.086200</td>\n",
       "      <td>0.03210</td>\n",
       "      <td>-32.418000</td>\n",
       "      <td>0.026800</td>\n",
       "      <td>0.000027</td>\n",
       "      <td>0.000000</td>\n",
       "      <td>0.022300</td>\n",
       "      <td>0.027900</td>\n",
       "      <td>50.324000</td>\n",
       "      <td>1.925333</td>\n",
       "    </tr>\n",
       "    <tr>\n",
       "      <th>25%</th>\n",
       "      <td>0.382250</td>\n",
       "      <td>0.46550</td>\n",
       "      <td>-11.367750</td>\n",
       "      <td>0.038650</td>\n",
       "      <td>0.018450</td>\n",
       "      <td>0.000009</td>\n",
       "      <td>0.105250</td>\n",
       "      <td>0.187000</td>\n",
       "      <td>92.401000</td>\n",
       "      <td>3.645775</td>\n",
       "    </tr>\n",
       "    <tr>\n",
       "      <th>50%</th>\n",
       "      <td>0.524000</td>\n",
       "      <td>0.67950</td>\n",
       "      <td>-8.199500</td>\n",
       "      <td>0.057300</td>\n",
       "      <td>0.129000</td>\n",
       "      <td>0.006100</td>\n",
       "      <td>0.128500</td>\n",
       "      <td>0.338500</td>\n",
       "      <td>116.641500</td>\n",
       "      <td>4.395500</td>\n",
       "    </tr>\n",
       "    <tr>\n",
       "      <th>75%</th>\n",
       "      <td>0.666000</td>\n",
       "      <td>0.84950</td>\n",
       "      <td>-5.327000</td>\n",
       "      <td>0.161750</td>\n",
       "      <td>0.604250</td>\n",
       "      <td>0.651500</td>\n",
       "      <td>0.375250</td>\n",
       "      <td>0.556500</td>\n",
       "      <td>138.193500</td>\n",
       "      <td>5.638908</td>\n",
       "    </tr>\n",
       "    <tr>\n",
       "      <th>max</th>\n",
       "      <td>0.939000</td>\n",
       "      <td>0.97900</td>\n",
       "      <td>-1.803000</td>\n",
       "      <td>0.963000</td>\n",
       "      <td>0.986000</td>\n",
       "      <td>0.956000</td>\n",
       "      <td>0.989000</td>\n",
       "      <td>0.922000</td>\n",
       "      <td>191.994000</td>\n",
       "      <td>21.651783</td>\n",
       "    </tr>\n",
       "  </tbody>\n",
       "</table>\n",
       "</div>"
      ],
      "text/plain": [
       "       danceability     energy    loudness  speechiness  acousticness  \\\n",
       "count    100.000000  100.00000  100.000000   100.000000    100.000000   \n",
       "mean       0.531992    0.63650   -9.067930     0.177718      0.292319   \n",
       "std        0.204937    0.25043    4.935737     0.263158      0.327186   \n",
       "min        0.086200    0.03210  -32.418000     0.026800      0.000027   \n",
       "25%        0.382250    0.46550  -11.367750     0.038650      0.018450   \n",
       "50%        0.524000    0.67950   -8.199500     0.057300      0.129000   \n",
       "75%        0.666000    0.84950   -5.327000     0.161750      0.604250   \n",
       "max        0.939000    0.97900   -1.803000     0.963000      0.986000   \n",
       "\n",
       "       instrumentalness    liveness     valence       tempo  duration_ms  \n",
       "count        100.000000  100.000000  100.000000  100.000000   100.000000  \n",
       "mean           0.256898    0.286347    0.361723  117.509360     5.142458  \n",
       "std            0.350940    0.277784    0.227727   31.352656     2.616950  \n",
       "min            0.000000    0.022300    0.027900   50.324000     1.925333  \n",
       "25%            0.000009    0.105250    0.187000   92.401000     3.645775  \n",
       "50%            0.006100    0.128500    0.338500  116.641500     4.395500  \n",
       "75%            0.651500    0.375250    0.556500  138.193500     5.638908  \n",
       "max            0.956000    0.989000    0.922000  191.994000    21.651783  "
      ]
     },
     "execution_count": 5,
     "metadata": {},
     "output_type": "execute_result"
    }
   ],
   "source": [
    "music_feature.describe()"
   ]
  },
  {
   "cell_type": "code",
   "execution_count": 6,
   "metadata": {},
   "outputs": [],
   "source": [
    "from sklearn.preprocessing import MinMaxScaler"
   ]
  },
  {
   "cell_type": "code",
   "execution_count": 7,
   "metadata": {},
   "outputs": [],
   "source": [
    "scaler = MinMaxScaler()"
   ]
  },
  {
   "cell_type": "code",
   "execution_count": 8,
   "metadata": {},
   "outputs": [],
   "source": [
    "df_scaled = pd.DataFrame(scaler.fit_transform(music_feature), columns=music_feature.columns)"
   ]
  },
  {
   "cell_type": "code",
   "execution_count": 9,
   "metadata": {
    "scrolled": true
   },
   "outputs": [
    {
     "data": {
      "text/html": [
       "<div>\n",
       "<style scoped>\n",
       "    .dataframe tbody tr th:only-of-type {\n",
       "        vertical-align: middle;\n",
       "    }\n",
       "\n",
       "    .dataframe tbody tr th {\n",
       "        vertical-align: top;\n",
       "    }\n",
       "\n",
       "    .dataframe thead th {\n",
       "        text-align: right;\n",
       "    }\n",
       "</style>\n",
       "<table border=\"1\" class=\"dataframe\">\n",
       "  <thead>\n",
       "    <tr style=\"text-align: right;\">\n",
       "      <th></th>\n",
       "      <th>danceability</th>\n",
       "      <th>energy</th>\n",
       "      <th>loudness</th>\n",
       "      <th>speechiness</th>\n",
       "      <th>acousticness</th>\n",
       "      <th>instrumentalness</th>\n",
       "      <th>liveness</th>\n",
       "      <th>valence</th>\n",
       "      <th>tempo</th>\n",
       "      <th>duration_ms</th>\n",
       "    </tr>\n",
       "  </thead>\n",
       "  <tbody>\n",
       "    <tr>\n",
       "      <th>0</th>\n",
       "      <td>0.636492</td>\n",
       "      <td>0.753934</td>\n",
       "      <td>0.898873</td>\n",
       "      <td>0.021897</td>\n",
       "      <td>0.000358</td>\n",
       "      <td>0.680962</td>\n",
       "      <td>0.153822</td>\n",
       "      <td>0.306565</td>\n",
       "      <td>0.350674</td>\n",
       "      <td>0.082613</td>\n",
       "    </tr>\n",
       "    <tr>\n",
       "      <th>1</th>\n",
       "      <td>0.501642</td>\n",
       "      <td>0.263914</td>\n",
       "      <td>0.608362</td>\n",
       "      <td>0.003632</td>\n",
       "      <td>0.450289</td>\n",
       "      <td>0.000022</td>\n",
       "      <td>0.094859</td>\n",
       "      <td>0.099653</td>\n",
       "      <td>0.279650</td>\n",
       "      <td>0.104126</td>\n",
       "    </tr>\n",
       "    <tr>\n",
       "      <th>2</th>\n",
       "      <td>1.000000</td>\n",
       "      <td>0.547999</td>\n",
       "      <td>0.760804</td>\n",
       "      <td>0.282205</td>\n",
       "      <td>0.031515</td>\n",
       "      <td>0.000000</td>\n",
       "      <td>0.175546</td>\n",
       "      <td>0.438542</td>\n",
       "      <td>0.481598</td>\n",
       "      <td>0.187921</td>\n",
       "    </tr>\n",
       "    <tr>\n",
       "      <th>3</th>\n",
       "      <td>0.623593</td>\n",
       "      <td>0.837364</td>\n",
       "      <td>0.872350</td>\n",
       "      <td>0.044755</td>\n",
       "      <td>0.077865</td>\n",
       "      <td>0.744770</td>\n",
       "      <td>0.083480</td>\n",
       "      <td>0.021027</td>\n",
       "      <td>0.774151</td>\n",
       "      <td>0.115310</td>\n",
       "    </tr>\n",
       "    <tr>\n",
       "      <th>4</th>\n",
       "      <td>0.863977</td>\n",
       "      <td>0.446615</td>\n",
       "      <td>0.756917</td>\n",
       "      <td>0.045824</td>\n",
       "      <td>0.060927</td>\n",
       "      <td>0.372385</td>\n",
       "      <td>0.105203</td>\n",
       "      <td>0.143273</td>\n",
       "      <td>0.364933</td>\n",
       "      <td>0.408656</td>\n",
       "    </tr>\n",
       "    <tr>\n",
       "      <th>...</th>\n",
       "      <td>...</td>\n",
       "      <td>...</td>\n",
       "      <td>...</td>\n",
       "      <td>...</td>\n",
       "      <td>...</td>\n",
       "      <td>...</td>\n",
       "      <td>...</td>\n",
       "      <td>...</td>\n",
       "      <td>...</td>\n",
       "      <td>...</td>\n",
       "    </tr>\n",
       "    <tr>\n",
       "      <th>95</th>\n",
       "      <td>0.583724</td>\n",
       "      <td>0.898617</td>\n",
       "      <td>0.955153</td>\n",
       "      <td>0.008759</td>\n",
       "      <td>0.004759</td>\n",
       "      <td>0.346234</td>\n",
       "      <td>0.066205</td>\n",
       "      <td>0.011967</td>\n",
       "      <td>0.385890</td>\n",
       "      <td>0.119218</td>\n",
       "    </tr>\n",
       "    <tr>\n",
       "      <th>96</th>\n",
       "      <td>0.731473</td>\n",
       "      <td>0.838420</td>\n",
       "      <td>0.831455</td>\n",
       "      <td>0.019013</td>\n",
       "      <td>0.002701</td>\n",
       "      <td>0.005303</td>\n",
       "      <td>0.047998</td>\n",
       "      <td>0.517951</td>\n",
       "      <td>0.301158</td>\n",
       "      <td>0.124621</td>\n",
       "    </tr>\n",
       "    <tr>\n",
       "      <th>97</th>\n",
       "      <td>0.929644</td>\n",
       "      <td>0.571232</td>\n",
       "      <td>0.793892</td>\n",
       "      <td>0.297159</td>\n",
       "      <td>0.064477</td>\n",
       "      <td>0.000000</td>\n",
       "      <td>0.241750</td>\n",
       "      <td>0.785259</td>\n",
       "      <td>0.287379</td>\n",
       "      <td>0.083576</td>\n",
       "    </tr>\n",
       "    <tr>\n",
       "      <th>98</th>\n",
       "      <td>0.609522</td>\n",
       "      <td>0.400148</td>\n",
       "      <td>0.811759</td>\n",
       "      <td>0.015488</td>\n",
       "      <td>0.608508</td>\n",
       "      <td>0.000679</td>\n",
       "      <td>0.083480</td>\n",
       "      <td>0.429594</td>\n",
       "      <td>0.244371</td>\n",
       "      <td>0.044599</td>\n",
       "    </tr>\n",
       "    <tr>\n",
       "      <th>99</th>\n",
       "      <td>0.670497</td>\n",
       "      <td>0.918682</td>\n",
       "      <td>0.786869</td>\n",
       "      <td>0.049776</td>\n",
       "      <td>0.013664</td>\n",
       "      <td>0.897490</td>\n",
       "      <td>0.048309</td>\n",
       "      <td>0.000000</td>\n",
       "      <td>1.000000</td>\n",
       "      <td>0.299099</td>\n",
       "    </tr>\n",
       "  </tbody>\n",
       "</table>\n",
       "<p>100 rows × 10 columns</p>\n",
       "</div>"
      ],
      "text/plain": [
       "    danceability    energy  loudness  speechiness  acousticness  \\\n",
       "0       0.636492  0.753934  0.898873     0.021897      0.000358   \n",
       "1       0.501642  0.263914  0.608362     0.003632      0.450289   \n",
       "2       1.000000  0.547999  0.760804     0.282205      0.031515   \n",
       "3       0.623593  0.837364  0.872350     0.044755      0.077865   \n",
       "4       0.863977  0.446615  0.756917     0.045824      0.060927   \n",
       "..           ...       ...       ...          ...           ...   \n",
       "95      0.583724  0.898617  0.955153     0.008759      0.004759   \n",
       "96      0.731473  0.838420  0.831455     0.019013      0.002701   \n",
       "97      0.929644  0.571232  0.793892     0.297159      0.064477   \n",
       "98      0.609522  0.400148  0.811759     0.015488      0.608508   \n",
       "99      0.670497  0.918682  0.786869     0.049776      0.013664   \n",
       "\n",
       "    instrumentalness  liveness   valence     tempo  duration_ms  \n",
       "0           0.680962  0.153822  0.306565  0.350674     0.082613  \n",
       "1           0.000022  0.094859  0.099653  0.279650     0.104126  \n",
       "2           0.000000  0.175546  0.438542  0.481598     0.187921  \n",
       "3           0.744770  0.083480  0.021027  0.774151     0.115310  \n",
       "4           0.372385  0.105203  0.143273  0.364933     0.408656  \n",
       "..               ...       ...       ...       ...          ...  \n",
       "95          0.346234  0.066205  0.011967  0.385890     0.119218  \n",
       "96          0.005303  0.047998  0.517951  0.301158     0.124621  \n",
       "97          0.000000  0.241750  0.785259  0.287379     0.083576  \n",
       "98          0.000679  0.083480  0.429594  0.244371     0.044599  \n",
       "99          0.897490  0.048309  0.000000  1.000000     0.299099  \n",
       "\n",
       "[100 rows x 10 columns]"
      ]
     },
     "execution_count": 9,
     "metadata": {},
     "output_type": "execute_result"
    }
   ],
   "source": [
    "df_scaled"
   ]
  },
  {
   "cell_type": "code",
   "execution_count": 10,
   "metadata": {},
   "outputs": [],
   "source": [
    "# convert column names into a list\n",
    "categories=list(music_feature.columns)\n",
    "# number of categories\n",
    "N=len(categories)"
   ]
  },
  {
   "cell_type": "code",
   "execution_count": 11,
   "metadata": {},
   "outputs": [],
   "source": [
    "# create a list with the average of all features\n",
    "value=list(music_feature.mean())"
   ]
  },
  {
   "cell_type": "code",
   "execution_count": null,
   "metadata": {
    "scrolled": true
   },
   "outputs": [],
   "source": []
  },
  {
   "cell_type": "code",
   "execution_count": 12,
   "metadata": {},
   "outputs": [],
   "source": [
    "engine = create_engine('sqlite://', echo=False)"
   ]
  },
  {
   "cell_type": "code",
   "execution_count": 13,
   "metadata": {
    "scrolled": true
   },
   "outputs": [
    {
     "data": {
      "text/plain": [
       "[(0, 0.6364915572232646, 0.7539338895342699, 0.8988731014208722, 0.02189703054902799, 0.00035771781510786257, 0.6809623430962343, 0.1538222819902762, 0.30656526115647015, 0.35067410178584035, 0.08261327642158964),\n",
       " (1, 0.5016416510318948, 0.2639138240574506, 0.6083619140943982, 0.0036317026276436702, 0.45028903944297854, 2.1757322175732217e-05, 0.0948587979724837, 0.09965328263057824, 0.2796498905908096, 0.10412584795203056),\n",
       " (2, 0.9999999999999998, 0.5479987327067274, 0.7608035276825087, 0.282204657124546, 0.031514767092435725, 0.0, 0.17554567083893657, 0.4385415501621742, 0.48159808004517535, 0.1879211245138718),\n",
       " (3, 0.6235928705440901, 0.8373640299926075, 0.872350155152703, 0.04475539414654987, 0.07786493479991889, 0.7447698744769874, 0.08347988000413778, 0.021026730790739287, 0.7741511964424364, 0.11531049259581258),\n",
       " (4, 0.8639774859287055, 0.4466152708839371, 0.7569165441776907, 0.045823541978209786, 0.06092734616282987, 0.3723849372384937, 0.10520326885279818, 0.14327256459009058, 0.36493258982141585, 0.4086560599263087),\n",
       " (5, 0.7443714821763603, 0.5817932199809907, 0.8096357994447166, 0.08993804742576372, 0.2596143889176648, 0.0055753138075313805, 0.09072100962035791, 0.3390001118443127, 0.3935483870967742, 0.07365322532268434),\n",
       " (6, 0.5133677298311445, 0.8563734290843807, 0.8342642495508739, 0.005661183507797474, 0.08719582195328532, 0.8556485355648534, 0.48484535016033925, 0.587294486075383, 0.42827698171807715, 0.06269078656659796),\n",
       " (7, 0.8475609756097562, 0.713802935896082, 0.8230279274865262, 0.11557359538560137, 0.03841150977101091, 0.7248953974895397, 0.04375711182373021, 0.33340789620847777, 0.3506317498411802, 0.10221470833998686),\n",
       " (8, 0.6282833020637899, 0.6430457281655931, 0.7941858566062387, 0.5075838496047854, 0.5040430632612851, 0.007740585774058577, 0.16830454122271646, 0.7416396376244266, 0.7039810827980517, 0.0321733848039899),\n",
       " (9, 0.34451219512195125, 0.4518956595205408, 0.656083619140944, 0.007049775688955349, 0.625750287000847, 0.9707112970711297, 0.11554773973311266, 0.4228833463818365, 0.7757323357097479, 0.12204679503914795),\n",
       " (10, 0.798311444652908, 0.5089238567958603, 0.8422015351951658, 0.0500961333048494, 0.1480494338230663, 0.026359832635983262, 0.10830661011689252, 0.5101219103008612, 0.2799675301757605, 0.13671407340567276),\n",
       " (11, 0.6364915572232646, 0.8658781286302673, 0.8925036746692798, 0.027024140140995512, 0.08770293538553349, 0.02248953974895397, 0.24899141408916933, 0.43294933452633927, 0.3859179784005081, 0.08416026874239071),\n",
       " (12, 0.47936210131332085, 0.98521491181751, 0.9620774130328271, 0.17218543046357618, 0.0026802973348045035, 0.0, 0.05586014275369815, 0.25287999105245496, 0.35084350956448085, 0.0),\n",
       " (13, 0.8135553470919326, 0.8194107086281552, 0.8898579127878492, 0.488357188634907, 0.11356572043019042, 0.0, 0.3172649218992448, 0.6868359243932446, 0.20934566245500097, 0.08491897933992179),\n",
       " (14, 0.47936210131332085, 0.6335410286197065, 0.7950351135064511, 0.012497329630420852, 0.23324449044075968, 0.00705020920502092, 0.08865211544429502, 0.011743652835253325, 0.6767276064092609, 0.19616217481266693),\n",
       " (15, 0.5063320825515947, 0.27869891223994087, 0.6617671076269802, 0.0, 0.7241302928569929, 0.01307531380753138, 0.0703424019861384, 0.3099205905379711, 0.6321733606268086, 0.21451148077834584),\n",
       " (16, 0.3151969981238274, 0.9292427922695112, 0.951984321411073, 0.08886989959410382, 0.0002268825495878334, 0.0037866108786610876, 0.37829730009310025, 0.1611676546247623, 0.528453448154161, 0.12621716865764832),\n",
       " (17, 0.05370544090056287, 0.015101911500686446, 0.49743589743589745, 0.013565477462080752, 0.9949288656775183, 0.9864016736401673, 0.05492914037446983, 0.010513365395369643, 0.18078633443918968, 0.13978947048252474),\n",
       " (18, 0.5590994371482176, 0.8796071390854368, 0.8865262126408624, 0.14227729117709892, 0.047843819610826954, 0.0001997907949790795, 0.7734560877211131, 0.6409797561793982, 0.747843580151055, 0.07932919168595126),\n",
       " (19, 0.3433395872420263, 0.33361495406061886, 0.6374652947901356, 0.0008545182653279214, 0.22513067552478888, 0.0024581589958158996, 0.784835005689459, 0.21932669723744547, 0.19173431213383207, 0.2555055099456145),\n",
       " (20, 0.5075046904315197, 0.674728059985215, 0.7510044096031357, 0.01762443922238838, 0.4158053260501026, 0.9999999999999999, 0.09072100962035791, 0.5738731685493793, 0.61574080609868, 0.10949765416483961),\n",
       " (21, 0.3679643527204503, 0.5131481677051432, 0.7418585660623878, 0.008331553086947236, 0.3377098574838837, 0.005711297071129706, 0.11140995138098686, 0.07549491108377138, 0.1832498058869203, 0.10260335742112747),\n",
       " (22, 0.3304409005628518, 0.8225789418101174, 0.7469867711905929, 0.01281777397991882, 0.2028176845058692, 0.5219665271966527, 0.3400227578359366, 0.44860753830667705, 0.8869485423872379, 0.23517240388750468),\n",
       " (23, 0.7279549718574108, 0.6874009927130639, 0.7738036910011432, 0.044328135013885925, 0.18659005467392759, 0.0011297071129707113, 0.08865211544429502, 0.6029526898557207, 0.46364791416672546, 0.1082362344297462),\n",
       " (24, 0.9589587242026265, 0.7644946668074771, 0.9365343785725951, 0.31318094424268317, 0.07015681062974664, 0.0, 0.32760939277955936, 0.35130298624314954, 0.6330274581774545, 0.14580001301129533),\n",
       " (25, 0.44652908067542213, 0.6557186608934419, 0.8188469704393272, 0.001922666096987824, 0.6277787407298397, 1.2761506276150628e-05, 0.6151856832523016, 0.6230846661447265, 0.20211759723300626, 0.10157850669194576),\n",
       " (26, 0.5356472795497187, 0.53743795543352, 0.45631226522946267, 0.9615466780602436, 0.8914777254988907, 0.0, 0.7693182993689873, 0.21037915222010958, 0.6016587844991882, 0.36424867795945715),\n",
       " (27, 0.06660412757973733, 0.0, 0.0, 0.020508438367870117, 0.8164249375261609, 0.756276150627615, 0.09072100962035791, 0.013085784587853713, 0.6245711865603161, 0.15649884630365155),\n",
       " (28, 0.40196998123827393, 0.9070651599957759, 0.9039359790952148, 0.01666310617389447, 7.779120050687002e-05, 0.1631799163179916, 0.3007137684907417, 0.49781903590202436, 0.8805039881414554, 0.04771934804961528),\n",
       " (29, 0.38555347091932457, 0.8753828281761539, 0.923207577984648, 0.1209143345439009, 0.07867631629151599, 0.0, 0.9596565635667735, 0.38709316631249296, 0.531601609373897, 0.07655795475955718),\n",
       " (30, 0.4711538461538461, 0.8722145949941916, 0.8113343132451414, 0.004699850459303569, 0.0007684796952288842, 0.2217573221757322, 0.09175545670838936, 0.655519516832569, 0.3363379685183877, 0.33207529315546724),\n",
       " (31, 0.2893996247654784, 0.5363818777061993, 0.7800097991180794, 0.023606067079683827, 0.04987227333981966, 0.8493723849372385, 0.06982517844212269, 0.6946650262834134, 0.8938942613114984, 0.11801413837766042),\n",
       " (32, 0.13344277673545968, 0.08015629950364347, 0.4270782296260003, 0.014526810510574664, 0.9827581433035621, 0.7709205020920502, 0.6979414502948174, 0.00872385639190247, 0.35732335709748, 0.15039029661528897),\n",
       " (33, 0.5204033771106942, 0.44450311542929566, 0.6051935325820677, 0.019119846186712235, 0.416819552914599, 0.8744769874476986, 0.09899658632460948, 0.3076837042836371, 0.9149502364650242, 0.08282196408037601),\n",
       " (34, 0.6130393996247654, 0.7623825113528356, 0.8159398987424465, 0.0057679982909634685, 0.002000765335591949, 0.01610878661087866, 0.07375607737664218, 0.4843977183760205, 0.5341850779981646, 0.14011644264426695),\n",
       " (35, 0.9601313320825515, 0.8996726159045307, 0.9257553486852851, 0.22345652638325145, 0.11255149356569406, 8.692468619246862e-05, 0.08761766835626357, 0.6264399955262274, 0.5980376932307474, 0.059570610356484144),\n",
       " (36, 0.4289399624765478, 0.8869996831766819, 0.8854809733790626, 0.014313180944242682, 0.02613936471060507, 3.838912133891213e-05, 0.9565532223026791, 0.6051895761100547, 0.4122538293216629, 0.23857392823679205),\n",
       " (37, 0.5309568480300189, 0.9493082690886051, 1.0, 0.2512283700064089, 0.0006954553609851469, 0.0, 0.18795903589531393, 0.7349289788614249, 0.24879649890590805, 0.10734572110035004),\n",
       " (38, 0.10060975609756095, 0.13401626359700075, 0.5239588437040666, 0.027878658406323437, 0.8296098867646132, 0.12656903765690375, 0.38346953553325747, 0.13768034895425565, 0.945133055692807, 0.1920374252167352),\n",
       " (39, 0.4875703564727955, 0.9862709895448305, 0.9322880940715336, 0.07242042298654135, 0.005804116077453261, 1.6317991631799164e-06, 0.09796213923657805, 0.6823621518845766, 0.7737982635702689, 0.10146529152483089),\n",
       " (40, 0.2905722326454034, 0.6884570704403846, 0.7545974195655725, 0.013351847895748777, 0.08841289419068094, 0.05805439330543933, 0.03227474914658115, 0.5559780785147075, 0.2871744194254252, 0.2502511433464545),\n",
       " (41, 0.44887429643527205, 0.0710740310486852, 0.6504981218357015, 0.02883999145481735, 0.953345564233168, 0.0, 0.05596358746250128, 0.2025500503299407, 0.16416319616009034, 0.05078545134409215),\n",
       " (42, 0.49226078799249534, 0.8077938536276271, 0.7650171484566389, 0.9861140781884213, 0.7190591585345112, 0.0, 0.8903486086686666, 0.2897886142489654, 0.17910637396767126, 0.1829582447255673),\n",
       " (43, 0.8780487804878048, 0.8722145949941916, 0.8485382982198268, 0.012710959196752827, 0.08496452285139335, 0.04288702928870293, 0.0, 0.9843417962196622, 0.45469047787110883, 0.1347894155647198),\n",
       " (44, 0.5168855534709194, 0.4518956595205408, 0.69145843540748, 0.024781029694509727, 0.4949150214808179, 0.9801255230125523, 0.3462294403641253, 0.1276143608097528, 0.28711089150843505, 0.25019960509873806),\n",
       " (45, 0.1580675422138837, 0.05892913718449679, 0.5037399967336273, 0.01207007049775689, 0.15717747560353346, 0.7301255230125522, 0.06682528188683148, 0.013645006151437197, 0.5385614456130443, 0.13520510110367892),\n",
       " (46, 0.0, 0.2375118808744324, 0.4004572921770374, 0.011429181798760946, 0.8032399882877083, 0.9916317991631798, 0.08865211544429502, 0.05625768929649927, 0.1619397190654338, 1.0000000000000002),\n",
       " (47, 0.6001407129455909, 0.6726159045305736, 0.8076759758288421, 0.001388592181157871, 0.2444009859502195, 0.4476987447698744, 0.1124443984690183, 0.30097304552063525, 0.47257711583256856, 0.14788942426707963),\n",
       " (48, 0.1651031894934334, 0.08226845495828494, 0.5495018781642985, 0.00854518265327921, 0.9553740179621606, 0.9048117154811715, 0.08761766835626357, 0.07493568952018789, 0.5889884943883672, 0.5229417017929396),\n",
       " (49, 0.7420262664165103, 0.7127468581687613, 0.9021068103870652, 0.0012817773979918838, 0.1602201561970225, 4.539748953974895e-06, 0.0969276921485466, 0.6991387987920814, 0.4497000070586574, 0.09334337061829845),\n",
       " (50, 0.9507504690431519, 0.5564473545252933, 0.788829005389515, 0.3762016663106174, 0.15717747560353346, 0.00013284518828451881, 0.28312816799420704, 0.725981433844089, 0.3999929413425566, 0.12578712000047312),\n",
       " (51, 0.6787054409005628, 0.4096525504277115, 0.4692144373673036, 0.9839777825251016, 0.889449271769898, 0.0, 0.7372504396400124, 0.37702717816799014, 0.45398461212677343, 0.12465496832932432),\n",
       " (52, 0.5731707317073169, 0.8341957968106454, 0.7384288747346073, 0.00801110873744926, 0.004637755183282458, 0.0008514644351464435, 0.08658322126823212, 0.4765686164858517, 0.7033881555728101, 0.12908979230086168),\n",
       " (53, 0.4301125703564728, 0.9112894709050587, 0.7770700636942676, 0.9829096346934417, 0.7271729734504819, 0.0, 0.8965552911968553, 0.21149759534727658, 0.2204206959836239, 0.023701679724430894),\n",
       " (54, 0.16158536585365857, 0.4878023022494456, 0.6590560182916871, 0.010040589617603079, 0.04764097423792769, 0.0016527196652719664, 1.0, 0.21261603847444355, 0.5169901884661536, 0.3833659883050422),\n",
       " (55, 0.4007973733583489, 0.7285880240785723, 0.7304262616364527, 0.007370220038453324, 0.0029135695136386633, 0.2290794979079498, 0.028654184338471084, 0.2349849010177832, 0.9436225029999292, 0.2809535758672578),\n",
       " (56, 0.2589118198874296, 0.9155137818143417, 0.9471827535521804, 0.14975432599871824, 0.0001690716183115415, 0.00018723849372384935, 0.28312816799420704, 0.17794430153226706, 0.5306981012211476, 0.18925098028281825),\n",
       " (57, 0.7138836772983115, 0.4592882036117859, 0.7212150906418423, 0.03738517410809657, 0.21803108747331443, 0.12761506276150628, 0.038688321092376125, 0.7326920926070909, 0.5142655466930189, 0.08810505691596818),\n",
       " (58, 0.6892589118198875, 0.8268032527194003, 0.8370406663400294, 0.044328135013885925, 0.0043436293925785165, 0.6956066945606695, 0.2976104272266473, 0.018230622972821832, 0.6326039387308532, 0.14681303529018144),\n",
       " (59, 0.5133677298311445, 0.5564473545252933, 0.7871631553160215, 0.003204443494979708, 0.18760428153842393, 6.213389121338912e-05, 0.12175442226130134, 0.19472094843977183, 0.633295687160302, 0.11690986805363698),\n",
       " (60, 0.7244371482176359, 0.6852888372584224, 0.9080189449616202, 0.02883999145481735, 0.6308214213233287, 0.001589958158995816, 0.09796213923657805, 0.8299966446706184, 0.597691819016023, 0.1036957992948554),\n",
       " (61, 0.9272983114446529, 0.4254937163375225, 0.7933039359790952, 0.11664174321726127, 0.010925961743159827, 1.9665271966527195e-06, 0.09589324506051515, 0.6275584386533943, 0.3365850215289051, 0.027361740201607476),\n",
       " (62, 0.18855534709193245, 0.2501848136022812, 0.6381185693287604, 0.008758812219611199, 1.0, 0.858786610878661, 0.07427330092065791, 0.05871826417626663, 0.5765652572880637, 0.12975218551741444),\n",
       " (63, 0.28822701688555347, 0.9049530045411344, 0.8694430834558223, 0.04838709677419355, 0.005591128435909027, 1.6631799163179914e-05, 0.7786283231612703, 0.31551280617380606, 0.43693089574362953, 0.31727283249985005),\n",
       " (64, 0.2624296435272045, 0.9799345231809062, 0.9919647231749144, 0.304635761589404, 0.1663055173840006, 0.0, 0.17554567083893657, 0.20702382283860862, 0.7725912331474551, 0.08920932723999164),\n",
       " (65, 0.10530018761726079, 0.03178793959235399, 0.40754532092111717, 0.016235847041230513, 0.8448232897320586, 0.6527196652719665, 0.12692665770145856, 0.04205346158147859, 0.09052728171101854, 0.33259321030055256),\n",
       " (66, 0.6411819887429644, 0.8437004963565319, 0.8938428874734607, 0.020615253151036104, 0.04064280887290287, 0.7248953974895397, 0.09796213923657805, 0.24057711665361814, 0.5440319051316439, 0.20179336204267198),\n",
       " (67, 0.4113508442776736, 0.32833456542401523, 0.5937938918830639, 0.011856440931424916, 0.011128807116059096, 0.946652719665272, 0.10727216302886106, 0.0077172575774521815, 0.54840121408908, 0.4406604668689331),\n",
       " (68, 0.549718574108818, 0.8627098954483051, 0.8591540094724808, 0.989318521683401, 0.7545570987918835, 0.0, 0.6327712837488363, 0.1611676546247623, 0.05059645655396339, 0.4878618977734632),\n",
       " (69, 0.15924015009380865, 0.2903157672404689, 0.7308835538134901, 0.006515701773125399, 0.60546574971092, 0.1903765690376569, 0.15278783490224476, 0.19695783469410577, 0.6708548034163901, 0.06281498529470161),\n",
       " (70, 0.6599437148217637, 0.9007286936318515, 0.9072350155152703, 0.026703695791497544, 0.017011322930137924, 0.35355648535564854, 0.11968552808523844, 0.5459120903702046, 0.27986165031411014, 0.276403002060685),\n",
       " (71, 0.6376641651031896, 0.7835040658992504, 0.8746039523109588, 0.01612903225806452, 0.001108245694835161, 0.2604602510460251, 0.09899658632460948, 0.6667039481042388, 0.7601609373897082, 0.08827403477733364),\n",
       " (72, 0.4430112570356473, 0.8605977399936636, 0.7608361914094399, 0.9765007477034823, 0.7667278211658396, 0.0, 0.9451743043343334, 0.2036684934571077, 0.09645655396343611, 0.08593115672950108),\n",
       " (73, 0.34803001876172607, 0.5870736086175943, 0.6682998530132288, 0.045716727195043785, 0.33973831121287645, 0.008127615062761506, 0.9265542567497672, 0.5772284979308802, 0.5223053575209994, 0.3537044594102504),\n",
       " (74, 0.851078799249531, 0.5828492977083114, 0.7562306059121346, 0.008224738303781249, 0.028269241126047406, 0.00013284518828451881, 0.024826730112754727, 0.9999999999999999, 0.49203783440389637, 0.1310499354927014),\n",
       " (75, 0.6294559099437149, 0.8468687295384941, 0.8626163645271926, 0.06804101687673574, 0.019242622032029894, 0.0009895397489539748, 0.07623875038791765, 0.521306341572531, 0.7667819580715747, 0.0523155458787567),\n",
       " (76, 0.946060037523452, 0.6536065054388004, 0.7764494528825739, 0.36338389233069857, 0.10088788462398604, 0.0, 0.36071169959656557, 0.6398613130522313, 0.39183313333803904, 0.11664541770059997),\n",
       " (77, 0.3046435272045028, 0.9957756890907172, 0.776057488159399, 0.9925229651783808, 0.9026342210083506, 0.0001736401673640167, 0.8603496431157546, 0.17794430153226706, 0.18921437142655462, 0.17035249626770152),\n",
       " (78, 0.5086772983114447, 0.541662266342803, 0.645043279438184, 0.14014099551377912, 0.0049825923172112175, 0.29811715481171547, 0.45691527878349025, 0.22939268538194835, 0.5043834262723229, 0.1809186819388858),\n",
       " (79, 0.17917448405253283, 0.9186820149963039, 0.8728401110566716, 0.04721213415936765, 0.0, 0.8755230125523011, 0.06279093824350884, 0.2148529247287775, 0.6187972047716523, 0.1559099584567928),\n",
       " (80, 0.6271106941838649, 0.6821206040764601, 0.7313408459905275, 0.0048066652424695565, 0.10342345178522691, 0.9152719665271967, 0.07261818557980759, 0.3636058606419863, 0.294084845062469, 0.25964039821322815),\n",
       " (81, 0.18855534709193245, 0.8869996831766819, 0.9044259349991834, 0.016022217474898525, 0.0004621831821509866, 0.9843096234309623, 0.1341677873176787, 0.1354434626999217, 0.5201877602879932, 0.1731279576406297),\n",
       " (82, 0.45239212007504687, 1.0000000000000002, 0.9316348195329087, 0.04838709677419355, 0.002761435483964211, 7.897489539748954e-06, 0.09175545670838936, 0.6823621518845766, 0.7599421190089644, 0.0481477069281768),\n",
       " (83, 0.37734521575984986, 0.8183546309008345, 0.9225543034460232, 0.07925656910916472, 0.04297553066124448, 9.40376569037657e-06, 0.7951794765697735, 0.35018454311598257, 0.4904919884238017, 0.17096081656861725),\n",
       " (84, 0.4863977485928705, 0.8648220509029465, 0.8919483913114487, 0.28327280495620594, 0.029892004109241564, 0.0, 0.05710147925933588, 0.6700592774857398, 0.31576198207101014, 0.08764290246513354),\n",
       " (85, 0.8065196998123827, 0.47724152497623823, 0.7275191899395721, 0.04721213415936765, 0.1581917024680298, 0.0005868200836820083, 0.10003103341264093, 0.3445923274801476, 0.28005223406508073, 0.08490715088962619),\n",
       " (86, 0.8604596622889304, 0.820466786355476, 0.8381185693287605, 0.23947874385815002, 0.4492748125784822, 0.0018305439330543933, 0.04034343643322644, 0.793088021474108, 0.23072633585092106, 0.09777059058607437),\n",
       " (87, 0.6833958724202627, 0.8172985531735137, 0.8581740976645436, 0.2480239265114292, 0.5293987348736938, 0.4456066945606694, 0.5965656356677356, 0.4061066994743317, 0.33590739041434314, 0.18232542263475351),\n",
       " (88, 0.17800187617260788, 0.4064843172457493, 0.6759431651151396, 0.029480880153813286, 0.6480632780197667, 0.6830543933054394, 0.08968656253232646, 0.029750587182641758, 0.44314251429378126, 0.16580107757182191),\n",
       " (89, 0.8416979362101313, 0.6166437849825748, 0.5983014861995753, 0.08780175176244392, 0.6470490511552703, 0.7698744769874476, 0.09382435088445226, 0.8165753271446147, 0.29798122397120064, 0.06787249268537082),\n",
       " (90, 0.3339587242026266, 0.9598690463618123, 0.9026620937448964, 0.03567613757744072, 2.5152826239509474e-05, 0.7071129707112971, 0.05265335678080066, 0.4005144838384968, 0.49534128608738603, 0.11492775773981972),\n",
       " (91, 0.6611163227016885, 0.4529517372478615, 0.46059121345745546, 1.0, 0.8600366926995038, 0.0, 0.7341470983759181, 0.37702717816799014, 0.0, 0.0778143051588096),\n",
       " (92, 0.7842401500938085, 0.5596155877072554, 0.8846970439327128, 0.0424054689168981, 0.06326006795117146, 0.0, 0.2779559325540498, 0.05726428811094955, 0.6770664219665419, 0.04943278356386138),\n",
       " (93, 0.5931050656660413, 0.3916992290632591, 0.7724971419238935, 0.4135868404187139, 0.6287929675943361, 0.0, 0.5355332574738803, 0.4061066994743317, 0.3871320674807651, 0.17333749018872294),\n",
       " (94, 0.49343339587242024, 0.49625092406801147, 0.48410909684795034, 0.9198889126255074, 0.8681505076154746, 0.0, 0.4951898210406538, 0.2361033441449502, 0.5725982918048985, 0.12330905966354816),\n",
       " (95, 0.5837242026266416, 0.89861653817721, 0.9551527029234036, 0.008758812219611199, 0.004759462407022021, 0.346234309623431, 0.06620461363401262, 0.011967341460686724, 0.3858897437707347, 0.1192181056398896),\n",
       " (96, 0.7314727954971858, 0.8384201077199283, 0.8314551690347869, 0.019013031403546255, 0.00270058187209443, 0.005303347280334728, 0.047998344884659136, 0.51795101219103, 0.3011576198207101, 0.12462117275705123),\n",
       " (97, 0.9296435272045027, 0.5712324427077833, 0.7938918830638576, 0.29715872676778465, 0.0644771401885671, 0.0, 0.2417502844729492, 0.7852589195839391, 0.28737912049128256, 0.08357645023137292),\n",
       " (98, 0.6095215759849906, 0.4001478508818249, 0.8117589416952474, 0.015488143559068582, 0.608508430304409, 0.0006788702928870292, 0.08347988000413778, 0.4295940051448383, 0.24437072068892496, 0.04459917183950146),\n",
       " (99, 0.6704971857410882, 0.9186820149963039, 0.7868691817736404, 0.04977568895535142, 0.01366437427729997, 0.897489539748954, 0.048308679011068584, 0.0, 0.9999999999999998, 0.2990992635099913)]"
      ]
     },
     "execution_count": 13,
     "metadata": {},
     "output_type": "execute_result"
    }
   ],
   "source": [
    "df_scaled.to_sql('users', con=engine)\n",
    "\n",
    "engine.execute(\"SELECT * FROM users\").fetchall()"
   ]
  },
  {
   "cell_type": "code",
   "execution_count": 14,
   "metadata": {},
   "outputs": [],
   "source": [
    "df_scaled.to_csv('DF4.csv', encoding='utf-8', index='False')"
   ]
  },
  {
   "cell_type": "code",
   "execution_count": 15,
   "metadata": {
    "scrolled": true
   },
   "outputs": [],
   "source": [
    "playlist_id='spotify:playlist:37i9dQZF1Et8H9DlUAsrMD' #insert your playlist id\n",
    "results = sp.playlist(playlist_id)"
   ]
  },
  {
   "cell_type": "code",
   "execution_count": 16,
   "metadata": {},
   "outputs": [],
   "source": [
    "# create a list of song ids\n",
    "ids=[]\n",
    "\n",
    "for item in results['tracks']['items']:\n",
    "        track = item['track']['id']\n",
    "        ids.append(track)\n",
    "        \n",
    "song_meta={'id':[],'album':[], 'name':[], \n",
    "           'artist':[],'explicit':[],'popularity':[]}\n",
    "\n",
    "for song_id in ids:\n",
    "    # get song's meta data\n",
    "    meta = sp.track(song_id)\n",
    "    \n",
    "    # song id\n",
    "    song_meta['id'].append(song_id)\n",
    "\n",
    "    # album name\n",
    "    album=meta['album']['name']\n",
    "    song_meta['album']+=[album]\n",
    "\n",
    "    # song name\n",
    "    song=meta['name']\n",
    "    song_meta['name']+=[song]\n",
    "    \n",
    "    # artists name\n",
    "    s = ', '\n",
    "    artist=s.join([singer_name['name'] for singer_name in meta['artists']])\n",
    "    song_meta['artist']+=[artist]\n",
    "    \n",
    "    # explicit: lyrics could be considered offensive or unsuitable for children\n",
    "    explicit=meta['explicit']\n",
    "    song_meta['explicit'].append(explicit)\n",
    "    \n",
    "    # song popularity\n",
    "    popularity=meta['popularity']\n",
    "    song_meta['popularity'].append(popularity)\n",
    "\n",
    "song_meta_df=pd.DataFrame.from_dict(song_meta)\n",
    "\n",
    "# check the song feature\n",
    "features = sp.audio_features(song_meta['id'])\n",
    "# change dictionary to dataframe\n",
    "features_df=pd.DataFrame.from_dict(features)\n",
    "\n",
    "# convert milliseconds to mins\n",
    "# duration_ms: The duration of the track in milliseconds.\n",
    "# 1 minute = 60 seconds = 60 × 1000 milliseconds = 60,000 ms\n",
    "features_df['duration_ms']=features_df['duration_ms']/60000\n",
    "\n",
    "# combine two dataframe\n",
    "final_df=song_meta_df.merge(features_df)"
   ]
  },
  {
   "cell_type": "code",
   "execution_count": 17,
   "metadata": {},
   "outputs": [],
   "source": [
    "scaler = MinMaxScaler()"
   ]
  },
  {
   "cell_type": "code",
   "execution_count": 18,
   "metadata": {},
   "outputs": [],
   "source": [
    "df_scaled = pd.DataFrame(scaler.fit_transform(music_feature), columns=music_feature.columns)"
   ]
  },
  {
   "cell_type": "code",
   "execution_count": 19,
   "metadata": {},
   "outputs": [],
   "source": [
    "# convert column names into a list\n",
    "categories=list(music_feature.columns)\n",
    "# number of categories\n",
    "N=len(categories)"
   ]
  },
  {
   "cell_type": "code",
   "execution_count": 20,
   "metadata": {},
   "outputs": [],
   "source": [
    "# create a list with the average of all features\n",
    "value=list(music_feature.mean())"
   ]
  },
  {
   "cell_type": "code",
   "execution_count": 21,
   "metadata": {},
   "outputs": [],
   "source": [
    "df_scaled.to_csv('DF5.csv', encoding='utf-8', index='False')"
   ]
  },
  {
   "cell_type": "code",
   "execution_count": 22,
   "metadata": {},
   "outputs": [],
   "source": [
    "playlist_id='spotify:playlist:37i9dQZF1EM6SkSK3apweL' #insert your playlist id\n",
    "results = sp.playlist(playlist_id)"
   ]
  },
  {
   "cell_type": "code",
   "execution_count": 23,
   "metadata": {},
   "outputs": [],
   "source": [
    "# create a list of song ids\n",
    "ids=[]\n",
    "\n",
    "for item in results['tracks']['items']:\n",
    "        track = item['track']['id']\n",
    "        ids.append(track)\n",
    "        \n",
    "song_meta={'id':[],'album':[], 'name':[], \n",
    "           'artist':[],'explicit':[],'popularity':[]}\n",
    "\n",
    "for song_id in ids:\n",
    "    # get song's meta data\n",
    "    meta = sp.track(song_id)\n",
    "    \n",
    "    # song id\n",
    "    song_meta['id'].append(song_id)\n",
    "\n",
    "    # album name\n",
    "    album=meta['album']['name']\n",
    "    song_meta['album']+=[album]\n",
    "\n",
    "    # song name\n",
    "    song=meta['name']\n",
    "    song_meta['name']+=[song]\n",
    "    \n",
    "    # artists name\n",
    "    s = ', '\n",
    "    artist=s.join([singer_name['name'] for singer_name in meta['artists']])\n",
    "    song_meta['artist']+=[artist]\n",
    "    \n",
    "    # explicit: lyrics could be considered offensive or unsuitable for children\n",
    "    explicit=meta['explicit']\n",
    "    song_meta['explicit'].append(explicit)\n",
    "    \n",
    "    # song popularity\n",
    "    popularity=meta['popularity']\n",
    "    song_meta['popularity'].append(popularity)\n",
    "\n",
    "song_meta_df=pd.DataFrame.from_dict(song_meta)\n",
    "\n",
    "# check the song feature\n",
    "features = sp.audio_features(song_meta['id'])\n",
    "# change dictionary to dataframe\n",
    "features_df=pd.DataFrame.from_dict(features)\n",
    "\n",
    "# convert milliseconds to mins\n",
    "# duration_ms: The duration of the track in milliseconds.\n",
    "# 1 minute = 60 seconds = 60 × 1000 milliseconds = 60,000 ms\n",
    "features_df['duration_ms']=features_df['duration_ms']/60000\n",
    "\n",
    "# combine two dataframe\n",
    "final_df=song_meta_df.merge(features_df)"
   ]
  },
  {
   "cell_type": "code",
   "execution_count": 24,
   "metadata": {},
   "outputs": [],
   "source": [
    "scaler = MinMaxScaler()"
   ]
  },
  {
   "cell_type": "code",
   "execution_count": 25,
   "metadata": {},
   "outputs": [],
   "source": [
    "df_scaled = pd.DataFrame(scaler.fit_transform(music_feature), columns=music_feature.columns)"
   ]
  },
  {
   "cell_type": "code",
   "execution_count": 26,
   "metadata": {},
   "outputs": [],
   "source": [
    "# convert column names into a list\n",
    "categories=list(music_feature.columns)\n",
    "# number of categories\n",
    "N=len(categories)"
   ]
  },
  {
   "cell_type": "code",
   "execution_count": 27,
   "metadata": {},
   "outputs": [],
   "source": [
    "# create a list with the average of all features\n",
    "value=list(music_feature.mean())"
   ]
  },
  {
   "cell_type": "code",
   "execution_count": 28,
   "metadata": {},
   "outputs": [],
   "source": [
    "df_scaled.to_csv('DF6.csv', encoding='utf-8', index='False')"
   ]
  },
  {
   "cell_type": "code",
   "execution_count": 32,
   "metadata": {},
   "outputs": [
    {
     "data": {
      "application/vnd.plotly.v1+json": {
       "config": {
        "plotlyServerURL": "https://plot.ly"
       },
       "data": [
        {
         "hovertemplate": "acousticness=%{z}<br>valence=%{x}<br>energy=%{y}<br>danceability=%{marker.color}<extra></extra>",
         "legendgroup": "0.00035771781510786257",
         "marker": {
          "color": [
           0.6364915572232646
          ],
          "coloraxis": "coloraxis",
          "symbol": "circle"
         },
         "mode": "markers",
         "name": "0.00035771781510786257",
         "scene": "scene",
         "showlegend": true,
         "type": "scatter3d",
         "x": [
          0.30656526115647015
         ],
         "y": [
          0.7539338895342699
         ],
         "z": [
          0.00035771781510786257
         ]
        },
        {
         "hovertemplate": "acousticness=%{z}<br>valence=%{x}<br>energy=%{y}<br>danceability=%{marker.color}<extra></extra>",
         "legendgroup": "0.45028903944297854",
         "marker": {
          "color": [
           0.5016416510318948
          ],
          "coloraxis": "coloraxis",
          "symbol": "diamond"
         },
         "mode": "markers",
         "name": "0.45028903944297854",
         "scene": "scene",
         "showlegend": true,
         "type": "scatter3d",
         "x": [
          0.09965328263057824
         ],
         "y": [
          0.2639138240574506
         ],
         "z": [
          0.45028903944297854
         ]
        },
        {
         "hovertemplate": "acousticness=%{z}<br>valence=%{x}<br>energy=%{y}<br>danceability=%{marker.color}<extra></extra>",
         "legendgroup": "0.031514767092435725",
         "marker": {
          "color": [
           0.9999999999999998
          ],
          "coloraxis": "coloraxis",
          "symbol": "square"
         },
         "mode": "markers",
         "name": "0.031514767092435725",
         "scene": "scene",
         "showlegend": true,
         "type": "scatter3d",
         "x": [
          0.4385415501621742
         ],
         "y": [
          0.5479987327067274
         ],
         "z": [
          0.031514767092435725
         ]
        },
        {
         "hovertemplate": "acousticness=%{z}<br>valence=%{x}<br>energy=%{y}<br>danceability=%{marker.color}<extra></extra>",
         "legendgroup": "0.07786493479991889",
         "marker": {
          "color": [
           0.6235928705440901
          ],
          "coloraxis": "coloraxis",
          "symbol": "x"
         },
         "mode": "markers",
         "name": "0.07786493479991889",
         "scene": "scene",
         "showlegend": true,
         "type": "scatter3d",
         "x": [
          0.021026730790739287
         ],
         "y": [
          0.8373640299926075
         ],
         "z": [
          0.07786493479991889
         ]
        },
        {
         "hovertemplate": "acousticness=%{z}<br>valence=%{x}<br>energy=%{y}<br>danceability=%{marker.color}<extra></extra>",
         "legendgroup": "0.06092734616282987",
         "marker": {
          "color": [
           0.8639774859287055
          ],
          "coloraxis": "coloraxis",
          "symbol": "cross"
         },
         "mode": "markers",
         "name": "0.06092734616282987",
         "scene": "scene",
         "showlegend": true,
         "type": "scatter3d",
         "x": [
          0.14327256459009058
         ],
         "y": [
          0.4466152708839371
         ],
         "z": [
          0.06092734616282987
         ]
        },
        {
         "hovertemplate": "acousticness=%{z}<br>valence=%{x}<br>energy=%{y}<br>danceability=%{marker.color}<extra></extra>",
         "legendgroup": "0.2596143889176648",
         "marker": {
          "color": [
           0.7443714821763603
          ],
          "coloraxis": "coloraxis",
          "symbol": "circle"
         },
         "mode": "markers",
         "name": "0.2596143889176648",
         "scene": "scene",
         "showlegend": true,
         "type": "scatter3d",
         "x": [
          0.3390001118443127
         ],
         "y": [
          0.5817932199809907
         ],
         "z": [
          0.2596143889176648
         ]
        },
        {
         "hovertemplate": "acousticness=%{z}<br>valence=%{x}<br>energy=%{y}<br>danceability=%{marker.color}<extra></extra>",
         "legendgroup": "0.08719582195328532",
         "marker": {
          "color": [
           0.5133677298311445
          ],
          "coloraxis": "coloraxis",
          "symbol": "diamond"
         },
         "mode": "markers",
         "name": "0.08719582195328532",
         "scene": "scene",
         "showlegend": true,
         "type": "scatter3d",
         "x": [
          0.587294486075383
         ],
         "y": [
          0.8563734290843807
         ],
         "z": [
          0.08719582195328532
         ]
        },
        {
         "hovertemplate": "acousticness=%{z}<br>valence=%{x}<br>energy=%{y}<br>danceability=%{marker.color}<extra></extra>",
         "legendgroup": "0.03841150977101091",
         "marker": {
          "color": [
           0.8475609756097562
          ],
          "coloraxis": "coloraxis",
          "symbol": "square"
         },
         "mode": "markers",
         "name": "0.03841150977101091",
         "scene": "scene",
         "showlegend": true,
         "type": "scatter3d",
         "x": [
          0.33340789620847777
         ],
         "y": [
          0.713802935896082
         ],
         "z": [
          0.03841150977101091
         ]
        },
        {
         "hovertemplate": "acousticness=%{z}<br>valence=%{x}<br>energy=%{y}<br>danceability=%{marker.color}<extra></extra>",
         "legendgroup": "0.5040430632612851",
         "marker": {
          "color": [
           0.6282833020637899
          ],
          "coloraxis": "coloraxis",
          "symbol": "x"
         },
         "mode": "markers",
         "name": "0.5040430632612851",
         "scene": "scene",
         "showlegend": true,
         "type": "scatter3d",
         "x": [
          0.7416396376244266
         ],
         "y": [
          0.6430457281655931
         ],
         "z": [
          0.5040430632612851
         ]
        },
        {
         "hovertemplate": "acousticness=%{z}<br>valence=%{x}<br>energy=%{y}<br>danceability=%{marker.color}<extra></extra>",
         "legendgroup": "0.625750287000847",
         "marker": {
          "color": [
           0.34451219512195125
          ],
          "coloraxis": "coloraxis",
          "symbol": "cross"
         },
         "mode": "markers",
         "name": "0.625750287000847",
         "scene": "scene",
         "showlegend": true,
         "type": "scatter3d",
         "x": [
          0.4228833463818365
         ],
         "y": [
          0.4518956595205408
         ],
         "z": [
          0.625750287000847
         ]
        },
        {
         "hovertemplate": "acousticness=%{z}<br>valence=%{x}<br>energy=%{y}<br>danceability=%{marker.color}<extra></extra>",
         "legendgroup": "0.1480494338230663",
         "marker": {
          "color": [
           0.798311444652908
          ],
          "coloraxis": "coloraxis",
          "symbol": "circle"
         },
         "mode": "markers",
         "name": "0.1480494338230663",
         "scene": "scene",
         "showlegend": true,
         "type": "scatter3d",
         "x": [
          0.5101219103008612
         ],
         "y": [
          0.5089238567958603
         ],
         "z": [
          0.1480494338230663
         ]
        },
        {
         "hovertemplate": "acousticness=%{z}<br>valence=%{x}<br>energy=%{y}<br>danceability=%{marker.color}<extra></extra>",
         "legendgroup": "0.08770293538553349",
         "marker": {
          "color": [
           0.6364915572232646
          ],
          "coloraxis": "coloraxis",
          "symbol": "diamond"
         },
         "mode": "markers",
         "name": "0.08770293538553349",
         "scene": "scene",
         "showlegend": true,
         "type": "scatter3d",
         "x": [
          0.43294933452633927
         ],
         "y": [
          0.8658781286302673
         ],
         "z": [
          0.08770293538553349
         ]
        },
        {
         "hovertemplate": "acousticness=%{z}<br>valence=%{x}<br>energy=%{y}<br>danceability=%{marker.color}<extra></extra>",
         "legendgroup": "0.0026802973348045035",
         "marker": {
          "color": [
           0.47936210131332085
          ],
          "coloraxis": "coloraxis",
          "symbol": "square"
         },
         "mode": "markers",
         "name": "0.0026802973348045035",
         "scene": "scene",
         "showlegend": true,
         "type": "scatter3d",
         "x": [
          0.25287999105245496
         ],
         "y": [
          0.98521491181751
         ],
         "z": [
          0.0026802973348045035
         ]
        },
        {
         "hovertemplate": "acousticness=%{z}<br>valence=%{x}<br>energy=%{y}<br>danceability=%{marker.color}<extra></extra>",
         "legendgroup": "0.11356572043019042",
         "marker": {
          "color": [
           0.8135553470919326
          ],
          "coloraxis": "coloraxis",
          "symbol": "x"
         },
         "mode": "markers",
         "name": "0.11356572043019042",
         "scene": "scene",
         "showlegend": true,
         "type": "scatter3d",
         "x": [
          0.6868359243932446
         ],
         "y": [
          0.8194107086281552
         ],
         "z": [
          0.11356572043019042
         ]
        },
        {
         "hovertemplate": "acousticness=%{z}<br>valence=%{x}<br>energy=%{y}<br>danceability=%{marker.color}<extra></extra>",
         "legendgroup": "0.23324449044075968",
         "marker": {
          "color": [
           0.47936210131332085
          ],
          "coloraxis": "coloraxis",
          "symbol": "cross"
         },
         "mode": "markers",
         "name": "0.23324449044075968",
         "scene": "scene",
         "showlegend": true,
         "type": "scatter3d",
         "x": [
          0.011743652835253325
         ],
         "y": [
          0.6335410286197065
         ],
         "z": [
          0.23324449044075968
         ]
        },
        {
         "hovertemplate": "acousticness=%{z}<br>valence=%{x}<br>energy=%{y}<br>danceability=%{marker.color}<extra></extra>",
         "legendgroup": "0.7241302928569929",
         "marker": {
          "color": [
           0.5063320825515947
          ],
          "coloraxis": "coloraxis",
          "symbol": "circle"
         },
         "mode": "markers",
         "name": "0.7241302928569929",
         "scene": "scene",
         "showlegend": true,
         "type": "scatter3d",
         "x": [
          0.3099205905379711
         ],
         "y": [
          0.27869891223994087
         ],
         "z": [
          0.7241302928569929
         ]
        },
        {
         "hovertemplate": "acousticness=%{z}<br>valence=%{x}<br>energy=%{y}<br>danceability=%{marker.color}<extra></extra>",
         "legendgroup": "0.0002268825495878334",
         "marker": {
          "color": [
           0.3151969981238274
          ],
          "coloraxis": "coloraxis",
          "symbol": "diamond"
         },
         "mode": "markers",
         "name": "0.0002268825495878334",
         "scene": "scene",
         "showlegend": true,
         "type": "scatter3d",
         "x": [
          0.1611676546247623
         ],
         "y": [
          0.9292427922695112
         ],
         "z": [
          0.0002268825495878334
         ]
        },
        {
         "hovertemplate": "acousticness=%{z}<br>valence=%{x}<br>energy=%{y}<br>danceability=%{marker.color}<extra></extra>",
         "legendgroup": "0.9949288656775183",
         "marker": {
          "color": [
           0.05370544090056287
          ],
          "coloraxis": "coloraxis",
          "symbol": "square"
         },
         "mode": "markers",
         "name": "0.9949288656775183",
         "scene": "scene",
         "showlegend": true,
         "type": "scatter3d",
         "x": [
          0.010513365395369643
         ],
         "y": [
          0.015101911500686446
         ],
         "z": [
          0.9949288656775183
         ]
        },
        {
         "hovertemplate": "acousticness=%{z}<br>valence=%{x}<br>energy=%{y}<br>danceability=%{marker.color}<extra></extra>",
         "legendgroup": "0.047843819610826954",
         "marker": {
          "color": [
           0.5590994371482176
          ],
          "coloraxis": "coloraxis",
          "symbol": "x"
         },
         "mode": "markers",
         "name": "0.047843819610826954",
         "scene": "scene",
         "showlegend": true,
         "type": "scatter3d",
         "x": [
          0.6409797561793982
         ],
         "y": [
          0.8796071390854368
         ],
         "z": [
          0.047843819610826954
         ]
        },
        {
         "hovertemplate": "acousticness=%{z}<br>valence=%{x}<br>energy=%{y}<br>danceability=%{marker.color}<extra></extra>",
         "legendgroup": "0.22513067552478888",
         "marker": {
          "color": [
           0.3433395872420263
          ],
          "coloraxis": "coloraxis",
          "symbol": "cross"
         },
         "mode": "markers",
         "name": "0.22513067552478888",
         "scene": "scene",
         "showlegend": true,
         "type": "scatter3d",
         "x": [
          0.21932669723744547
         ],
         "y": [
          0.33361495406061886
         ],
         "z": [
          0.22513067552478888
         ]
        },
        {
         "hovertemplate": "acousticness=%{z}<br>valence=%{x}<br>energy=%{y}<br>danceability=%{marker.color}<extra></extra>",
         "legendgroup": "0.4158053260501026",
         "marker": {
          "color": [
           0.5075046904315197
          ],
          "coloraxis": "coloraxis",
          "symbol": "circle"
         },
         "mode": "markers",
         "name": "0.4158053260501026",
         "scene": "scene",
         "showlegend": true,
         "type": "scatter3d",
         "x": [
          0.5738731685493793
         ],
         "y": [
          0.674728059985215
         ],
         "z": [
          0.4158053260501026
         ]
        },
        {
         "hovertemplate": "acousticness=%{z}<br>valence=%{x}<br>energy=%{y}<br>danceability=%{marker.color}<extra></extra>",
         "legendgroup": "0.3377098574838837",
         "marker": {
          "color": [
           0.3679643527204503
          ],
          "coloraxis": "coloraxis",
          "symbol": "diamond"
         },
         "mode": "markers",
         "name": "0.3377098574838837",
         "scene": "scene",
         "showlegend": true,
         "type": "scatter3d",
         "x": [
          0.07549491108377138
         ],
         "y": [
          0.5131481677051432
         ],
         "z": [
          0.3377098574838837
         ]
        },
        {
         "hovertemplate": "acousticness=%{z}<br>valence=%{x}<br>energy=%{y}<br>danceability=%{marker.color}<extra></extra>",
         "legendgroup": "0.2028176845058692",
         "marker": {
          "color": [
           0.3304409005628518
          ],
          "coloraxis": "coloraxis",
          "symbol": "square"
         },
         "mode": "markers",
         "name": "0.2028176845058692",
         "scene": "scene",
         "showlegend": true,
         "type": "scatter3d",
         "x": [
          0.44860753830667705
         ],
         "y": [
          0.8225789418101174
         ],
         "z": [
          0.2028176845058692
         ]
        },
        {
         "hovertemplate": "acousticness=%{z}<br>valence=%{x}<br>energy=%{y}<br>danceability=%{marker.color}<extra></extra>",
         "legendgroup": "0.18659005467392759",
         "marker": {
          "color": [
           0.7279549718574108
          ],
          "coloraxis": "coloraxis",
          "symbol": "x"
         },
         "mode": "markers",
         "name": "0.18659005467392759",
         "scene": "scene",
         "showlegend": true,
         "type": "scatter3d",
         "x": [
          0.6029526898557207
         ],
         "y": [
          0.6874009927130639
         ],
         "z": [
          0.18659005467392759
         ]
        },
        {
         "hovertemplate": "acousticness=%{z}<br>valence=%{x}<br>energy=%{y}<br>danceability=%{marker.color}<extra></extra>",
         "legendgroup": "0.07015681062974664",
         "marker": {
          "color": [
           0.9589587242026265
          ],
          "coloraxis": "coloraxis",
          "symbol": "cross"
         },
         "mode": "markers",
         "name": "0.07015681062974664",
         "scene": "scene",
         "showlegend": true,
         "type": "scatter3d",
         "x": [
          0.35130298624314954
         ],
         "y": [
          0.7644946668074771
         ],
         "z": [
          0.07015681062974664
         ]
        },
        {
         "hovertemplate": "acousticness=%{z}<br>valence=%{x}<br>energy=%{y}<br>danceability=%{marker.color}<extra></extra>",
         "legendgroup": "0.6277787407298397",
         "marker": {
          "color": [
           0.44652908067542213
          ],
          "coloraxis": "coloraxis",
          "symbol": "circle"
         },
         "mode": "markers",
         "name": "0.6277787407298397",
         "scene": "scene",
         "showlegend": true,
         "type": "scatter3d",
         "x": [
          0.6230846661447265
         ],
         "y": [
          0.6557186608934419
         ],
         "z": [
          0.6277787407298397
         ]
        },
        {
         "hovertemplate": "acousticness=%{z}<br>valence=%{x}<br>energy=%{y}<br>danceability=%{marker.color}<extra></extra>",
         "legendgroup": "0.8914777254988907",
         "marker": {
          "color": [
           0.5356472795497187
          ],
          "coloraxis": "coloraxis",
          "symbol": "diamond"
         },
         "mode": "markers",
         "name": "0.8914777254988907",
         "scene": "scene",
         "showlegend": true,
         "type": "scatter3d",
         "x": [
          0.21037915222010958
         ],
         "y": [
          0.53743795543352
         ],
         "z": [
          0.8914777254988907
         ]
        },
        {
         "hovertemplate": "acousticness=%{z}<br>valence=%{x}<br>energy=%{y}<br>danceability=%{marker.color}<extra></extra>",
         "legendgroup": "0.8164249375261609",
         "marker": {
          "color": [
           0.06660412757973733
          ],
          "coloraxis": "coloraxis",
          "symbol": "square"
         },
         "mode": "markers",
         "name": "0.8164249375261609",
         "scene": "scene",
         "showlegend": true,
         "type": "scatter3d",
         "x": [
          0.013085784587853713
         ],
         "y": [
          0
         ],
         "z": [
          0.8164249375261609
         ]
        },
        {
         "hovertemplate": "acousticness=%{z}<br>valence=%{x}<br>energy=%{y}<br>danceability=%{marker.color}<extra></extra>",
         "legendgroup": "7.779120050687002e-05",
         "marker": {
          "color": [
           0.40196998123827393
          ],
          "coloraxis": "coloraxis",
          "symbol": "x"
         },
         "mode": "markers",
         "name": "7.779120050687002e-05",
         "scene": "scene",
         "showlegend": true,
         "type": "scatter3d",
         "x": [
          0.49781903590202436
         ],
         "y": [
          0.9070651599957759
         ],
         "z": [
          7.779120050687002e-05
         ]
        },
        {
         "hovertemplate": "acousticness=%{z}<br>valence=%{x}<br>energy=%{y}<br>danceability=%{marker.color}<extra></extra>",
         "legendgroup": "0.07867631629151599",
         "marker": {
          "color": [
           0.38555347091932457
          ],
          "coloraxis": "coloraxis",
          "symbol": "cross"
         },
         "mode": "markers",
         "name": "0.07867631629151599",
         "scene": "scene",
         "showlegend": true,
         "type": "scatter3d",
         "x": [
          0.38709316631249296
         ],
         "y": [
          0.8753828281761539
         ],
         "z": [
          0.07867631629151599
         ]
        },
        {
         "hovertemplate": "acousticness=%{z}<br>valence=%{x}<br>energy=%{y}<br>danceability=%{marker.color}<extra></extra>",
         "legendgroup": "0.0007684796952288842",
         "marker": {
          "color": [
           0.4711538461538461
          ],
          "coloraxis": "coloraxis",
          "symbol": "circle"
         },
         "mode": "markers",
         "name": "0.0007684796952288842",
         "scene": "scene",
         "showlegend": true,
         "type": "scatter3d",
         "x": [
          0.655519516832569
         ],
         "y": [
          0.8722145949941916
         ],
         "z": [
          0.0007684796952288842
         ]
        },
        {
         "hovertemplate": "acousticness=%{z}<br>valence=%{x}<br>energy=%{y}<br>danceability=%{marker.color}<extra></extra>",
         "legendgroup": "0.04987227333981966",
         "marker": {
          "color": [
           0.2893996247654784
          ],
          "coloraxis": "coloraxis",
          "symbol": "diamond"
         },
         "mode": "markers",
         "name": "0.04987227333981966",
         "scene": "scene",
         "showlegend": true,
         "type": "scatter3d",
         "x": [
          0.6946650262834134
         ],
         "y": [
          0.5363818777061993
         ],
         "z": [
          0.04987227333981966
         ]
        },
        {
         "hovertemplate": "acousticness=%{z}<br>valence=%{x}<br>energy=%{y}<br>danceability=%{marker.color}<extra></extra>",
         "legendgroup": "0.9827581433035621",
         "marker": {
          "color": [
           0.13344277673545968
          ],
          "coloraxis": "coloraxis",
          "symbol": "square"
         },
         "mode": "markers",
         "name": "0.9827581433035621",
         "scene": "scene",
         "showlegend": true,
         "type": "scatter3d",
         "x": [
          0.00872385639190247
         ],
         "y": [
          0.08015629950364347
         ],
         "z": [
          0.9827581433035621
         ]
        },
        {
         "hovertemplate": "acousticness=%{z}<br>valence=%{x}<br>energy=%{y}<br>danceability=%{marker.color}<extra></extra>",
         "legendgroup": "0.416819552914599",
         "marker": {
          "color": [
           0.5204033771106942
          ],
          "coloraxis": "coloraxis",
          "symbol": "x"
         },
         "mode": "markers",
         "name": "0.416819552914599",
         "scene": "scene",
         "showlegend": true,
         "type": "scatter3d",
         "x": [
          0.3076837042836371
         ],
         "y": [
          0.44450311542929566
         ],
         "z": [
          0.416819552914599
         ]
        },
        {
         "hovertemplate": "acousticness=%{z}<br>valence=%{x}<br>energy=%{y}<br>danceability=%{marker.color}<extra></extra>",
         "legendgroup": "0.002000765335591949",
         "marker": {
          "color": [
           0.6130393996247654
          ],
          "coloraxis": "coloraxis",
          "symbol": "cross"
         },
         "mode": "markers",
         "name": "0.002000765335591949",
         "scene": "scene",
         "showlegend": true,
         "type": "scatter3d",
         "x": [
          0.4843977183760205
         ],
         "y": [
          0.7623825113528356
         ],
         "z": [
          0.002000765335591949
         ]
        },
        {
         "hovertemplate": "acousticness=%{z}<br>valence=%{x}<br>energy=%{y}<br>danceability=%{marker.color}<extra></extra>",
         "legendgroup": "0.11255149356569406",
         "marker": {
          "color": [
           0.9601313320825515
          ],
          "coloraxis": "coloraxis",
          "symbol": "circle"
         },
         "mode": "markers",
         "name": "0.11255149356569406",
         "scene": "scene",
         "showlegend": true,
         "type": "scatter3d",
         "x": [
          0.6264399955262274
         ],
         "y": [
          0.8996726159045307
         ],
         "z": [
          0.11255149356569406
         ]
        },
        {
         "hovertemplate": "acousticness=%{z}<br>valence=%{x}<br>energy=%{y}<br>danceability=%{marker.color}<extra></extra>",
         "legendgroup": "0.02613936471060507",
         "marker": {
          "color": [
           0.4289399624765478
          ],
          "coloraxis": "coloraxis",
          "symbol": "diamond"
         },
         "mode": "markers",
         "name": "0.02613936471060507",
         "scene": "scene",
         "showlegend": true,
         "type": "scatter3d",
         "x": [
          0.6051895761100547
         ],
         "y": [
          0.8869996831766819
         ],
         "z": [
          0.02613936471060507
         ]
        },
        {
         "hovertemplate": "acousticness=%{z}<br>valence=%{x}<br>energy=%{y}<br>danceability=%{marker.color}<extra></extra>",
         "legendgroup": "0.0006954553609851469",
         "marker": {
          "color": [
           0.5309568480300189
          ],
          "coloraxis": "coloraxis",
          "symbol": "square"
         },
         "mode": "markers",
         "name": "0.0006954553609851469",
         "scene": "scene",
         "showlegend": true,
         "type": "scatter3d",
         "x": [
          0.7349289788614249
         ],
         "y": [
          0.9493082690886051
         ],
         "z": [
          0.0006954553609851469
         ]
        },
        {
         "hovertemplate": "acousticness=%{z}<br>valence=%{x}<br>energy=%{y}<br>danceability=%{marker.color}<extra></extra>",
         "legendgroup": "0.8296098867646132",
         "marker": {
          "color": [
           0.10060975609756095
          ],
          "coloraxis": "coloraxis",
          "symbol": "x"
         },
         "mode": "markers",
         "name": "0.8296098867646132",
         "scene": "scene",
         "showlegend": true,
         "type": "scatter3d",
         "x": [
          0.13768034895425565
         ],
         "y": [
          0.13401626359700075
         ],
         "z": [
          0.8296098867646132
         ]
        },
        {
         "hovertemplate": "acousticness=%{z}<br>valence=%{x}<br>energy=%{y}<br>danceability=%{marker.color}<extra></extra>",
         "legendgroup": "0.005804116077453261",
         "marker": {
          "color": [
           0.4875703564727955
          ],
          "coloraxis": "coloraxis",
          "symbol": "cross"
         },
         "mode": "markers",
         "name": "0.005804116077453261",
         "scene": "scene",
         "showlegend": true,
         "type": "scatter3d",
         "x": [
          0.6823621518845766
         ],
         "y": [
          0.9862709895448305
         ],
         "z": [
          0.005804116077453261
         ]
        },
        {
         "hovertemplate": "acousticness=%{z}<br>valence=%{x}<br>energy=%{y}<br>danceability=%{marker.color}<extra></extra>",
         "legendgroup": "0.08841289419068094",
         "marker": {
          "color": [
           0.2905722326454034
          ],
          "coloraxis": "coloraxis",
          "symbol": "circle"
         },
         "mode": "markers",
         "name": "0.08841289419068094",
         "scene": "scene",
         "showlegend": true,
         "type": "scatter3d",
         "x": [
          0.5559780785147075
         ],
         "y": [
          0.6884570704403846
         ],
         "z": [
          0.08841289419068094
         ]
        },
        {
         "hovertemplate": "acousticness=%{z}<br>valence=%{x}<br>energy=%{y}<br>danceability=%{marker.color}<extra></extra>",
         "legendgroup": "0.953345564233168",
         "marker": {
          "color": [
           0.44887429643527205
          ],
          "coloraxis": "coloraxis",
          "symbol": "diamond"
         },
         "mode": "markers",
         "name": "0.953345564233168",
         "scene": "scene",
         "showlegend": true,
         "type": "scatter3d",
         "x": [
          0.2025500503299407
         ],
         "y": [
          0.0710740310486852
         ],
         "z": [
          0.953345564233168
         ]
        },
        {
         "hovertemplate": "acousticness=%{z}<br>valence=%{x}<br>energy=%{y}<br>danceability=%{marker.color}<extra></extra>",
         "legendgroup": "0.7190591585345112",
         "marker": {
          "color": [
           0.49226078799249534
          ],
          "coloraxis": "coloraxis",
          "symbol": "square"
         },
         "mode": "markers",
         "name": "0.7190591585345112",
         "scene": "scene",
         "showlegend": true,
         "type": "scatter3d",
         "x": [
          0.2897886142489654
         ],
         "y": [
          0.8077938536276271
         ],
         "z": [
          0.7190591585345112
         ]
        },
        {
         "hovertemplate": "acousticness=%{z}<br>valence=%{x}<br>energy=%{y}<br>danceability=%{marker.color}<extra></extra>",
         "legendgroup": "0.08496452285139335",
         "marker": {
          "color": [
           0.8780487804878048
          ],
          "coloraxis": "coloraxis",
          "symbol": "x"
         },
         "mode": "markers",
         "name": "0.08496452285139335",
         "scene": "scene",
         "showlegend": true,
         "type": "scatter3d",
         "x": [
          0.9843417962196622
         ],
         "y": [
          0.8722145949941916
         ],
         "z": [
          0.08496452285139335
         ]
        },
        {
         "hovertemplate": "acousticness=%{z}<br>valence=%{x}<br>energy=%{y}<br>danceability=%{marker.color}<extra></extra>",
         "legendgroup": "0.4949150214808179",
         "marker": {
          "color": [
           0.5168855534709194
          ],
          "coloraxis": "coloraxis",
          "symbol": "cross"
         },
         "mode": "markers",
         "name": "0.4949150214808179",
         "scene": "scene",
         "showlegend": true,
         "type": "scatter3d",
         "x": [
          0.1276143608097528
         ],
         "y": [
          0.4518956595205408
         ],
         "z": [
          0.4949150214808179
         ]
        },
        {
         "hovertemplate": "acousticness=%{z}<br>valence=%{x}<br>energy=%{y}<br>danceability=%{marker.color}<extra></extra>",
         "legendgroup": "0.15717747560353346",
         "marker": {
          "color": [
           0.1580675422138837,
           0.9507504690431519
          ],
          "coloraxis": "coloraxis",
          "symbol": "circle"
         },
         "mode": "markers",
         "name": "0.15717747560353346",
         "scene": "scene",
         "showlegend": true,
         "type": "scatter3d",
         "x": [
          0.013645006151437197,
          0.725981433844089
         ],
         "y": [
          0.05892913718449679,
          0.5564473545252933
         ],
         "z": [
          0.15717747560353346,
          0.15717747560353346
         ]
        },
        {
         "hovertemplate": "acousticness=%{z}<br>valence=%{x}<br>energy=%{y}<br>danceability=%{marker.color}<extra></extra>",
         "legendgroup": "0.8032399882877083",
         "marker": {
          "color": [
           0
          ],
          "coloraxis": "coloraxis",
          "symbol": "diamond"
         },
         "mode": "markers",
         "name": "0.8032399882877083",
         "scene": "scene",
         "showlegend": true,
         "type": "scatter3d",
         "x": [
          0.05625768929649927
         ],
         "y": [
          0.2375118808744324
         ],
         "z": [
          0.8032399882877083
         ]
        },
        {
         "hovertemplate": "acousticness=%{z}<br>valence=%{x}<br>energy=%{y}<br>danceability=%{marker.color}<extra></extra>",
         "legendgroup": "0.2444009859502195",
         "marker": {
          "color": [
           0.6001407129455909
          ],
          "coloraxis": "coloraxis",
          "symbol": "square"
         },
         "mode": "markers",
         "name": "0.2444009859502195",
         "scene": "scene",
         "showlegend": true,
         "type": "scatter3d",
         "x": [
          0.30097304552063525
         ],
         "y": [
          0.6726159045305736
         ],
         "z": [
          0.2444009859502195
         ]
        },
        {
         "hovertemplate": "acousticness=%{z}<br>valence=%{x}<br>energy=%{y}<br>danceability=%{marker.color}<extra></extra>",
         "legendgroup": "0.9553740179621606",
         "marker": {
          "color": [
           0.1651031894934334
          ],
          "coloraxis": "coloraxis",
          "symbol": "x"
         },
         "mode": "markers",
         "name": "0.9553740179621606",
         "scene": "scene",
         "showlegend": true,
         "type": "scatter3d",
         "x": [
          0.07493568952018789
         ],
         "y": [
          0.08226845495828494
         ],
         "z": [
          0.9553740179621606
         ]
        },
        {
         "hovertemplate": "acousticness=%{z}<br>valence=%{x}<br>energy=%{y}<br>danceability=%{marker.color}<extra></extra>",
         "legendgroup": "0.1602201561970225",
         "marker": {
          "color": [
           0.7420262664165103
          ],
          "coloraxis": "coloraxis",
          "symbol": "cross"
         },
         "mode": "markers",
         "name": "0.1602201561970225",
         "scene": "scene",
         "showlegend": true,
         "type": "scatter3d",
         "x": [
          0.6991387987920814
         ],
         "y": [
          0.7127468581687613
         ],
         "z": [
          0.1602201561970225
         ]
        },
        {
         "hovertemplate": "acousticness=%{z}<br>valence=%{x}<br>energy=%{y}<br>danceability=%{marker.color}<extra></extra>",
         "legendgroup": "0.889449271769898",
         "marker": {
          "color": [
           0.6787054409005628
          ],
          "coloraxis": "coloraxis",
          "symbol": "circle"
         },
         "mode": "markers",
         "name": "0.889449271769898",
         "scene": "scene",
         "showlegend": true,
         "type": "scatter3d",
         "x": [
          0.37702717816799014
         ],
         "y": [
          0.4096525504277115
         ],
         "z": [
          0.889449271769898
         ]
        },
        {
         "hovertemplate": "acousticness=%{z}<br>valence=%{x}<br>energy=%{y}<br>danceability=%{marker.color}<extra></extra>",
         "legendgroup": "0.004637755183282458",
         "marker": {
          "color": [
           0.5731707317073169
          ],
          "coloraxis": "coloraxis",
          "symbol": "diamond"
         },
         "mode": "markers",
         "name": "0.004637755183282458",
         "scene": "scene",
         "showlegend": true,
         "type": "scatter3d",
         "x": [
          0.4765686164858517
         ],
         "y": [
          0.8341957968106454
         ],
         "z": [
          0.004637755183282458
         ]
        },
        {
         "hovertemplate": "acousticness=%{z}<br>valence=%{x}<br>energy=%{y}<br>danceability=%{marker.color}<extra></extra>",
         "legendgroup": "0.7271729734504819",
         "marker": {
          "color": [
           0.4301125703564728
          ],
          "coloraxis": "coloraxis",
          "symbol": "square"
         },
         "mode": "markers",
         "name": "0.7271729734504819",
         "scene": "scene",
         "showlegend": true,
         "type": "scatter3d",
         "x": [
          0.21149759534727658
         ],
         "y": [
          0.9112894709050587
         ],
         "z": [
          0.7271729734504819
         ]
        },
        {
         "hovertemplate": "acousticness=%{z}<br>valence=%{x}<br>energy=%{y}<br>danceability=%{marker.color}<extra></extra>",
         "legendgroup": "0.04764097423792769",
         "marker": {
          "color": [
           0.16158536585365857
          ],
          "coloraxis": "coloraxis",
          "symbol": "x"
         },
         "mode": "markers",
         "name": "0.04764097423792769",
         "scene": "scene",
         "showlegend": true,
         "type": "scatter3d",
         "x": [
          0.21261603847444355
         ],
         "y": [
          0.4878023022494456
         ],
         "z": [
          0.04764097423792769
         ]
        },
        {
         "hovertemplate": "acousticness=%{z}<br>valence=%{x}<br>energy=%{y}<br>danceability=%{marker.color}<extra></extra>",
         "legendgroup": "0.0029135695136386633",
         "marker": {
          "color": [
           0.4007973733583489
          ],
          "coloraxis": "coloraxis",
          "symbol": "cross"
         },
         "mode": "markers",
         "name": "0.0029135695136386633",
         "scene": "scene",
         "showlegend": true,
         "type": "scatter3d",
         "x": [
          0.2349849010177832
         ],
         "y": [
          0.7285880240785723
         ],
         "z": [
          0.0029135695136386633
         ]
        },
        {
         "hovertemplate": "acousticness=%{z}<br>valence=%{x}<br>energy=%{y}<br>danceability=%{marker.color}<extra></extra>",
         "legendgroup": "0.0001690716183115415",
         "marker": {
          "color": [
           0.2589118198874296
          ],
          "coloraxis": "coloraxis",
          "symbol": "circle"
         },
         "mode": "markers",
         "name": "0.0001690716183115415",
         "scene": "scene",
         "showlegend": true,
         "type": "scatter3d",
         "x": [
          0.17794430153226706
         ],
         "y": [
          0.9155137818143417
         ],
         "z": [
          0.0001690716183115415
         ]
        },
        {
         "hovertemplate": "acousticness=%{z}<br>valence=%{x}<br>energy=%{y}<br>danceability=%{marker.color}<extra></extra>",
         "legendgroup": "0.21803108747331443",
         "marker": {
          "color": [
           0.7138836772983115
          ],
          "coloraxis": "coloraxis",
          "symbol": "diamond"
         },
         "mode": "markers",
         "name": "0.21803108747331443",
         "scene": "scene",
         "showlegend": true,
         "type": "scatter3d",
         "x": [
          0.7326920926070909
         ],
         "y": [
          0.4592882036117859
         ],
         "z": [
          0.21803108747331443
         ]
        },
        {
         "hovertemplate": "acousticness=%{z}<br>valence=%{x}<br>energy=%{y}<br>danceability=%{marker.color}<extra></extra>",
         "legendgroup": "0.0043436293925785165",
         "marker": {
          "color": [
           0.6892589118198875
          ],
          "coloraxis": "coloraxis",
          "symbol": "square"
         },
         "mode": "markers",
         "name": "0.0043436293925785165",
         "scene": "scene",
         "showlegend": true,
         "type": "scatter3d",
         "x": [
          0.018230622972821832
         ],
         "y": [
          0.8268032527194003
         ],
         "z": [
          0.0043436293925785165
         ]
        },
        {
         "hovertemplate": "acousticness=%{z}<br>valence=%{x}<br>energy=%{y}<br>danceability=%{marker.color}<extra></extra>",
         "legendgroup": "0.18760428153842393",
         "marker": {
          "color": [
           0.5133677298311445
          ],
          "coloraxis": "coloraxis",
          "symbol": "x"
         },
         "mode": "markers",
         "name": "0.18760428153842393",
         "scene": "scene",
         "showlegend": true,
         "type": "scatter3d",
         "x": [
          0.19472094843977183
         ],
         "y": [
          0.5564473545252933
         ],
         "z": [
          0.18760428153842393
         ]
        },
        {
         "hovertemplate": "acousticness=%{z}<br>valence=%{x}<br>energy=%{y}<br>danceability=%{marker.color}<extra></extra>",
         "legendgroup": "0.6308214213233287",
         "marker": {
          "color": [
           0.7244371482176359
          ],
          "coloraxis": "coloraxis",
          "symbol": "cross"
         },
         "mode": "markers",
         "name": "0.6308214213233287",
         "scene": "scene",
         "showlegend": true,
         "type": "scatter3d",
         "x": [
          0.8299966446706184
         ],
         "y": [
          0.6852888372584224
         ],
         "z": [
          0.6308214213233287
         ]
        },
        {
         "hovertemplate": "acousticness=%{z}<br>valence=%{x}<br>energy=%{y}<br>danceability=%{marker.color}<extra></extra>",
         "legendgroup": "0.010925961743159827",
         "marker": {
          "color": [
           0.9272983114446529
          ],
          "coloraxis": "coloraxis",
          "symbol": "circle"
         },
         "mode": "markers",
         "name": "0.010925961743159827",
         "scene": "scene",
         "showlegend": true,
         "type": "scatter3d",
         "x": [
          0.6275584386533943
         ],
         "y": [
          0.4254937163375225
         ],
         "z": [
          0.010925961743159827
         ]
        },
        {
         "hovertemplate": "acousticness=%{z}<br>valence=%{x}<br>energy=%{y}<br>danceability=%{marker.color}<extra></extra>",
         "legendgroup": "1.0",
         "marker": {
          "color": [
           0.18855534709193245
          ],
          "coloraxis": "coloraxis",
          "symbol": "diamond"
         },
         "mode": "markers",
         "name": "1.0",
         "scene": "scene",
         "showlegend": true,
         "type": "scatter3d",
         "x": [
          0.05871826417626663
         ],
         "y": [
          0.2501848136022812
         ],
         "z": [
          1
         ]
        },
        {
         "hovertemplate": "acousticness=%{z}<br>valence=%{x}<br>energy=%{y}<br>danceability=%{marker.color}<extra></extra>",
         "legendgroup": "0.005591128435909027",
         "marker": {
          "color": [
           0.28822701688555347
          ],
          "coloraxis": "coloraxis",
          "symbol": "square"
         },
         "mode": "markers",
         "name": "0.005591128435909027",
         "scene": "scene",
         "showlegend": true,
         "type": "scatter3d",
         "x": [
          0.31551280617380606
         ],
         "y": [
          0.9049530045411344
         ],
         "z": [
          0.005591128435909027
         ]
        },
        {
         "hovertemplate": "acousticness=%{z}<br>valence=%{x}<br>energy=%{y}<br>danceability=%{marker.color}<extra></extra>",
         "legendgroup": "0.1663055173840006",
         "marker": {
          "color": [
           0.2624296435272045
          ],
          "coloraxis": "coloraxis",
          "symbol": "x"
         },
         "mode": "markers",
         "name": "0.1663055173840006",
         "scene": "scene",
         "showlegend": true,
         "type": "scatter3d",
         "x": [
          0.20702382283860862
         ],
         "y": [
          0.9799345231809062
         ],
         "z": [
          0.1663055173840006
         ]
        },
        {
         "hovertemplate": "acousticness=%{z}<br>valence=%{x}<br>energy=%{y}<br>danceability=%{marker.color}<extra></extra>",
         "legendgroup": "0.8448232897320586",
         "marker": {
          "color": [
           0.10530018761726079
          ],
          "coloraxis": "coloraxis",
          "symbol": "cross"
         },
         "mode": "markers",
         "name": "0.8448232897320586",
         "scene": "scene",
         "showlegend": true,
         "type": "scatter3d",
         "x": [
          0.04205346158147859
         ],
         "y": [
          0.03178793959235399
         ],
         "z": [
          0.8448232897320586
         ]
        },
        {
         "hovertemplate": "acousticness=%{z}<br>valence=%{x}<br>energy=%{y}<br>danceability=%{marker.color}<extra></extra>",
         "legendgroup": "0.04064280887290287",
         "marker": {
          "color": [
           0.6411819887429644
          ],
          "coloraxis": "coloraxis",
          "symbol": "circle"
         },
         "mode": "markers",
         "name": "0.04064280887290287",
         "scene": "scene",
         "showlegend": true,
         "type": "scatter3d",
         "x": [
          0.24057711665361814
         ],
         "y": [
          0.8437004963565319
         ],
         "z": [
          0.04064280887290287
         ]
        },
        {
         "hovertemplate": "acousticness=%{z}<br>valence=%{x}<br>energy=%{y}<br>danceability=%{marker.color}<extra></extra>",
         "legendgroup": "0.011128807116059096",
         "marker": {
          "color": [
           0.4113508442776736
          ],
          "coloraxis": "coloraxis",
          "symbol": "diamond"
         },
         "mode": "markers",
         "name": "0.011128807116059096",
         "scene": "scene",
         "showlegend": true,
         "type": "scatter3d",
         "x": [
          0.0077172575774521815
         ],
         "y": [
          0.32833456542401523
         ],
         "z": [
          0.011128807116059096
         ]
        },
        {
         "hovertemplate": "acousticness=%{z}<br>valence=%{x}<br>energy=%{y}<br>danceability=%{marker.color}<extra></extra>",
         "legendgroup": "0.7545570987918835",
         "marker": {
          "color": [
           0.549718574108818
          ],
          "coloraxis": "coloraxis",
          "symbol": "square"
         },
         "mode": "markers",
         "name": "0.7545570987918835",
         "scene": "scene",
         "showlegend": true,
         "type": "scatter3d",
         "x": [
          0.1611676546247623
         ],
         "y": [
          0.8627098954483051
         ],
         "z": [
          0.7545570987918835
         ]
        },
        {
         "hovertemplate": "acousticness=%{z}<br>valence=%{x}<br>energy=%{y}<br>danceability=%{marker.color}<extra></extra>",
         "legendgroup": "0.60546574971092",
         "marker": {
          "color": [
           0.15924015009380865
          ],
          "coloraxis": "coloraxis",
          "symbol": "x"
         },
         "mode": "markers",
         "name": "0.60546574971092",
         "scene": "scene",
         "showlegend": true,
         "type": "scatter3d",
         "x": [
          0.19695783469410577
         ],
         "y": [
          0.2903157672404689
         ],
         "z": [
          0.60546574971092
         ]
        },
        {
         "hovertemplate": "acousticness=%{z}<br>valence=%{x}<br>energy=%{y}<br>danceability=%{marker.color}<extra></extra>",
         "legendgroup": "0.017011322930137924",
         "marker": {
          "color": [
           0.6599437148217637
          ],
          "coloraxis": "coloraxis",
          "symbol": "cross"
         },
         "mode": "markers",
         "name": "0.017011322930137924",
         "scene": "scene",
         "showlegend": true,
         "type": "scatter3d",
         "x": [
          0.5459120903702046
         ],
         "y": [
          0.9007286936318515
         ],
         "z": [
          0.017011322930137924
         ]
        },
        {
         "hovertemplate": "acousticness=%{z}<br>valence=%{x}<br>energy=%{y}<br>danceability=%{marker.color}<extra></extra>",
         "legendgroup": "0.001108245694835161",
         "marker": {
          "color": [
           0.6376641651031896
          ],
          "coloraxis": "coloraxis",
          "symbol": "circle"
         },
         "mode": "markers",
         "name": "0.001108245694835161",
         "scene": "scene",
         "showlegend": true,
         "type": "scatter3d",
         "x": [
          0.6667039481042388
         ],
         "y": [
          0.7835040658992504
         ],
         "z": [
          0.001108245694835161
         ]
        },
        {
         "hovertemplate": "acousticness=%{z}<br>valence=%{x}<br>energy=%{y}<br>danceability=%{marker.color}<extra></extra>",
         "legendgroup": "0.7667278211658396",
         "marker": {
          "color": [
           0.4430112570356473
          ],
          "coloraxis": "coloraxis",
          "symbol": "diamond"
         },
         "mode": "markers",
         "name": "0.7667278211658396",
         "scene": "scene",
         "showlegend": true,
         "type": "scatter3d",
         "x": [
          0.2036684934571077
         ],
         "y": [
          0.8605977399936636
         ],
         "z": [
          0.7667278211658396
         ]
        },
        {
         "hovertemplate": "acousticness=%{z}<br>valence=%{x}<br>energy=%{y}<br>danceability=%{marker.color}<extra></extra>",
         "legendgroup": "0.33973831121287645",
         "marker": {
          "color": [
           0.34803001876172607
          ],
          "coloraxis": "coloraxis",
          "symbol": "square"
         },
         "mode": "markers",
         "name": "0.33973831121287645",
         "scene": "scene",
         "showlegend": true,
         "type": "scatter3d",
         "x": [
          0.5772284979308802
         ],
         "y": [
          0.5870736086175943
         ],
         "z": [
          0.33973831121287645
         ]
        },
        {
         "hovertemplate": "acousticness=%{z}<br>valence=%{x}<br>energy=%{y}<br>danceability=%{marker.color}<extra></extra>",
         "legendgroup": "0.028269241126047406",
         "marker": {
          "color": [
           0.851078799249531
          ],
          "coloraxis": "coloraxis",
          "symbol": "x"
         },
         "mode": "markers",
         "name": "0.028269241126047406",
         "scene": "scene",
         "showlegend": true,
         "type": "scatter3d",
         "x": [
          0.9999999999999999
         ],
         "y": [
          0.5828492977083114
         ],
         "z": [
          0.028269241126047406
         ]
        },
        {
         "hovertemplate": "acousticness=%{z}<br>valence=%{x}<br>energy=%{y}<br>danceability=%{marker.color}<extra></extra>",
         "legendgroup": "0.019242622032029894",
         "marker": {
          "color": [
           0.6294559099437149
          ],
          "coloraxis": "coloraxis",
          "symbol": "cross"
         },
         "mode": "markers",
         "name": "0.019242622032029894",
         "scene": "scene",
         "showlegend": true,
         "type": "scatter3d",
         "x": [
          0.521306341572531
         ],
         "y": [
          0.8468687295384941
         ],
         "z": [
          0.019242622032029894
         ]
        },
        {
         "hovertemplate": "acousticness=%{z}<br>valence=%{x}<br>energy=%{y}<br>danceability=%{marker.color}<extra></extra>",
         "legendgroup": "0.10088788462398604",
         "marker": {
          "color": [
           0.946060037523452
          ],
          "coloraxis": "coloraxis",
          "symbol": "circle"
         },
         "mode": "markers",
         "name": "0.10088788462398604",
         "scene": "scene",
         "showlegend": true,
         "type": "scatter3d",
         "x": [
          0.6398613130522313
         ],
         "y": [
          0.6536065054388004
         ],
         "z": [
          0.10088788462398604
         ]
        },
        {
         "hovertemplate": "acousticness=%{z}<br>valence=%{x}<br>energy=%{y}<br>danceability=%{marker.color}<extra></extra>",
         "legendgroup": "0.9026342210083506",
         "marker": {
          "color": [
           0.3046435272045028
          ],
          "coloraxis": "coloraxis",
          "symbol": "diamond"
         },
         "mode": "markers",
         "name": "0.9026342210083506",
         "scene": "scene",
         "showlegend": true,
         "type": "scatter3d",
         "x": [
          0.17794430153226706
         ],
         "y": [
          0.9957756890907172
         ],
         "z": [
          0.9026342210083506
         ]
        },
        {
         "hovertemplate": "acousticness=%{z}<br>valence=%{x}<br>energy=%{y}<br>danceability=%{marker.color}<extra></extra>",
         "legendgroup": "0.0049825923172112175",
         "marker": {
          "color": [
           0.5086772983114447
          ],
          "coloraxis": "coloraxis",
          "symbol": "square"
         },
         "mode": "markers",
         "name": "0.0049825923172112175",
         "scene": "scene",
         "showlegend": true,
         "type": "scatter3d",
         "x": [
          0.22939268538194835
         ],
         "y": [
          0.541662266342803
         ],
         "z": [
          0.0049825923172112175
         ]
        },
        {
         "hovertemplate": "acousticness=%{z}<br>valence=%{x}<br>energy=%{y}<br>danceability=%{marker.color}<extra></extra>",
         "legendgroup": "0.0",
         "marker": {
          "color": [
           0.17917448405253283
          ],
          "coloraxis": "coloraxis",
          "symbol": "x"
         },
         "mode": "markers",
         "name": "0.0",
         "scene": "scene",
         "showlegend": true,
         "type": "scatter3d",
         "x": [
          0.2148529247287775
         ],
         "y": [
          0.9186820149963039
         ],
         "z": [
          0
         ]
        },
        {
         "hovertemplate": "acousticness=%{z}<br>valence=%{x}<br>energy=%{y}<br>danceability=%{marker.color}<extra></extra>",
         "legendgroup": "0.10342345178522691",
         "marker": {
          "color": [
           0.6271106941838649
          ],
          "coloraxis": "coloraxis",
          "symbol": "cross"
         },
         "mode": "markers",
         "name": "0.10342345178522691",
         "scene": "scene",
         "showlegend": true,
         "type": "scatter3d",
         "x": [
          0.3636058606419863
         ],
         "y": [
          0.6821206040764601
         ],
         "z": [
          0.10342345178522691
         ]
        },
        {
         "hovertemplate": "acousticness=%{z}<br>valence=%{x}<br>energy=%{y}<br>danceability=%{marker.color}<extra></extra>",
         "legendgroup": "0.0004621831821509866",
         "marker": {
          "color": [
           0.18855534709193245
          ],
          "coloraxis": "coloraxis",
          "symbol": "circle"
         },
         "mode": "markers",
         "name": "0.0004621831821509866",
         "scene": "scene",
         "showlegend": true,
         "type": "scatter3d",
         "x": [
          0.1354434626999217
         ],
         "y": [
          0.8869996831766819
         ],
         "z": [
          0.0004621831821509866
         ]
        },
        {
         "hovertemplate": "acousticness=%{z}<br>valence=%{x}<br>energy=%{y}<br>danceability=%{marker.color}<extra></extra>",
         "legendgroup": "0.002761435483964211",
         "marker": {
          "color": [
           0.45239212007504687
          ],
          "coloraxis": "coloraxis",
          "symbol": "diamond"
         },
         "mode": "markers",
         "name": "0.002761435483964211",
         "scene": "scene",
         "showlegend": true,
         "type": "scatter3d",
         "x": [
          0.6823621518845766
         ],
         "y": [
          1.0000000000000002
         ],
         "z": [
          0.002761435483964211
         ]
        },
        {
         "hovertemplate": "acousticness=%{z}<br>valence=%{x}<br>energy=%{y}<br>danceability=%{marker.color}<extra></extra>",
         "legendgroup": "0.04297553066124448",
         "marker": {
          "color": [
           0.37734521575984986
          ],
          "coloraxis": "coloraxis",
          "symbol": "square"
         },
         "mode": "markers",
         "name": "0.04297553066124448",
         "scene": "scene",
         "showlegend": true,
         "type": "scatter3d",
         "x": [
          0.35018454311598257
         ],
         "y": [
          0.8183546309008345
         ],
         "z": [
          0.04297553066124448
         ]
        },
        {
         "hovertemplate": "acousticness=%{z}<br>valence=%{x}<br>energy=%{y}<br>danceability=%{marker.color}<extra></extra>",
         "legendgroup": "0.029892004109241564",
         "marker": {
          "color": [
           0.4863977485928705
          ],
          "coloraxis": "coloraxis",
          "symbol": "x"
         },
         "mode": "markers",
         "name": "0.029892004109241564",
         "scene": "scene",
         "showlegend": true,
         "type": "scatter3d",
         "x": [
          0.6700592774857398
         ],
         "y": [
          0.8648220509029465
         ],
         "z": [
          0.029892004109241564
         ]
        },
        {
         "hovertemplate": "acousticness=%{z}<br>valence=%{x}<br>energy=%{y}<br>danceability=%{marker.color}<extra></extra>",
         "legendgroup": "0.1581917024680298",
         "marker": {
          "color": [
           0.8065196998123827
          ],
          "coloraxis": "coloraxis",
          "symbol": "cross"
         },
         "mode": "markers",
         "name": "0.1581917024680298",
         "scene": "scene",
         "showlegend": true,
         "type": "scatter3d",
         "x": [
          0.3445923274801476
         ],
         "y": [
          0.47724152497623823
         ],
         "z": [
          0.1581917024680298
         ]
        },
        {
         "hovertemplate": "acousticness=%{z}<br>valence=%{x}<br>energy=%{y}<br>danceability=%{marker.color}<extra></extra>",
         "legendgroup": "0.4492748125784822",
         "marker": {
          "color": [
           0.8604596622889304
          ],
          "coloraxis": "coloraxis",
          "symbol": "circle"
         },
         "mode": "markers",
         "name": "0.4492748125784822",
         "scene": "scene",
         "showlegend": true,
         "type": "scatter3d",
         "x": [
          0.793088021474108
         ],
         "y": [
          0.820466786355476
         ],
         "z": [
          0.4492748125784822
         ]
        },
        {
         "hovertemplate": "acousticness=%{z}<br>valence=%{x}<br>energy=%{y}<br>danceability=%{marker.color}<extra></extra>",
         "legendgroup": "0.5293987348736938",
         "marker": {
          "color": [
           0.6833958724202627
          ],
          "coloraxis": "coloraxis",
          "symbol": "diamond"
         },
         "mode": "markers",
         "name": "0.5293987348736938",
         "scene": "scene",
         "showlegend": true,
         "type": "scatter3d",
         "x": [
          0.4061066994743317
         ],
         "y": [
          0.8172985531735137
         ],
         "z": [
          0.5293987348736938
         ]
        },
        {
         "hovertemplate": "acousticness=%{z}<br>valence=%{x}<br>energy=%{y}<br>danceability=%{marker.color}<extra></extra>",
         "legendgroup": "0.6480632780197667",
         "marker": {
          "color": [
           0.17800187617260788
          ],
          "coloraxis": "coloraxis",
          "symbol": "square"
         },
         "mode": "markers",
         "name": "0.6480632780197667",
         "scene": "scene",
         "showlegend": true,
         "type": "scatter3d",
         "x": [
          0.029750587182641758
         ],
         "y": [
          0.4064843172457493
         ],
         "z": [
          0.6480632780197667
         ]
        },
        {
         "hovertemplate": "acousticness=%{z}<br>valence=%{x}<br>energy=%{y}<br>danceability=%{marker.color}<extra></extra>",
         "legendgroup": "0.6470490511552703",
         "marker": {
          "color": [
           0.8416979362101313
          ],
          "coloraxis": "coloraxis",
          "symbol": "x"
         },
         "mode": "markers",
         "name": "0.6470490511552703",
         "scene": "scene",
         "showlegend": true,
         "type": "scatter3d",
         "x": [
          0.8165753271446147
         ],
         "y": [
          0.6166437849825748
         ],
         "z": [
          0.6470490511552703
         ]
        },
        {
         "hovertemplate": "acousticness=%{z}<br>valence=%{x}<br>energy=%{y}<br>danceability=%{marker.color}<extra></extra>",
         "legendgroup": "2.5152826239509474e-05",
         "marker": {
          "color": [
           0.3339587242026266
          ],
          "coloraxis": "coloraxis",
          "symbol": "cross"
         },
         "mode": "markers",
         "name": "2.5152826239509474e-05",
         "scene": "scene",
         "showlegend": true,
         "type": "scatter3d",
         "x": [
          0.4005144838384968
         ],
         "y": [
          0.9598690463618123
         ],
         "z": [
          2.5152826239509474e-05
         ]
        },
        {
         "hovertemplate": "acousticness=%{z}<br>valence=%{x}<br>energy=%{y}<br>danceability=%{marker.color}<extra></extra>",
         "legendgroup": "0.8600366926995038",
         "marker": {
          "color": [
           0.6611163227016885
          ],
          "coloraxis": "coloraxis",
          "symbol": "circle"
         },
         "mode": "markers",
         "name": "0.8600366926995038",
         "scene": "scene",
         "showlegend": true,
         "type": "scatter3d",
         "x": [
          0.37702717816799014
         ],
         "y": [
          0.4529517372478615
         ],
         "z": [
          0.8600366926995038
         ]
        },
        {
         "hovertemplate": "acousticness=%{z}<br>valence=%{x}<br>energy=%{y}<br>danceability=%{marker.color}<extra></extra>",
         "legendgroup": "0.06326006795117146",
         "marker": {
          "color": [
           0.7842401500938085
          ],
          "coloraxis": "coloraxis",
          "symbol": "diamond"
         },
         "mode": "markers",
         "name": "0.06326006795117146",
         "scene": "scene",
         "showlegend": true,
         "type": "scatter3d",
         "x": [
          0.05726428811094955
         ],
         "y": [
          0.5596155877072554
         ],
         "z": [
          0.06326006795117146
         ]
        },
        {
         "hovertemplate": "acousticness=%{z}<br>valence=%{x}<br>energy=%{y}<br>danceability=%{marker.color}<extra></extra>",
         "legendgroup": "0.6287929675943361",
         "marker": {
          "color": [
           0.5931050656660413
          ],
          "coloraxis": "coloraxis",
          "symbol": "square"
         },
         "mode": "markers",
         "name": "0.6287929675943361",
         "scene": "scene",
         "showlegend": true,
         "type": "scatter3d",
         "x": [
          0.4061066994743317
         ],
         "y": [
          0.3916992290632591
         ],
         "z": [
          0.6287929675943361
         ]
        },
        {
         "hovertemplate": "acousticness=%{z}<br>valence=%{x}<br>energy=%{y}<br>danceability=%{marker.color}<extra></extra>",
         "legendgroup": "0.8681505076154746",
         "marker": {
          "color": [
           0.49343339587242024
          ],
          "coloraxis": "coloraxis",
          "symbol": "x"
         },
         "mode": "markers",
         "name": "0.8681505076154746",
         "scene": "scene",
         "showlegend": true,
         "type": "scatter3d",
         "x": [
          0.2361033441449502
         ],
         "y": [
          0.49625092406801147
         ],
         "z": [
          0.8681505076154746
         ]
        },
        {
         "hovertemplate": "acousticness=%{z}<br>valence=%{x}<br>energy=%{y}<br>danceability=%{marker.color}<extra></extra>",
         "legendgroup": "0.004759462407022021",
         "marker": {
          "color": [
           0.5837242026266416
          ],
          "coloraxis": "coloraxis",
          "symbol": "cross"
         },
         "mode": "markers",
         "name": "0.004759462407022021",
         "scene": "scene",
         "showlegend": true,
         "type": "scatter3d",
         "x": [
          0.011967341460686724
         ],
         "y": [
          0.89861653817721
         ],
         "z": [
          0.004759462407022021
         ]
        },
        {
         "hovertemplate": "acousticness=%{z}<br>valence=%{x}<br>energy=%{y}<br>danceability=%{marker.color}<extra></extra>",
         "legendgroup": "0.00270058187209443",
         "marker": {
          "color": [
           0.7314727954971858
          ],
          "coloraxis": "coloraxis",
          "symbol": "circle"
         },
         "mode": "markers",
         "name": "0.00270058187209443",
         "scene": "scene",
         "showlegend": true,
         "type": "scatter3d",
         "x": [
          0.51795101219103
         ],
         "y": [
          0.8384201077199283
         ],
         "z": [
          0.00270058187209443
         ]
        },
        {
         "hovertemplate": "acousticness=%{z}<br>valence=%{x}<br>energy=%{y}<br>danceability=%{marker.color}<extra></extra>",
         "legendgroup": "0.0644771401885671",
         "marker": {
          "color": [
           0.9296435272045027
          ],
          "coloraxis": "coloraxis",
          "symbol": "diamond"
         },
         "mode": "markers",
         "name": "0.0644771401885671",
         "scene": "scene",
         "showlegend": true,
         "type": "scatter3d",
         "x": [
          0.7852589195839391
         ],
         "y": [
          0.5712324427077833
         ],
         "z": [
          0.0644771401885671
         ]
        },
        {
         "hovertemplate": "acousticness=%{z}<br>valence=%{x}<br>energy=%{y}<br>danceability=%{marker.color}<extra></extra>",
         "legendgroup": "0.608508430304409",
         "marker": {
          "color": [
           0.6095215759849906
          ],
          "coloraxis": "coloraxis",
          "symbol": "square"
         },
         "mode": "markers",
         "name": "0.608508430304409",
         "scene": "scene",
         "showlegend": true,
         "type": "scatter3d",
         "x": [
          0.4295940051448383
         ],
         "y": [
          0.4001478508818249
         ],
         "z": [
          0.608508430304409
         ]
        },
        {
         "hovertemplate": "acousticness=%{z}<br>valence=%{x}<br>energy=%{y}<br>danceability=%{marker.color}<extra></extra>",
         "legendgroup": "0.01366437427729997",
         "marker": {
          "color": [
           0.6704971857410882
          ],
          "coloraxis": "coloraxis",
          "symbol": "x"
         },
         "mode": "markers",
         "name": "0.01366437427729997",
         "scene": "scene",
         "showlegend": true,
         "type": "scatter3d",
         "x": [
          0
         ],
         "y": [
          0.9186820149963039
         ],
         "z": [
          0.01366437427729997
         ]
        }
       ],
       "layout": {
        "coloraxis": {
         "colorbar": {
          "title": {
           "text": "danceability"
          }
         },
         "colorscale": [
          [
           0,
           "#0d0887"
          ],
          [
           0.1111111111111111,
           "#46039f"
          ],
          [
           0.2222222222222222,
           "#7201a8"
          ],
          [
           0.3333333333333333,
           "#9c179e"
          ],
          [
           0.4444444444444444,
           "#bd3786"
          ],
          [
           0.5555555555555556,
           "#d8576b"
          ],
          [
           0.6666666666666666,
           "#ed7953"
          ],
          [
           0.7777777777777778,
           "#fb9f3a"
          ],
          [
           0.8888888888888888,
           "#fdca26"
          ],
          [
           1,
           "#f0f921"
          ]
         ]
        },
        "legend": {
         "title": {
          "text": "acousticness"
         },
         "tracegroupgap": 0,
         "x": 0,
         "y": 1
        },
        "margin": {
         "t": 60
        },
        "scene": {
         "domain": {
          "x": [
           0,
           1
          ],
          "y": [
           0,
           1
          ]
         },
         "xaxis": {
          "title": {
           "text": "valence"
          }
         },
         "yaxis": {
          "title": {
           "text": "energy"
          }
         },
         "zaxis": {
          "categoryarray": [
           0.00035771781510786257,
           0.45028903944297854,
           0.031514767092435725,
           0.07786493479991889,
           0.06092734616282987,
           0.2596143889176648,
           0.08719582195328532,
           0.03841150977101091,
           0.5040430632612851,
           0.625750287000847,
           0.1480494338230663,
           0.08770293538553349,
           0.0026802973348045035,
           0.11356572043019042,
           0.23324449044075968,
           0.7241302928569929,
           0.0002268825495878334,
           0.9949288656775183,
           0.047843819610826954,
           0.22513067552478888,
           0.4158053260501026,
           0.3377098574838837,
           0.2028176845058692,
           0.18659005467392759,
           0.07015681062974664,
           0.6277787407298397,
           0.8914777254988907,
           0.8164249375261609,
           7.779120050687002e-05,
           0.07867631629151599,
           0.0007684796952288842,
           0.04987227333981966,
           0.9827581433035621,
           0.416819552914599,
           0.002000765335591949,
           0.11255149356569406,
           0.02613936471060507,
           0.0006954553609851469,
           0.8296098867646132,
           0.005804116077453261,
           0.08841289419068094,
           0.953345564233168,
           0.7190591585345112,
           0.08496452285139335,
           0.4949150214808179,
           0.15717747560353346,
           0.8032399882877083,
           0.2444009859502195,
           0.9553740179621606,
           0.1602201561970225,
           0.889449271769898,
           0.004637755183282458,
           0.7271729734504819,
           0.04764097423792769,
           0.0029135695136386633,
           0.0001690716183115415,
           0.21803108747331443,
           0.0043436293925785165,
           0.18760428153842393,
           0.6308214213233287,
           0.010925961743159827,
           1,
           0.005591128435909027,
           0.1663055173840006,
           0.8448232897320586,
           0.04064280887290287,
           0.011128807116059096,
           0.7545570987918835,
           0.60546574971092,
           0.017011322930137924,
           0.001108245694835161,
           0.7667278211658396,
           0.33973831121287645,
           0.028269241126047406,
           0.019242622032029894,
           0.10088788462398604,
           0.9026342210083506,
           0.0049825923172112175,
           0,
           0.10342345178522691,
           0.0004621831821509866,
           0.002761435483964211,
           0.04297553066124448,
           0.029892004109241564,
           0.1581917024680298,
           0.4492748125784822,
           0.5293987348736938,
           0.6480632780197667,
           0.6470490511552703,
           2.5152826239509474e-05,
           0.8600366926995038,
           0.06326006795117146,
           0.6287929675943361,
           0.8681505076154746,
           0.004759462407022021,
           0.00270058187209443,
           0.0644771401885671,
           0.608508430304409,
           0.01366437427729997
          ],
          "categoryorder": "array",
          "title": {
           "text": "acousticness"
          }
         }
        },
        "template": {
         "data": {
          "bar": [
           {
            "error_x": {
             "color": "#2a3f5f"
            },
            "error_y": {
             "color": "#2a3f5f"
            },
            "marker": {
             "line": {
              "color": "#E5ECF6",
              "width": 0.5
             }
            },
            "type": "bar"
           }
          ],
          "barpolar": [
           {
            "marker": {
             "line": {
              "color": "#E5ECF6",
              "width": 0.5
             }
            },
            "type": "barpolar"
           }
          ],
          "carpet": [
           {
            "aaxis": {
             "endlinecolor": "#2a3f5f",
             "gridcolor": "white",
             "linecolor": "white",
             "minorgridcolor": "white",
             "startlinecolor": "#2a3f5f"
            },
            "baxis": {
             "endlinecolor": "#2a3f5f",
             "gridcolor": "white",
             "linecolor": "white",
             "minorgridcolor": "white",
             "startlinecolor": "#2a3f5f"
            },
            "type": "carpet"
           }
          ],
          "choropleth": [
           {
            "colorbar": {
             "outlinewidth": 0,
             "ticks": ""
            },
            "type": "choropleth"
           }
          ],
          "contour": [
           {
            "colorbar": {
             "outlinewidth": 0,
             "ticks": ""
            },
            "colorscale": [
             [
              0,
              "#0d0887"
             ],
             [
              0.1111111111111111,
              "#46039f"
             ],
             [
              0.2222222222222222,
              "#7201a8"
             ],
             [
              0.3333333333333333,
              "#9c179e"
             ],
             [
              0.4444444444444444,
              "#bd3786"
             ],
             [
              0.5555555555555556,
              "#d8576b"
             ],
             [
              0.6666666666666666,
              "#ed7953"
             ],
             [
              0.7777777777777778,
              "#fb9f3a"
             ],
             [
              0.8888888888888888,
              "#fdca26"
             ],
             [
              1,
              "#f0f921"
             ]
            ],
            "type": "contour"
           }
          ],
          "contourcarpet": [
           {
            "colorbar": {
             "outlinewidth": 0,
             "ticks": ""
            },
            "type": "contourcarpet"
           }
          ],
          "heatmap": [
           {
            "colorbar": {
             "outlinewidth": 0,
             "ticks": ""
            },
            "colorscale": [
             [
              0,
              "#0d0887"
             ],
             [
              0.1111111111111111,
              "#46039f"
             ],
             [
              0.2222222222222222,
              "#7201a8"
             ],
             [
              0.3333333333333333,
              "#9c179e"
             ],
             [
              0.4444444444444444,
              "#bd3786"
             ],
             [
              0.5555555555555556,
              "#d8576b"
             ],
             [
              0.6666666666666666,
              "#ed7953"
             ],
             [
              0.7777777777777778,
              "#fb9f3a"
             ],
             [
              0.8888888888888888,
              "#fdca26"
             ],
             [
              1,
              "#f0f921"
             ]
            ],
            "type": "heatmap"
           }
          ],
          "heatmapgl": [
           {
            "colorbar": {
             "outlinewidth": 0,
             "ticks": ""
            },
            "colorscale": [
             [
              0,
              "#0d0887"
             ],
             [
              0.1111111111111111,
              "#46039f"
             ],
             [
              0.2222222222222222,
              "#7201a8"
             ],
             [
              0.3333333333333333,
              "#9c179e"
             ],
             [
              0.4444444444444444,
              "#bd3786"
             ],
             [
              0.5555555555555556,
              "#d8576b"
             ],
             [
              0.6666666666666666,
              "#ed7953"
             ],
             [
              0.7777777777777778,
              "#fb9f3a"
             ],
             [
              0.8888888888888888,
              "#fdca26"
             ],
             [
              1,
              "#f0f921"
             ]
            ],
            "type": "heatmapgl"
           }
          ],
          "histogram": [
           {
            "marker": {
             "colorbar": {
              "outlinewidth": 0,
              "ticks": ""
             }
            },
            "type": "histogram"
           }
          ],
          "histogram2d": [
           {
            "colorbar": {
             "outlinewidth": 0,
             "ticks": ""
            },
            "colorscale": [
             [
              0,
              "#0d0887"
             ],
             [
              0.1111111111111111,
              "#46039f"
             ],
             [
              0.2222222222222222,
              "#7201a8"
             ],
             [
              0.3333333333333333,
              "#9c179e"
             ],
             [
              0.4444444444444444,
              "#bd3786"
             ],
             [
              0.5555555555555556,
              "#d8576b"
             ],
             [
              0.6666666666666666,
              "#ed7953"
             ],
             [
              0.7777777777777778,
              "#fb9f3a"
             ],
             [
              0.8888888888888888,
              "#fdca26"
             ],
             [
              1,
              "#f0f921"
             ]
            ],
            "type": "histogram2d"
           }
          ],
          "histogram2dcontour": [
           {
            "colorbar": {
             "outlinewidth": 0,
             "ticks": ""
            },
            "colorscale": [
             [
              0,
              "#0d0887"
             ],
             [
              0.1111111111111111,
              "#46039f"
             ],
             [
              0.2222222222222222,
              "#7201a8"
             ],
             [
              0.3333333333333333,
              "#9c179e"
             ],
             [
              0.4444444444444444,
              "#bd3786"
             ],
             [
              0.5555555555555556,
              "#d8576b"
             ],
             [
              0.6666666666666666,
              "#ed7953"
             ],
             [
              0.7777777777777778,
              "#fb9f3a"
             ],
             [
              0.8888888888888888,
              "#fdca26"
             ],
             [
              1,
              "#f0f921"
             ]
            ],
            "type": "histogram2dcontour"
           }
          ],
          "mesh3d": [
           {
            "colorbar": {
             "outlinewidth": 0,
             "ticks": ""
            },
            "type": "mesh3d"
           }
          ],
          "parcoords": [
           {
            "line": {
             "colorbar": {
              "outlinewidth": 0,
              "ticks": ""
             }
            },
            "type": "parcoords"
           }
          ],
          "pie": [
           {
            "automargin": true,
            "type": "pie"
           }
          ],
          "scatter": [
           {
            "marker": {
             "colorbar": {
              "outlinewidth": 0,
              "ticks": ""
             }
            },
            "type": "scatter"
           }
          ],
          "scatter3d": [
           {
            "line": {
             "colorbar": {
              "outlinewidth": 0,
              "ticks": ""
             }
            },
            "marker": {
             "colorbar": {
              "outlinewidth": 0,
              "ticks": ""
             }
            },
            "type": "scatter3d"
           }
          ],
          "scattercarpet": [
           {
            "marker": {
             "colorbar": {
              "outlinewidth": 0,
              "ticks": ""
             }
            },
            "type": "scattercarpet"
           }
          ],
          "scattergeo": [
           {
            "marker": {
             "colorbar": {
              "outlinewidth": 0,
              "ticks": ""
             }
            },
            "type": "scattergeo"
           }
          ],
          "scattergl": [
           {
            "marker": {
             "colorbar": {
              "outlinewidth": 0,
              "ticks": ""
             }
            },
            "type": "scattergl"
           }
          ],
          "scattermapbox": [
           {
            "marker": {
             "colorbar": {
              "outlinewidth": 0,
              "ticks": ""
             }
            },
            "type": "scattermapbox"
           }
          ],
          "scatterpolar": [
           {
            "marker": {
             "colorbar": {
              "outlinewidth": 0,
              "ticks": ""
             }
            },
            "type": "scatterpolar"
           }
          ],
          "scatterpolargl": [
           {
            "marker": {
             "colorbar": {
              "outlinewidth": 0,
              "ticks": ""
             }
            },
            "type": "scatterpolargl"
           }
          ],
          "scatterternary": [
           {
            "marker": {
             "colorbar": {
              "outlinewidth": 0,
              "ticks": ""
             }
            },
            "type": "scatterternary"
           }
          ],
          "surface": [
           {
            "colorbar": {
             "outlinewidth": 0,
             "ticks": ""
            },
            "colorscale": [
             [
              0,
              "#0d0887"
             ],
             [
              0.1111111111111111,
              "#46039f"
             ],
             [
              0.2222222222222222,
              "#7201a8"
             ],
             [
              0.3333333333333333,
              "#9c179e"
             ],
             [
              0.4444444444444444,
              "#bd3786"
             ],
             [
              0.5555555555555556,
              "#d8576b"
             ],
             [
              0.6666666666666666,
              "#ed7953"
             ],
             [
              0.7777777777777778,
              "#fb9f3a"
             ],
             [
              0.8888888888888888,
              "#fdca26"
             ],
             [
              1,
              "#f0f921"
             ]
            ],
            "type": "surface"
           }
          ],
          "table": [
           {
            "cells": {
             "fill": {
              "color": "#EBF0F8"
             },
             "line": {
              "color": "white"
             }
            },
            "header": {
             "fill": {
              "color": "#C8D4E3"
             },
             "line": {
              "color": "white"
             }
            },
            "type": "table"
           }
          ]
         },
         "layout": {
          "annotationdefaults": {
           "arrowcolor": "#2a3f5f",
           "arrowhead": 0,
           "arrowwidth": 1
          },
          "autotypenumbers": "strict",
          "coloraxis": {
           "colorbar": {
            "outlinewidth": 0,
            "ticks": ""
           }
          },
          "colorscale": {
           "diverging": [
            [
             0,
             "#8e0152"
            ],
            [
             0.1,
             "#c51b7d"
            ],
            [
             0.2,
             "#de77ae"
            ],
            [
             0.3,
             "#f1b6da"
            ],
            [
             0.4,
             "#fde0ef"
            ],
            [
             0.5,
             "#f7f7f7"
            ],
            [
             0.6,
             "#e6f5d0"
            ],
            [
             0.7,
             "#b8e186"
            ],
            [
             0.8,
             "#7fbc41"
            ],
            [
             0.9,
             "#4d9221"
            ],
            [
             1,
             "#276419"
            ]
           ],
           "sequential": [
            [
             0,
             "#0d0887"
            ],
            [
             0.1111111111111111,
             "#46039f"
            ],
            [
             0.2222222222222222,
             "#7201a8"
            ],
            [
             0.3333333333333333,
             "#9c179e"
            ],
            [
             0.4444444444444444,
             "#bd3786"
            ],
            [
             0.5555555555555556,
             "#d8576b"
            ],
            [
             0.6666666666666666,
             "#ed7953"
            ],
            [
             0.7777777777777778,
             "#fb9f3a"
            ],
            [
             0.8888888888888888,
             "#fdca26"
            ],
            [
             1,
             "#f0f921"
            ]
           ],
           "sequentialminus": [
            [
             0,
             "#0d0887"
            ],
            [
             0.1111111111111111,
             "#46039f"
            ],
            [
             0.2222222222222222,
             "#7201a8"
            ],
            [
             0.3333333333333333,
             "#9c179e"
            ],
            [
             0.4444444444444444,
             "#bd3786"
            ],
            [
             0.5555555555555556,
             "#d8576b"
            ],
            [
             0.6666666666666666,
             "#ed7953"
            ],
            [
             0.7777777777777778,
             "#fb9f3a"
            ],
            [
             0.8888888888888888,
             "#fdca26"
            ],
            [
             1,
             "#f0f921"
            ]
           ]
          },
          "colorway": [
           "#636efa",
           "#EF553B",
           "#00cc96",
           "#ab63fa",
           "#FFA15A",
           "#19d3f3",
           "#FF6692",
           "#B6E880",
           "#FF97FF",
           "#FECB52"
          ],
          "font": {
           "color": "#2a3f5f"
          },
          "geo": {
           "bgcolor": "white",
           "lakecolor": "white",
           "landcolor": "#E5ECF6",
           "showlakes": true,
           "showland": true,
           "subunitcolor": "white"
          },
          "hoverlabel": {
           "align": "left"
          },
          "hovermode": "closest",
          "mapbox": {
           "style": "light"
          },
          "paper_bgcolor": "white",
          "plot_bgcolor": "#E5ECF6",
          "polar": {
           "angularaxis": {
            "gridcolor": "white",
            "linecolor": "white",
            "ticks": ""
           },
           "bgcolor": "#E5ECF6",
           "radialaxis": {
            "gridcolor": "white",
            "linecolor": "white",
            "ticks": ""
           }
          },
          "scene": {
           "xaxis": {
            "backgroundcolor": "#E5ECF6",
            "gridcolor": "white",
            "gridwidth": 2,
            "linecolor": "white",
            "showbackground": true,
            "ticks": "",
            "zerolinecolor": "white"
           },
           "yaxis": {
            "backgroundcolor": "#E5ECF6",
            "gridcolor": "white",
            "gridwidth": 2,
            "linecolor": "white",
            "showbackground": true,
            "ticks": "",
            "zerolinecolor": "white"
           },
           "zaxis": {
            "backgroundcolor": "#E5ECF6",
            "gridcolor": "white",
            "gridwidth": 2,
            "linecolor": "white",
            "showbackground": true,
            "ticks": "",
            "zerolinecolor": "white"
           }
          },
          "shapedefaults": {
           "line": {
            "color": "#2a3f5f"
           }
          },
          "ternary": {
           "aaxis": {
            "gridcolor": "white",
            "linecolor": "white",
            "ticks": ""
           },
           "baxis": {
            "gridcolor": "white",
            "linecolor": "white",
            "ticks": ""
           },
           "bgcolor": "#E5ECF6",
           "caxis": {
            "gridcolor": "white",
            "linecolor": "white",
            "ticks": ""
           }
          },
          "title": {
           "x": 0.05
          },
          "xaxis": {
           "automargin": true,
           "gridcolor": "white",
           "linecolor": "white",
           "ticks": "",
           "title": {
            "standoff": 15
           },
           "zerolinecolor": "white",
           "zerolinewidth": 2
          },
          "yaxis": {
           "automargin": true,
           "gridcolor": "white",
           "linecolor": "white",
           "ticks": "",
           "title": {
            "standoff": 15
           },
           "zerolinecolor": "white",
           "zerolinewidth": 2
          }
         }
        },
        "width": 800
       }
      },
      "text/html": [
       "<div>                            <div id=\"46e05d26-6ba5-4926-9387-adba2c829b74\" class=\"plotly-graph-div\" style=\"height:525px; width:800px;\"></div>            <script type=\"text/javascript\">                require([\"plotly\"], function(Plotly) {                    window.PLOTLYENV=window.PLOTLYENV || {};                                    if (document.getElementById(\"46e05d26-6ba5-4926-9387-adba2c829b74\")) {                    Plotly.newPlot(                        \"46e05d26-6ba5-4926-9387-adba2c829b74\",                        [{\"hovertemplate\": \"acousticness=%{z}<br>valence=%{x}<br>energy=%{y}<br>danceability=%{marker.color}<extra></extra>\", \"legendgroup\": \"0.00035771781510786257\", \"marker\": {\"color\": [0.6364915572232646], \"coloraxis\": \"coloraxis\", \"symbol\": \"circle\"}, \"mode\": \"markers\", \"name\": \"0.00035771781510786257\", \"scene\": \"scene\", \"showlegend\": true, \"type\": \"scatter3d\", \"x\": [0.30656526115647015], \"y\": [0.7539338895342699], \"z\": [0.00035771781510786257]}, {\"hovertemplate\": \"acousticness=%{z}<br>valence=%{x}<br>energy=%{y}<br>danceability=%{marker.color}<extra></extra>\", \"legendgroup\": \"0.45028903944297854\", \"marker\": {\"color\": [0.5016416510318948], \"coloraxis\": \"coloraxis\", \"symbol\": \"diamond\"}, \"mode\": \"markers\", \"name\": \"0.45028903944297854\", \"scene\": \"scene\", \"showlegend\": true, \"type\": \"scatter3d\", \"x\": [0.09965328263057824], \"y\": [0.2639138240574506], \"z\": [0.45028903944297854]}, {\"hovertemplate\": \"acousticness=%{z}<br>valence=%{x}<br>energy=%{y}<br>danceability=%{marker.color}<extra></extra>\", \"legendgroup\": \"0.031514767092435725\", \"marker\": {\"color\": [0.9999999999999998], \"coloraxis\": \"coloraxis\", \"symbol\": \"square\"}, \"mode\": \"markers\", \"name\": \"0.031514767092435725\", \"scene\": \"scene\", \"showlegend\": true, \"type\": \"scatter3d\", \"x\": [0.4385415501621742], \"y\": [0.5479987327067274], \"z\": [0.031514767092435725]}, {\"hovertemplate\": \"acousticness=%{z}<br>valence=%{x}<br>energy=%{y}<br>danceability=%{marker.color}<extra></extra>\", \"legendgroup\": \"0.07786493479991889\", \"marker\": {\"color\": [0.6235928705440901], \"coloraxis\": \"coloraxis\", \"symbol\": \"x\"}, \"mode\": \"markers\", \"name\": \"0.07786493479991889\", \"scene\": \"scene\", \"showlegend\": true, \"type\": \"scatter3d\", \"x\": [0.021026730790739287], \"y\": [0.8373640299926075], \"z\": [0.07786493479991889]}, {\"hovertemplate\": \"acousticness=%{z}<br>valence=%{x}<br>energy=%{y}<br>danceability=%{marker.color}<extra></extra>\", \"legendgroup\": \"0.06092734616282987\", \"marker\": {\"color\": [0.8639774859287055], \"coloraxis\": \"coloraxis\", \"symbol\": \"cross\"}, \"mode\": \"markers\", \"name\": \"0.06092734616282987\", \"scene\": \"scene\", \"showlegend\": true, \"type\": \"scatter3d\", \"x\": [0.14327256459009058], \"y\": [0.4466152708839371], \"z\": [0.06092734616282987]}, {\"hovertemplate\": \"acousticness=%{z}<br>valence=%{x}<br>energy=%{y}<br>danceability=%{marker.color}<extra></extra>\", \"legendgroup\": \"0.2596143889176648\", \"marker\": {\"color\": [0.7443714821763603], \"coloraxis\": \"coloraxis\", \"symbol\": \"circle\"}, \"mode\": \"markers\", \"name\": \"0.2596143889176648\", \"scene\": \"scene\", \"showlegend\": true, \"type\": \"scatter3d\", \"x\": [0.3390001118443127], \"y\": [0.5817932199809907], \"z\": [0.2596143889176648]}, {\"hovertemplate\": \"acousticness=%{z}<br>valence=%{x}<br>energy=%{y}<br>danceability=%{marker.color}<extra></extra>\", \"legendgroup\": \"0.08719582195328532\", \"marker\": {\"color\": [0.5133677298311445], \"coloraxis\": \"coloraxis\", \"symbol\": \"diamond\"}, \"mode\": \"markers\", \"name\": \"0.08719582195328532\", \"scene\": \"scene\", \"showlegend\": true, \"type\": \"scatter3d\", \"x\": [0.587294486075383], \"y\": [0.8563734290843807], \"z\": [0.08719582195328532]}, {\"hovertemplate\": \"acousticness=%{z}<br>valence=%{x}<br>energy=%{y}<br>danceability=%{marker.color}<extra></extra>\", \"legendgroup\": \"0.03841150977101091\", \"marker\": {\"color\": [0.8475609756097562], \"coloraxis\": \"coloraxis\", \"symbol\": \"square\"}, \"mode\": \"markers\", \"name\": \"0.03841150977101091\", \"scene\": \"scene\", \"showlegend\": true, \"type\": \"scatter3d\", \"x\": [0.33340789620847777], \"y\": [0.713802935896082], \"z\": [0.03841150977101091]}, {\"hovertemplate\": \"acousticness=%{z}<br>valence=%{x}<br>energy=%{y}<br>danceability=%{marker.color}<extra></extra>\", \"legendgroup\": \"0.5040430632612851\", \"marker\": {\"color\": [0.6282833020637899], \"coloraxis\": \"coloraxis\", \"symbol\": \"x\"}, \"mode\": \"markers\", \"name\": \"0.5040430632612851\", \"scene\": \"scene\", \"showlegend\": true, \"type\": \"scatter3d\", \"x\": [0.7416396376244266], \"y\": [0.6430457281655931], \"z\": [0.5040430632612851]}, {\"hovertemplate\": \"acousticness=%{z}<br>valence=%{x}<br>energy=%{y}<br>danceability=%{marker.color}<extra></extra>\", \"legendgroup\": \"0.625750287000847\", \"marker\": {\"color\": [0.34451219512195125], \"coloraxis\": \"coloraxis\", \"symbol\": \"cross\"}, \"mode\": \"markers\", \"name\": \"0.625750287000847\", \"scene\": \"scene\", \"showlegend\": true, \"type\": \"scatter3d\", \"x\": [0.4228833463818365], \"y\": [0.4518956595205408], \"z\": [0.625750287000847]}, {\"hovertemplate\": \"acousticness=%{z}<br>valence=%{x}<br>energy=%{y}<br>danceability=%{marker.color}<extra></extra>\", \"legendgroup\": \"0.1480494338230663\", \"marker\": {\"color\": [0.798311444652908], \"coloraxis\": \"coloraxis\", \"symbol\": \"circle\"}, \"mode\": \"markers\", \"name\": \"0.1480494338230663\", \"scene\": \"scene\", \"showlegend\": true, \"type\": \"scatter3d\", \"x\": [0.5101219103008612], \"y\": [0.5089238567958603], \"z\": [0.1480494338230663]}, {\"hovertemplate\": \"acousticness=%{z}<br>valence=%{x}<br>energy=%{y}<br>danceability=%{marker.color}<extra></extra>\", \"legendgroup\": \"0.08770293538553349\", \"marker\": {\"color\": [0.6364915572232646], \"coloraxis\": \"coloraxis\", \"symbol\": \"diamond\"}, \"mode\": \"markers\", \"name\": \"0.08770293538553349\", \"scene\": \"scene\", \"showlegend\": true, \"type\": \"scatter3d\", \"x\": [0.43294933452633927], \"y\": [0.8658781286302673], \"z\": [0.08770293538553349]}, {\"hovertemplate\": \"acousticness=%{z}<br>valence=%{x}<br>energy=%{y}<br>danceability=%{marker.color}<extra></extra>\", \"legendgroup\": \"0.0026802973348045035\", \"marker\": {\"color\": [0.47936210131332085], \"coloraxis\": \"coloraxis\", \"symbol\": \"square\"}, \"mode\": \"markers\", \"name\": \"0.0026802973348045035\", \"scene\": \"scene\", \"showlegend\": true, \"type\": \"scatter3d\", \"x\": [0.25287999105245496], \"y\": [0.98521491181751], \"z\": [0.0026802973348045035]}, {\"hovertemplate\": \"acousticness=%{z}<br>valence=%{x}<br>energy=%{y}<br>danceability=%{marker.color}<extra></extra>\", \"legendgroup\": \"0.11356572043019042\", \"marker\": {\"color\": [0.8135553470919326], \"coloraxis\": \"coloraxis\", \"symbol\": \"x\"}, \"mode\": \"markers\", \"name\": \"0.11356572043019042\", \"scene\": \"scene\", \"showlegend\": true, \"type\": \"scatter3d\", \"x\": [0.6868359243932446], \"y\": [0.8194107086281552], \"z\": [0.11356572043019042]}, {\"hovertemplate\": \"acousticness=%{z}<br>valence=%{x}<br>energy=%{y}<br>danceability=%{marker.color}<extra></extra>\", \"legendgroup\": \"0.23324449044075968\", \"marker\": {\"color\": [0.47936210131332085], \"coloraxis\": \"coloraxis\", \"symbol\": \"cross\"}, \"mode\": \"markers\", \"name\": \"0.23324449044075968\", \"scene\": \"scene\", \"showlegend\": true, \"type\": \"scatter3d\", \"x\": [0.011743652835253325], \"y\": [0.6335410286197065], \"z\": [0.23324449044075968]}, {\"hovertemplate\": \"acousticness=%{z}<br>valence=%{x}<br>energy=%{y}<br>danceability=%{marker.color}<extra></extra>\", \"legendgroup\": \"0.7241302928569929\", \"marker\": {\"color\": [0.5063320825515947], \"coloraxis\": \"coloraxis\", \"symbol\": \"circle\"}, \"mode\": \"markers\", \"name\": \"0.7241302928569929\", \"scene\": \"scene\", \"showlegend\": true, \"type\": \"scatter3d\", \"x\": [0.3099205905379711], \"y\": [0.27869891223994087], \"z\": [0.7241302928569929]}, {\"hovertemplate\": \"acousticness=%{z}<br>valence=%{x}<br>energy=%{y}<br>danceability=%{marker.color}<extra></extra>\", \"legendgroup\": \"0.0002268825495878334\", \"marker\": {\"color\": [0.3151969981238274], \"coloraxis\": \"coloraxis\", \"symbol\": \"diamond\"}, \"mode\": \"markers\", \"name\": \"0.0002268825495878334\", \"scene\": \"scene\", \"showlegend\": true, \"type\": \"scatter3d\", \"x\": [0.1611676546247623], \"y\": [0.9292427922695112], \"z\": [0.0002268825495878334]}, {\"hovertemplate\": \"acousticness=%{z}<br>valence=%{x}<br>energy=%{y}<br>danceability=%{marker.color}<extra></extra>\", \"legendgroup\": \"0.9949288656775183\", \"marker\": {\"color\": [0.05370544090056287], \"coloraxis\": \"coloraxis\", \"symbol\": \"square\"}, \"mode\": \"markers\", \"name\": \"0.9949288656775183\", \"scene\": \"scene\", \"showlegend\": true, \"type\": \"scatter3d\", \"x\": [0.010513365395369643], \"y\": [0.015101911500686446], \"z\": [0.9949288656775183]}, {\"hovertemplate\": \"acousticness=%{z}<br>valence=%{x}<br>energy=%{y}<br>danceability=%{marker.color}<extra></extra>\", \"legendgroup\": \"0.047843819610826954\", \"marker\": {\"color\": [0.5590994371482176], \"coloraxis\": \"coloraxis\", \"symbol\": \"x\"}, \"mode\": \"markers\", \"name\": \"0.047843819610826954\", \"scene\": \"scene\", \"showlegend\": true, \"type\": \"scatter3d\", \"x\": [0.6409797561793982], \"y\": [0.8796071390854368], \"z\": [0.047843819610826954]}, {\"hovertemplate\": \"acousticness=%{z}<br>valence=%{x}<br>energy=%{y}<br>danceability=%{marker.color}<extra></extra>\", \"legendgroup\": \"0.22513067552478888\", \"marker\": {\"color\": [0.3433395872420263], \"coloraxis\": \"coloraxis\", \"symbol\": \"cross\"}, \"mode\": \"markers\", \"name\": \"0.22513067552478888\", \"scene\": \"scene\", \"showlegend\": true, \"type\": \"scatter3d\", \"x\": [0.21932669723744547], \"y\": [0.33361495406061886], \"z\": [0.22513067552478888]}, {\"hovertemplate\": \"acousticness=%{z}<br>valence=%{x}<br>energy=%{y}<br>danceability=%{marker.color}<extra></extra>\", \"legendgroup\": \"0.4158053260501026\", \"marker\": {\"color\": [0.5075046904315197], \"coloraxis\": \"coloraxis\", \"symbol\": \"circle\"}, \"mode\": \"markers\", \"name\": \"0.4158053260501026\", \"scene\": \"scene\", \"showlegend\": true, \"type\": \"scatter3d\", \"x\": [0.5738731685493793], \"y\": [0.674728059985215], \"z\": [0.4158053260501026]}, {\"hovertemplate\": \"acousticness=%{z}<br>valence=%{x}<br>energy=%{y}<br>danceability=%{marker.color}<extra></extra>\", \"legendgroup\": \"0.3377098574838837\", \"marker\": {\"color\": [0.3679643527204503], \"coloraxis\": \"coloraxis\", \"symbol\": \"diamond\"}, \"mode\": \"markers\", \"name\": \"0.3377098574838837\", \"scene\": \"scene\", \"showlegend\": true, \"type\": \"scatter3d\", \"x\": [0.07549491108377138], \"y\": [0.5131481677051432], \"z\": [0.3377098574838837]}, {\"hovertemplate\": \"acousticness=%{z}<br>valence=%{x}<br>energy=%{y}<br>danceability=%{marker.color}<extra></extra>\", \"legendgroup\": \"0.2028176845058692\", \"marker\": {\"color\": [0.3304409005628518], \"coloraxis\": \"coloraxis\", \"symbol\": \"square\"}, \"mode\": \"markers\", \"name\": \"0.2028176845058692\", \"scene\": \"scene\", \"showlegend\": true, \"type\": \"scatter3d\", \"x\": [0.44860753830667705], \"y\": [0.8225789418101174], \"z\": [0.2028176845058692]}, {\"hovertemplate\": \"acousticness=%{z}<br>valence=%{x}<br>energy=%{y}<br>danceability=%{marker.color}<extra></extra>\", \"legendgroup\": \"0.18659005467392759\", \"marker\": {\"color\": [0.7279549718574108], \"coloraxis\": \"coloraxis\", \"symbol\": \"x\"}, \"mode\": \"markers\", \"name\": \"0.18659005467392759\", \"scene\": \"scene\", \"showlegend\": true, \"type\": \"scatter3d\", \"x\": [0.6029526898557207], \"y\": [0.6874009927130639], \"z\": [0.18659005467392759]}, {\"hovertemplate\": \"acousticness=%{z}<br>valence=%{x}<br>energy=%{y}<br>danceability=%{marker.color}<extra></extra>\", \"legendgroup\": \"0.07015681062974664\", \"marker\": {\"color\": [0.9589587242026265], \"coloraxis\": \"coloraxis\", \"symbol\": \"cross\"}, \"mode\": \"markers\", \"name\": \"0.07015681062974664\", \"scene\": \"scene\", \"showlegend\": true, \"type\": \"scatter3d\", \"x\": [0.35130298624314954], \"y\": [0.7644946668074771], \"z\": [0.07015681062974664]}, {\"hovertemplate\": \"acousticness=%{z}<br>valence=%{x}<br>energy=%{y}<br>danceability=%{marker.color}<extra></extra>\", \"legendgroup\": \"0.6277787407298397\", \"marker\": {\"color\": [0.44652908067542213], \"coloraxis\": \"coloraxis\", \"symbol\": \"circle\"}, \"mode\": \"markers\", \"name\": \"0.6277787407298397\", \"scene\": \"scene\", \"showlegend\": true, \"type\": \"scatter3d\", \"x\": [0.6230846661447265], \"y\": [0.6557186608934419], \"z\": [0.6277787407298397]}, {\"hovertemplate\": \"acousticness=%{z}<br>valence=%{x}<br>energy=%{y}<br>danceability=%{marker.color}<extra></extra>\", \"legendgroup\": \"0.8914777254988907\", \"marker\": {\"color\": [0.5356472795497187], \"coloraxis\": \"coloraxis\", \"symbol\": \"diamond\"}, \"mode\": \"markers\", \"name\": \"0.8914777254988907\", \"scene\": \"scene\", \"showlegend\": true, \"type\": \"scatter3d\", \"x\": [0.21037915222010958], \"y\": [0.53743795543352], \"z\": [0.8914777254988907]}, {\"hovertemplate\": \"acousticness=%{z}<br>valence=%{x}<br>energy=%{y}<br>danceability=%{marker.color}<extra></extra>\", \"legendgroup\": \"0.8164249375261609\", \"marker\": {\"color\": [0.06660412757973733], \"coloraxis\": \"coloraxis\", \"symbol\": \"square\"}, \"mode\": \"markers\", \"name\": \"0.8164249375261609\", \"scene\": \"scene\", \"showlegend\": true, \"type\": \"scatter3d\", \"x\": [0.013085784587853713], \"y\": [0.0], \"z\": [0.8164249375261609]}, {\"hovertemplate\": \"acousticness=%{z}<br>valence=%{x}<br>energy=%{y}<br>danceability=%{marker.color}<extra></extra>\", \"legendgroup\": \"7.779120050687002e-05\", \"marker\": {\"color\": [0.40196998123827393], \"coloraxis\": \"coloraxis\", \"symbol\": \"x\"}, \"mode\": \"markers\", \"name\": \"7.779120050687002e-05\", \"scene\": \"scene\", \"showlegend\": true, \"type\": \"scatter3d\", \"x\": [0.49781903590202436], \"y\": [0.9070651599957759], \"z\": [7.779120050687002e-05]}, {\"hovertemplate\": \"acousticness=%{z}<br>valence=%{x}<br>energy=%{y}<br>danceability=%{marker.color}<extra></extra>\", \"legendgroup\": \"0.07867631629151599\", \"marker\": {\"color\": [0.38555347091932457], \"coloraxis\": \"coloraxis\", \"symbol\": \"cross\"}, \"mode\": \"markers\", \"name\": \"0.07867631629151599\", \"scene\": \"scene\", \"showlegend\": true, \"type\": \"scatter3d\", \"x\": [0.38709316631249296], \"y\": [0.8753828281761539], \"z\": [0.07867631629151599]}, {\"hovertemplate\": \"acousticness=%{z}<br>valence=%{x}<br>energy=%{y}<br>danceability=%{marker.color}<extra></extra>\", \"legendgroup\": \"0.0007684796952288842\", \"marker\": {\"color\": [0.4711538461538461], \"coloraxis\": \"coloraxis\", \"symbol\": \"circle\"}, \"mode\": \"markers\", \"name\": \"0.0007684796952288842\", \"scene\": \"scene\", \"showlegend\": true, \"type\": \"scatter3d\", \"x\": [0.655519516832569], \"y\": [0.8722145949941916], \"z\": [0.0007684796952288842]}, {\"hovertemplate\": \"acousticness=%{z}<br>valence=%{x}<br>energy=%{y}<br>danceability=%{marker.color}<extra></extra>\", \"legendgroup\": \"0.04987227333981966\", \"marker\": {\"color\": [0.2893996247654784], \"coloraxis\": \"coloraxis\", \"symbol\": \"diamond\"}, \"mode\": \"markers\", \"name\": \"0.04987227333981966\", \"scene\": \"scene\", \"showlegend\": true, \"type\": \"scatter3d\", \"x\": [0.6946650262834134], \"y\": [0.5363818777061993], \"z\": [0.04987227333981966]}, {\"hovertemplate\": \"acousticness=%{z}<br>valence=%{x}<br>energy=%{y}<br>danceability=%{marker.color}<extra></extra>\", \"legendgroup\": \"0.9827581433035621\", \"marker\": {\"color\": [0.13344277673545968], \"coloraxis\": \"coloraxis\", \"symbol\": \"square\"}, \"mode\": \"markers\", \"name\": \"0.9827581433035621\", \"scene\": \"scene\", \"showlegend\": true, \"type\": \"scatter3d\", \"x\": [0.00872385639190247], \"y\": [0.08015629950364347], \"z\": [0.9827581433035621]}, {\"hovertemplate\": \"acousticness=%{z}<br>valence=%{x}<br>energy=%{y}<br>danceability=%{marker.color}<extra></extra>\", \"legendgroup\": \"0.416819552914599\", \"marker\": {\"color\": [0.5204033771106942], \"coloraxis\": \"coloraxis\", \"symbol\": \"x\"}, \"mode\": \"markers\", \"name\": \"0.416819552914599\", \"scene\": \"scene\", \"showlegend\": true, \"type\": \"scatter3d\", \"x\": [0.3076837042836371], \"y\": [0.44450311542929566], \"z\": [0.416819552914599]}, {\"hovertemplate\": \"acousticness=%{z}<br>valence=%{x}<br>energy=%{y}<br>danceability=%{marker.color}<extra></extra>\", \"legendgroup\": \"0.002000765335591949\", \"marker\": {\"color\": [0.6130393996247654], \"coloraxis\": \"coloraxis\", \"symbol\": \"cross\"}, \"mode\": \"markers\", \"name\": \"0.002000765335591949\", \"scene\": \"scene\", \"showlegend\": true, \"type\": \"scatter3d\", \"x\": [0.4843977183760205], \"y\": [0.7623825113528356], \"z\": [0.002000765335591949]}, {\"hovertemplate\": \"acousticness=%{z}<br>valence=%{x}<br>energy=%{y}<br>danceability=%{marker.color}<extra></extra>\", \"legendgroup\": \"0.11255149356569406\", \"marker\": {\"color\": [0.9601313320825515], \"coloraxis\": \"coloraxis\", \"symbol\": \"circle\"}, \"mode\": \"markers\", \"name\": \"0.11255149356569406\", \"scene\": \"scene\", \"showlegend\": true, \"type\": \"scatter3d\", \"x\": [0.6264399955262274], \"y\": [0.8996726159045307], \"z\": [0.11255149356569406]}, {\"hovertemplate\": \"acousticness=%{z}<br>valence=%{x}<br>energy=%{y}<br>danceability=%{marker.color}<extra></extra>\", \"legendgroup\": \"0.02613936471060507\", \"marker\": {\"color\": [0.4289399624765478], \"coloraxis\": \"coloraxis\", \"symbol\": \"diamond\"}, \"mode\": \"markers\", \"name\": \"0.02613936471060507\", \"scene\": \"scene\", \"showlegend\": true, \"type\": \"scatter3d\", \"x\": [0.6051895761100547], \"y\": [0.8869996831766819], \"z\": [0.02613936471060507]}, {\"hovertemplate\": \"acousticness=%{z}<br>valence=%{x}<br>energy=%{y}<br>danceability=%{marker.color}<extra></extra>\", \"legendgroup\": \"0.0006954553609851469\", \"marker\": {\"color\": [0.5309568480300189], \"coloraxis\": \"coloraxis\", \"symbol\": \"square\"}, \"mode\": \"markers\", \"name\": \"0.0006954553609851469\", \"scene\": \"scene\", \"showlegend\": true, \"type\": \"scatter3d\", \"x\": [0.7349289788614249], \"y\": [0.9493082690886051], \"z\": [0.0006954553609851469]}, {\"hovertemplate\": \"acousticness=%{z}<br>valence=%{x}<br>energy=%{y}<br>danceability=%{marker.color}<extra></extra>\", \"legendgroup\": \"0.8296098867646132\", \"marker\": {\"color\": [0.10060975609756095], \"coloraxis\": \"coloraxis\", \"symbol\": \"x\"}, \"mode\": \"markers\", \"name\": \"0.8296098867646132\", \"scene\": \"scene\", \"showlegend\": true, \"type\": \"scatter3d\", \"x\": [0.13768034895425565], \"y\": [0.13401626359700075], \"z\": [0.8296098867646132]}, {\"hovertemplate\": \"acousticness=%{z}<br>valence=%{x}<br>energy=%{y}<br>danceability=%{marker.color}<extra></extra>\", \"legendgroup\": \"0.005804116077453261\", \"marker\": {\"color\": [0.4875703564727955], \"coloraxis\": \"coloraxis\", \"symbol\": \"cross\"}, \"mode\": \"markers\", \"name\": \"0.005804116077453261\", \"scene\": \"scene\", \"showlegend\": true, \"type\": \"scatter3d\", \"x\": [0.6823621518845766], \"y\": [0.9862709895448305], \"z\": [0.005804116077453261]}, {\"hovertemplate\": \"acousticness=%{z}<br>valence=%{x}<br>energy=%{y}<br>danceability=%{marker.color}<extra></extra>\", \"legendgroup\": \"0.08841289419068094\", \"marker\": {\"color\": [0.2905722326454034], \"coloraxis\": \"coloraxis\", \"symbol\": \"circle\"}, \"mode\": \"markers\", \"name\": \"0.08841289419068094\", \"scene\": \"scene\", \"showlegend\": true, \"type\": \"scatter3d\", \"x\": [0.5559780785147075], \"y\": [0.6884570704403846], \"z\": [0.08841289419068094]}, {\"hovertemplate\": \"acousticness=%{z}<br>valence=%{x}<br>energy=%{y}<br>danceability=%{marker.color}<extra></extra>\", \"legendgroup\": \"0.953345564233168\", \"marker\": {\"color\": [0.44887429643527205], \"coloraxis\": \"coloraxis\", \"symbol\": \"diamond\"}, \"mode\": \"markers\", \"name\": \"0.953345564233168\", \"scene\": \"scene\", \"showlegend\": true, \"type\": \"scatter3d\", \"x\": [0.2025500503299407], \"y\": [0.0710740310486852], \"z\": [0.953345564233168]}, {\"hovertemplate\": \"acousticness=%{z}<br>valence=%{x}<br>energy=%{y}<br>danceability=%{marker.color}<extra></extra>\", \"legendgroup\": \"0.7190591585345112\", \"marker\": {\"color\": [0.49226078799249534], \"coloraxis\": \"coloraxis\", \"symbol\": \"square\"}, \"mode\": \"markers\", \"name\": \"0.7190591585345112\", \"scene\": \"scene\", \"showlegend\": true, \"type\": \"scatter3d\", \"x\": [0.2897886142489654], \"y\": [0.8077938536276271], \"z\": [0.7190591585345112]}, {\"hovertemplate\": \"acousticness=%{z}<br>valence=%{x}<br>energy=%{y}<br>danceability=%{marker.color}<extra></extra>\", \"legendgroup\": \"0.08496452285139335\", \"marker\": {\"color\": [0.8780487804878048], \"coloraxis\": \"coloraxis\", \"symbol\": \"x\"}, \"mode\": \"markers\", \"name\": \"0.08496452285139335\", \"scene\": \"scene\", \"showlegend\": true, \"type\": \"scatter3d\", \"x\": [0.9843417962196622], \"y\": [0.8722145949941916], \"z\": [0.08496452285139335]}, {\"hovertemplate\": \"acousticness=%{z}<br>valence=%{x}<br>energy=%{y}<br>danceability=%{marker.color}<extra></extra>\", \"legendgroup\": \"0.4949150214808179\", \"marker\": {\"color\": [0.5168855534709194], \"coloraxis\": \"coloraxis\", \"symbol\": \"cross\"}, \"mode\": \"markers\", \"name\": \"0.4949150214808179\", \"scene\": \"scene\", \"showlegend\": true, \"type\": \"scatter3d\", \"x\": [0.1276143608097528], \"y\": [0.4518956595205408], \"z\": [0.4949150214808179]}, {\"hovertemplate\": \"acousticness=%{z}<br>valence=%{x}<br>energy=%{y}<br>danceability=%{marker.color}<extra></extra>\", \"legendgroup\": \"0.15717747560353346\", \"marker\": {\"color\": [0.1580675422138837, 0.9507504690431519], \"coloraxis\": \"coloraxis\", \"symbol\": \"circle\"}, \"mode\": \"markers\", \"name\": \"0.15717747560353346\", \"scene\": \"scene\", \"showlegend\": true, \"type\": \"scatter3d\", \"x\": [0.013645006151437197, 0.725981433844089], \"y\": [0.05892913718449679, 0.5564473545252933], \"z\": [0.15717747560353346, 0.15717747560353346]}, {\"hovertemplate\": \"acousticness=%{z}<br>valence=%{x}<br>energy=%{y}<br>danceability=%{marker.color}<extra></extra>\", \"legendgroup\": \"0.8032399882877083\", \"marker\": {\"color\": [0.0], \"coloraxis\": \"coloraxis\", \"symbol\": \"diamond\"}, \"mode\": \"markers\", \"name\": \"0.8032399882877083\", \"scene\": \"scene\", \"showlegend\": true, \"type\": \"scatter3d\", \"x\": [0.05625768929649927], \"y\": [0.2375118808744324], \"z\": [0.8032399882877083]}, {\"hovertemplate\": \"acousticness=%{z}<br>valence=%{x}<br>energy=%{y}<br>danceability=%{marker.color}<extra></extra>\", \"legendgroup\": \"0.2444009859502195\", \"marker\": {\"color\": [0.6001407129455909], \"coloraxis\": \"coloraxis\", \"symbol\": \"square\"}, \"mode\": \"markers\", \"name\": \"0.2444009859502195\", \"scene\": \"scene\", \"showlegend\": true, \"type\": \"scatter3d\", \"x\": [0.30097304552063525], \"y\": [0.6726159045305736], \"z\": [0.2444009859502195]}, {\"hovertemplate\": \"acousticness=%{z}<br>valence=%{x}<br>energy=%{y}<br>danceability=%{marker.color}<extra></extra>\", \"legendgroup\": \"0.9553740179621606\", \"marker\": {\"color\": [0.1651031894934334], \"coloraxis\": \"coloraxis\", \"symbol\": \"x\"}, \"mode\": \"markers\", \"name\": \"0.9553740179621606\", \"scene\": \"scene\", \"showlegend\": true, \"type\": \"scatter3d\", \"x\": [0.07493568952018789], \"y\": [0.08226845495828494], \"z\": [0.9553740179621606]}, {\"hovertemplate\": \"acousticness=%{z}<br>valence=%{x}<br>energy=%{y}<br>danceability=%{marker.color}<extra></extra>\", \"legendgroup\": \"0.1602201561970225\", \"marker\": {\"color\": [0.7420262664165103], \"coloraxis\": \"coloraxis\", \"symbol\": \"cross\"}, \"mode\": \"markers\", \"name\": \"0.1602201561970225\", \"scene\": \"scene\", \"showlegend\": true, \"type\": \"scatter3d\", \"x\": [0.6991387987920814], \"y\": [0.7127468581687613], \"z\": [0.1602201561970225]}, {\"hovertemplate\": \"acousticness=%{z}<br>valence=%{x}<br>energy=%{y}<br>danceability=%{marker.color}<extra></extra>\", \"legendgroup\": \"0.889449271769898\", \"marker\": {\"color\": [0.6787054409005628], \"coloraxis\": \"coloraxis\", \"symbol\": \"circle\"}, \"mode\": \"markers\", \"name\": \"0.889449271769898\", \"scene\": \"scene\", \"showlegend\": true, \"type\": \"scatter3d\", \"x\": [0.37702717816799014], \"y\": [0.4096525504277115], \"z\": [0.889449271769898]}, {\"hovertemplate\": \"acousticness=%{z}<br>valence=%{x}<br>energy=%{y}<br>danceability=%{marker.color}<extra></extra>\", \"legendgroup\": \"0.004637755183282458\", \"marker\": {\"color\": [0.5731707317073169], \"coloraxis\": \"coloraxis\", \"symbol\": \"diamond\"}, \"mode\": \"markers\", \"name\": \"0.004637755183282458\", \"scene\": \"scene\", \"showlegend\": true, \"type\": \"scatter3d\", \"x\": [0.4765686164858517], \"y\": [0.8341957968106454], \"z\": [0.004637755183282458]}, {\"hovertemplate\": \"acousticness=%{z}<br>valence=%{x}<br>energy=%{y}<br>danceability=%{marker.color}<extra></extra>\", \"legendgroup\": \"0.7271729734504819\", \"marker\": {\"color\": [0.4301125703564728], \"coloraxis\": \"coloraxis\", \"symbol\": \"square\"}, \"mode\": \"markers\", \"name\": \"0.7271729734504819\", \"scene\": \"scene\", \"showlegend\": true, \"type\": \"scatter3d\", \"x\": [0.21149759534727658], \"y\": [0.9112894709050587], \"z\": [0.7271729734504819]}, {\"hovertemplate\": \"acousticness=%{z}<br>valence=%{x}<br>energy=%{y}<br>danceability=%{marker.color}<extra></extra>\", \"legendgroup\": \"0.04764097423792769\", \"marker\": {\"color\": [0.16158536585365857], \"coloraxis\": \"coloraxis\", \"symbol\": \"x\"}, \"mode\": \"markers\", \"name\": \"0.04764097423792769\", \"scene\": \"scene\", \"showlegend\": true, \"type\": \"scatter3d\", \"x\": [0.21261603847444355], \"y\": [0.4878023022494456], \"z\": [0.04764097423792769]}, {\"hovertemplate\": \"acousticness=%{z}<br>valence=%{x}<br>energy=%{y}<br>danceability=%{marker.color}<extra></extra>\", \"legendgroup\": \"0.0029135695136386633\", \"marker\": {\"color\": [0.4007973733583489], \"coloraxis\": \"coloraxis\", \"symbol\": \"cross\"}, \"mode\": \"markers\", \"name\": \"0.0029135695136386633\", \"scene\": \"scene\", \"showlegend\": true, \"type\": \"scatter3d\", \"x\": [0.2349849010177832], \"y\": [0.7285880240785723], \"z\": [0.0029135695136386633]}, {\"hovertemplate\": \"acousticness=%{z}<br>valence=%{x}<br>energy=%{y}<br>danceability=%{marker.color}<extra></extra>\", \"legendgroup\": \"0.0001690716183115415\", \"marker\": {\"color\": [0.2589118198874296], \"coloraxis\": \"coloraxis\", \"symbol\": \"circle\"}, \"mode\": \"markers\", \"name\": \"0.0001690716183115415\", \"scene\": \"scene\", \"showlegend\": true, \"type\": \"scatter3d\", \"x\": [0.17794430153226706], \"y\": [0.9155137818143417], \"z\": [0.0001690716183115415]}, {\"hovertemplate\": \"acousticness=%{z}<br>valence=%{x}<br>energy=%{y}<br>danceability=%{marker.color}<extra></extra>\", \"legendgroup\": \"0.21803108747331443\", \"marker\": {\"color\": [0.7138836772983115], \"coloraxis\": \"coloraxis\", \"symbol\": \"diamond\"}, \"mode\": \"markers\", \"name\": \"0.21803108747331443\", \"scene\": \"scene\", \"showlegend\": true, \"type\": \"scatter3d\", \"x\": [0.7326920926070909], \"y\": [0.4592882036117859], \"z\": [0.21803108747331443]}, {\"hovertemplate\": \"acousticness=%{z}<br>valence=%{x}<br>energy=%{y}<br>danceability=%{marker.color}<extra></extra>\", \"legendgroup\": \"0.0043436293925785165\", \"marker\": {\"color\": [0.6892589118198875], \"coloraxis\": \"coloraxis\", \"symbol\": \"square\"}, \"mode\": \"markers\", \"name\": \"0.0043436293925785165\", \"scene\": \"scene\", \"showlegend\": true, \"type\": \"scatter3d\", \"x\": [0.018230622972821832], \"y\": [0.8268032527194003], \"z\": [0.0043436293925785165]}, {\"hovertemplate\": \"acousticness=%{z}<br>valence=%{x}<br>energy=%{y}<br>danceability=%{marker.color}<extra></extra>\", \"legendgroup\": \"0.18760428153842393\", \"marker\": {\"color\": [0.5133677298311445], \"coloraxis\": \"coloraxis\", \"symbol\": \"x\"}, \"mode\": \"markers\", \"name\": \"0.18760428153842393\", \"scene\": \"scene\", \"showlegend\": true, \"type\": \"scatter3d\", \"x\": [0.19472094843977183], \"y\": [0.5564473545252933], \"z\": [0.18760428153842393]}, {\"hovertemplate\": \"acousticness=%{z}<br>valence=%{x}<br>energy=%{y}<br>danceability=%{marker.color}<extra></extra>\", \"legendgroup\": \"0.6308214213233287\", \"marker\": {\"color\": [0.7244371482176359], \"coloraxis\": \"coloraxis\", \"symbol\": \"cross\"}, \"mode\": \"markers\", \"name\": \"0.6308214213233287\", \"scene\": \"scene\", \"showlegend\": true, \"type\": \"scatter3d\", \"x\": [0.8299966446706184], \"y\": [0.6852888372584224], \"z\": [0.6308214213233287]}, {\"hovertemplate\": \"acousticness=%{z}<br>valence=%{x}<br>energy=%{y}<br>danceability=%{marker.color}<extra></extra>\", \"legendgroup\": \"0.010925961743159827\", \"marker\": {\"color\": [0.9272983114446529], \"coloraxis\": \"coloraxis\", \"symbol\": \"circle\"}, \"mode\": \"markers\", \"name\": \"0.010925961743159827\", \"scene\": \"scene\", \"showlegend\": true, \"type\": \"scatter3d\", \"x\": [0.6275584386533943], \"y\": [0.4254937163375225], \"z\": [0.010925961743159827]}, {\"hovertemplate\": \"acousticness=%{z}<br>valence=%{x}<br>energy=%{y}<br>danceability=%{marker.color}<extra></extra>\", \"legendgroup\": \"1.0\", \"marker\": {\"color\": [0.18855534709193245], \"coloraxis\": \"coloraxis\", \"symbol\": \"diamond\"}, \"mode\": \"markers\", \"name\": \"1.0\", \"scene\": \"scene\", \"showlegend\": true, \"type\": \"scatter3d\", \"x\": [0.05871826417626663], \"y\": [0.2501848136022812], \"z\": [1.0]}, {\"hovertemplate\": \"acousticness=%{z}<br>valence=%{x}<br>energy=%{y}<br>danceability=%{marker.color}<extra></extra>\", \"legendgroup\": \"0.005591128435909027\", \"marker\": {\"color\": [0.28822701688555347], \"coloraxis\": \"coloraxis\", \"symbol\": \"square\"}, \"mode\": \"markers\", \"name\": \"0.005591128435909027\", \"scene\": \"scene\", \"showlegend\": true, \"type\": \"scatter3d\", \"x\": [0.31551280617380606], \"y\": [0.9049530045411344], \"z\": [0.005591128435909027]}, {\"hovertemplate\": \"acousticness=%{z}<br>valence=%{x}<br>energy=%{y}<br>danceability=%{marker.color}<extra></extra>\", \"legendgroup\": \"0.1663055173840006\", \"marker\": {\"color\": [0.2624296435272045], \"coloraxis\": \"coloraxis\", \"symbol\": \"x\"}, \"mode\": \"markers\", \"name\": \"0.1663055173840006\", \"scene\": \"scene\", \"showlegend\": true, \"type\": \"scatter3d\", \"x\": [0.20702382283860862], \"y\": [0.9799345231809062], \"z\": [0.1663055173840006]}, {\"hovertemplate\": \"acousticness=%{z}<br>valence=%{x}<br>energy=%{y}<br>danceability=%{marker.color}<extra></extra>\", \"legendgroup\": \"0.8448232897320586\", \"marker\": {\"color\": [0.10530018761726079], \"coloraxis\": \"coloraxis\", \"symbol\": \"cross\"}, \"mode\": \"markers\", \"name\": \"0.8448232897320586\", \"scene\": \"scene\", \"showlegend\": true, \"type\": \"scatter3d\", \"x\": [0.04205346158147859], \"y\": [0.03178793959235399], \"z\": [0.8448232897320586]}, {\"hovertemplate\": \"acousticness=%{z}<br>valence=%{x}<br>energy=%{y}<br>danceability=%{marker.color}<extra></extra>\", \"legendgroup\": \"0.04064280887290287\", \"marker\": {\"color\": [0.6411819887429644], \"coloraxis\": \"coloraxis\", \"symbol\": \"circle\"}, \"mode\": \"markers\", \"name\": \"0.04064280887290287\", \"scene\": \"scene\", \"showlegend\": true, \"type\": \"scatter3d\", \"x\": [0.24057711665361814], \"y\": [0.8437004963565319], \"z\": [0.04064280887290287]}, {\"hovertemplate\": \"acousticness=%{z}<br>valence=%{x}<br>energy=%{y}<br>danceability=%{marker.color}<extra></extra>\", \"legendgroup\": \"0.011128807116059096\", \"marker\": {\"color\": [0.4113508442776736], \"coloraxis\": \"coloraxis\", \"symbol\": \"diamond\"}, \"mode\": \"markers\", \"name\": \"0.011128807116059096\", \"scene\": \"scene\", \"showlegend\": true, \"type\": \"scatter3d\", \"x\": [0.0077172575774521815], \"y\": [0.32833456542401523], \"z\": [0.011128807116059096]}, {\"hovertemplate\": \"acousticness=%{z}<br>valence=%{x}<br>energy=%{y}<br>danceability=%{marker.color}<extra></extra>\", \"legendgroup\": \"0.7545570987918835\", \"marker\": {\"color\": [0.549718574108818], \"coloraxis\": \"coloraxis\", \"symbol\": \"square\"}, \"mode\": \"markers\", \"name\": \"0.7545570987918835\", \"scene\": \"scene\", \"showlegend\": true, \"type\": \"scatter3d\", \"x\": [0.1611676546247623], \"y\": [0.8627098954483051], \"z\": [0.7545570987918835]}, {\"hovertemplate\": \"acousticness=%{z}<br>valence=%{x}<br>energy=%{y}<br>danceability=%{marker.color}<extra></extra>\", \"legendgroup\": \"0.60546574971092\", \"marker\": {\"color\": [0.15924015009380865], \"coloraxis\": \"coloraxis\", \"symbol\": \"x\"}, \"mode\": \"markers\", \"name\": \"0.60546574971092\", \"scene\": \"scene\", \"showlegend\": true, \"type\": \"scatter3d\", \"x\": [0.19695783469410577], \"y\": [0.2903157672404689], \"z\": [0.60546574971092]}, {\"hovertemplate\": \"acousticness=%{z}<br>valence=%{x}<br>energy=%{y}<br>danceability=%{marker.color}<extra></extra>\", \"legendgroup\": \"0.017011322930137924\", \"marker\": {\"color\": [0.6599437148217637], \"coloraxis\": \"coloraxis\", \"symbol\": \"cross\"}, \"mode\": \"markers\", \"name\": \"0.017011322930137924\", \"scene\": \"scene\", \"showlegend\": true, \"type\": \"scatter3d\", \"x\": [0.5459120903702046], \"y\": [0.9007286936318515], \"z\": [0.017011322930137924]}, {\"hovertemplate\": \"acousticness=%{z}<br>valence=%{x}<br>energy=%{y}<br>danceability=%{marker.color}<extra></extra>\", \"legendgroup\": \"0.001108245694835161\", \"marker\": {\"color\": [0.6376641651031896], \"coloraxis\": \"coloraxis\", \"symbol\": \"circle\"}, \"mode\": \"markers\", \"name\": \"0.001108245694835161\", \"scene\": \"scene\", \"showlegend\": true, \"type\": \"scatter3d\", \"x\": [0.6667039481042388], \"y\": [0.7835040658992504], \"z\": [0.001108245694835161]}, {\"hovertemplate\": \"acousticness=%{z}<br>valence=%{x}<br>energy=%{y}<br>danceability=%{marker.color}<extra></extra>\", \"legendgroup\": \"0.7667278211658396\", \"marker\": {\"color\": [0.4430112570356473], \"coloraxis\": \"coloraxis\", \"symbol\": \"diamond\"}, \"mode\": \"markers\", \"name\": \"0.7667278211658396\", \"scene\": \"scene\", \"showlegend\": true, \"type\": \"scatter3d\", \"x\": [0.2036684934571077], \"y\": [0.8605977399936636], \"z\": [0.7667278211658396]}, {\"hovertemplate\": \"acousticness=%{z}<br>valence=%{x}<br>energy=%{y}<br>danceability=%{marker.color}<extra></extra>\", \"legendgroup\": \"0.33973831121287645\", \"marker\": {\"color\": [0.34803001876172607], \"coloraxis\": \"coloraxis\", \"symbol\": \"square\"}, \"mode\": \"markers\", \"name\": \"0.33973831121287645\", \"scene\": \"scene\", \"showlegend\": true, \"type\": \"scatter3d\", \"x\": [0.5772284979308802], \"y\": [0.5870736086175943], \"z\": [0.33973831121287645]}, {\"hovertemplate\": \"acousticness=%{z}<br>valence=%{x}<br>energy=%{y}<br>danceability=%{marker.color}<extra></extra>\", \"legendgroup\": \"0.028269241126047406\", \"marker\": {\"color\": [0.851078799249531], \"coloraxis\": \"coloraxis\", \"symbol\": \"x\"}, \"mode\": \"markers\", \"name\": \"0.028269241126047406\", \"scene\": \"scene\", \"showlegend\": true, \"type\": \"scatter3d\", \"x\": [0.9999999999999999], \"y\": [0.5828492977083114], \"z\": [0.028269241126047406]}, {\"hovertemplate\": \"acousticness=%{z}<br>valence=%{x}<br>energy=%{y}<br>danceability=%{marker.color}<extra></extra>\", \"legendgroup\": \"0.019242622032029894\", \"marker\": {\"color\": [0.6294559099437149], \"coloraxis\": \"coloraxis\", \"symbol\": \"cross\"}, \"mode\": \"markers\", \"name\": \"0.019242622032029894\", \"scene\": \"scene\", \"showlegend\": true, \"type\": \"scatter3d\", \"x\": [0.521306341572531], \"y\": [0.8468687295384941], \"z\": [0.019242622032029894]}, {\"hovertemplate\": \"acousticness=%{z}<br>valence=%{x}<br>energy=%{y}<br>danceability=%{marker.color}<extra></extra>\", \"legendgroup\": \"0.10088788462398604\", \"marker\": {\"color\": [0.946060037523452], \"coloraxis\": \"coloraxis\", \"symbol\": \"circle\"}, \"mode\": \"markers\", \"name\": \"0.10088788462398604\", \"scene\": \"scene\", \"showlegend\": true, \"type\": \"scatter3d\", \"x\": [0.6398613130522313], \"y\": [0.6536065054388004], \"z\": [0.10088788462398604]}, {\"hovertemplate\": \"acousticness=%{z}<br>valence=%{x}<br>energy=%{y}<br>danceability=%{marker.color}<extra></extra>\", \"legendgroup\": \"0.9026342210083506\", \"marker\": {\"color\": [0.3046435272045028], \"coloraxis\": \"coloraxis\", \"symbol\": \"diamond\"}, \"mode\": \"markers\", \"name\": \"0.9026342210083506\", \"scene\": \"scene\", \"showlegend\": true, \"type\": \"scatter3d\", \"x\": [0.17794430153226706], \"y\": [0.9957756890907172], \"z\": [0.9026342210083506]}, {\"hovertemplate\": \"acousticness=%{z}<br>valence=%{x}<br>energy=%{y}<br>danceability=%{marker.color}<extra></extra>\", \"legendgroup\": \"0.0049825923172112175\", \"marker\": {\"color\": [0.5086772983114447], \"coloraxis\": \"coloraxis\", \"symbol\": \"square\"}, \"mode\": \"markers\", \"name\": \"0.0049825923172112175\", \"scene\": \"scene\", \"showlegend\": true, \"type\": \"scatter3d\", \"x\": [0.22939268538194835], \"y\": [0.541662266342803], \"z\": [0.0049825923172112175]}, {\"hovertemplate\": \"acousticness=%{z}<br>valence=%{x}<br>energy=%{y}<br>danceability=%{marker.color}<extra></extra>\", \"legendgroup\": \"0.0\", \"marker\": {\"color\": [0.17917448405253283], \"coloraxis\": \"coloraxis\", \"symbol\": \"x\"}, \"mode\": \"markers\", \"name\": \"0.0\", \"scene\": \"scene\", \"showlegend\": true, \"type\": \"scatter3d\", \"x\": [0.2148529247287775], \"y\": [0.9186820149963039], \"z\": [0.0]}, {\"hovertemplate\": \"acousticness=%{z}<br>valence=%{x}<br>energy=%{y}<br>danceability=%{marker.color}<extra></extra>\", \"legendgroup\": \"0.10342345178522691\", \"marker\": {\"color\": [0.6271106941838649], \"coloraxis\": \"coloraxis\", \"symbol\": \"cross\"}, \"mode\": \"markers\", \"name\": \"0.10342345178522691\", \"scene\": \"scene\", \"showlegend\": true, \"type\": \"scatter3d\", \"x\": [0.3636058606419863], \"y\": [0.6821206040764601], \"z\": [0.10342345178522691]}, {\"hovertemplate\": \"acousticness=%{z}<br>valence=%{x}<br>energy=%{y}<br>danceability=%{marker.color}<extra></extra>\", \"legendgroup\": \"0.0004621831821509866\", \"marker\": {\"color\": [0.18855534709193245], \"coloraxis\": \"coloraxis\", \"symbol\": \"circle\"}, \"mode\": \"markers\", \"name\": \"0.0004621831821509866\", \"scene\": \"scene\", \"showlegend\": true, \"type\": \"scatter3d\", \"x\": [0.1354434626999217], \"y\": [0.8869996831766819], \"z\": [0.0004621831821509866]}, {\"hovertemplate\": \"acousticness=%{z}<br>valence=%{x}<br>energy=%{y}<br>danceability=%{marker.color}<extra></extra>\", \"legendgroup\": \"0.002761435483964211\", \"marker\": {\"color\": [0.45239212007504687], \"coloraxis\": \"coloraxis\", \"symbol\": \"diamond\"}, \"mode\": \"markers\", \"name\": \"0.002761435483964211\", \"scene\": \"scene\", \"showlegend\": true, \"type\": \"scatter3d\", \"x\": [0.6823621518845766], \"y\": [1.0000000000000002], \"z\": [0.002761435483964211]}, {\"hovertemplate\": \"acousticness=%{z}<br>valence=%{x}<br>energy=%{y}<br>danceability=%{marker.color}<extra></extra>\", \"legendgroup\": \"0.04297553066124448\", \"marker\": {\"color\": [0.37734521575984986], \"coloraxis\": \"coloraxis\", \"symbol\": \"square\"}, \"mode\": \"markers\", \"name\": \"0.04297553066124448\", \"scene\": \"scene\", \"showlegend\": true, \"type\": \"scatter3d\", \"x\": [0.35018454311598257], \"y\": [0.8183546309008345], \"z\": [0.04297553066124448]}, {\"hovertemplate\": \"acousticness=%{z}<br>valence=%{x}<br>energy=%{y}<br>danceability=%{marker.color}<extra></extra>\", \"legendgroup\": \"0.029892004109241564\", \"marker\": {\"color\": [0.4863977485928705], \"coloraxis\": \"coloraxis\", \"symbol\": \"x\"}, \"mode\": \"markers\", \"name\": \"0.029892004109241564\", \"scene\": \"scene\", \"showlegend\": true, \"type\": \"scatter3d\", \"x\": [0.6700592774857398], \"y\": [0.8648220509029465], \"z\": [0.029892004109241564]}, {\"hovertemplate\": \"acousticness=%{z}<br>valence=%{x}<br>energy=%{y}<br>danceability=%{marker.color}<extra></extra>\", \"legendgroup\": \"0.1581917024680298\", \"marker\": {\"color\": [0.8065196998123827], \"coloraxis\": \"coloraxis\", \"symbol\": \"cross\"}, \"mode\": \"markers\", \"name\": \"0.1581917024680298\", \"scene\": \"scene\", \"showlegend\": true, \"type\": \"scatter3d\", \"x\": [0.3445923274801476], \"y\": [0.47724152497623823], \"z\": [0.1581917024680298]}, {\"hovertemplate\": \"acousticness=%{z}<br>valence=%{x}<br>energy=%{y}<br>danceability=%{marker.color}<extra></extra>\", \"legendgroup\": \"0.4492748125784822\", \"marker\": {\"color\": [0.8604596622889304], \"coloraxis\": \"coloraxis\", \"symbol\": \"circle\"}, \"mode\": \"markers\", \"name\": \"0.4492748125784822\", \"scene\": \"scene\", \"showlegend\": true, \"type\": \"scatter3d\", \"x\": [0.793088021474108], \"y\": [0.820466786355476], \"z\": [0.4492748125784822]}, {\"hovertemplate\": \"acousticness=%{z}<br>valence=%{x}<br>energy=%{y}<br>danceability=%{marker.color}<extra></extra>\", \"legendgroup\": \"0.5293987348736938\", \"marker\": {\"color\": [0.6833958724202627], \"coloraxis\": \"coloraxis\", \"symbol\": \"diamond\"}, \"mode\": \"markers\", \"name\": \"0.5293987348736938\", \"scene\": \"scene\", \"showlegend\": true, \"type\": \"scatter3d\", \"x\": [0.4061066994743317], \"y\": [0.8172985531735137], \"z\": [0.5293987348736938]}, {\"hovertemplate\": \"acousticness=%{z}<br>valence=%{x}<br>energy=%{y}<br>danceability=%{marker.color}<extra></extra>\", \"legendgroup\": \"0.6480632780197667\", \"marker\": {\"color\": [0.17800187617260788], \"coloraxis\": \"coloraxis\", \"symbol\": \"square\"}, \"mode\": \"markers\", \"name\": \"0.6480632780197667\", \"scene\": \"scene\", \"showlegend\": true, \"type\": \"scatter3d\", \"x\": [0.029750587182641758], \"y\": [0.4064843172457493], \"z\": [0.6480632780197667]}, {\"hovertemplate\": \"acousticness=%{z}<br>valence=%{x}<br>energy=%{y}<br>danceability=%{marker.color}<extra></extra>\", \"legendgroup\": \"0.6470490511552703\", \"marker\": {\"color\": [0.8416979362101313], \"coloraxis\": \"coloraxis\", \"symbol\": \"x\"}, \"mode\": \"markers\", \"name\": \"0.6470490511552703\", \"scene\": \"scene\", \"showlegend\": true, \"type\": \"scatter3d\", \"x\": [0.8165753271446147], \"y\": [0.6166437849825748], \"z\": [0.6470490511552703]}, {\"hovertemplate\": \"acousticness=%{z}<br>valence=%{x}<br>energy=%{y}<br>danceability=%{marker.color}<extra></extra>\", \"legendgroup\": \"2.5152826239509474e-05\", \"marker\": {\"color\": [0.3339587242026266], \"coloraxis\": \"coloraxis\", \"symbol\": \"cross\"}, \"mode\": \"markers\", \"name\": \"2.5152826239509474e-05\", \"scene\": \"scene\", \"showlegend\": true, \"type\": \"scatter3d\", \"x\": [0.4005144838384968], \"y\": [0.9598690463618123], \"z\": [2.5152826239509474e-05]}, {\"hovertemplate\": \"acousticness=%{z}<br>valence=%{x}<br>energy=%{y}<br>danceability=%{marker.color}<extra></extra>\", \"legendgroup\": \"0.8600366926995038\", \"marker\": {\"color\": [0.6611163227016885], \"coloraxis\": \"coloraxis\", \"symbol\": \"circle\"}, \"mode\": \"markers\", \"name\": \"0.8600366926995038\", \"scene\": \"scene\", \"showlegend\": true, \"type\": \"scatter3d\", \"x\": [0.37702717816799014], \"y\": [0.4529517372478615], \"z\": [0.8600366926995038]}, {\"hovertemplate\": \"acousticness=%{z}<br>valence=%{x}<br>energy=%{y}<br>danceability=%{marker.color}<extra></extra>\", \"legendgroup\": \"0.06326006795117146\", \"marker\": {\"color\": [0.7842401500938085], \"coloraxis\": \"coloraxis\", \"symbol\": \"diamond\"}, \"mode\": \"markers\", \"name\": \"0.06326006795117146\", \"scene\": \"scene\", \"showlegend\": true, \"type\": \"scatter3d\", \"x\": [0.05726428811094955], \"y\": [0.5596155877072554], \"z\": [0.06326006795117146]}, {\"hovertemplate\": \"acousticness=%{z}<br>valence=%{x}<br>energy=%{y}<br>danceability=%{marker.color}<extra></extra>\", \"legendgroup\": \"0.6287929675943361\", \"marker\": {\"color\": [0.5931050656660413], \"coloraxis\": \"coloraxis\", \"symbol\": \"square\"}, \"mode\": \"markers\", \"name\": \"0.6287929675943361\", \"scene\": \"scene\", \"showlegend\": true, \"type\": \"scatter3d\", \"x\": [0.4061066994743317], \"y\": [0.3916992290632591], \"z\": [0.6287929675943361]}, {\"hovertemplate\": \"acousticness=%{z}<br>valence=%{x}<br>energy=%{y}<br>danceability=%{marker.color}<extra></extra>\", \"legendgroup\": \"0.8681505076154746\", \"marker\": {\"color\": [0.49343339587242024], \"coloraxis\": \"coloraxis\", \"symbol\": \"x\"}, \"mode\": \"markers\", \"name\": \"0.8681505076154746\", \"scene\": \"scene\", \"showlegend\": true, \"type\": \"scatter3d\", \"x\": [0.2361033441449502], \"y\": [0.49625092406801147], \"z\": [0.8681505076154746]}, {\"hovertemplate\": \"acousticness=%{z}<br>valence=%{x}<br>energy=%{y}<br>danceability=%{marker.color}<extra></extra>\", \"legendgroup\": \"0.004759462407022021\", \"marker\": {\"color\": [0.5837242026266416], \"coloraxis\": \"coloraxis\", \"symbol\": \"cross\"}, \"mode\": \"markers\", \"name\": \"0.004759462407022021\", \"scene\": \"scene\", \"showlegend\": true, \"type\": \"scatter3d\", \"x\": [0.011967341460686724], \"y\": [0.89861653817721], \"z\": [0.004759462407022021]}, {\"hovertemplate\": \"acousticness=%{z}<br>valence=%{x}<br>energy=%{y}<br>danceability=%{marker.color}<extra></extra>\", \"legendgroup\": \"0.00270058187209443\", \"marker\": {\"color\": [0.7314727954971858], \"coloraxis\": \"coloraxis\", \"symbol\": \"circle\"}, \"mode\": \"markers\", \"name\": \"0.00270058187209443\", \"scene\": \"scene\", \"showlegend\": true, \"type\": \"scatter3d\", \"x\": [0.51795101219103], \"y\": [0.8384201077199283], \"z\": [0.00270058187209443]}, {\"hovertemplate\": \"acousticness=%{z}<br>valence=%{x}<br>energy=%{y}<br>danceability=%{marker.color}<extra></extra>\", \"legendgroup\": \"0.0644771401885671\", \"marker\": {\"color\": [0.9296435272045027], \"coloraxis\": \"coloraxis\", \"symbol\": \"diamond\"}, \"mode\": \"markers\", \"name\": \"0.0644771401885671\", \"scene\": \"scene\", \"showlegend\": true, \"type\": \"scatter3d\", \"x\": [0.7852589195839391], \"y\": [0.5712324427077833], \"z\": [0.0644771401885671]}, {\"hovertemplate\": \"acousticness=%{z}<br>valence=%{x}<br>energy=%{y}<br>danceability=%{marker.color}<extra></extra>\", \"legendgroup\": \"0.608508430304409\", \"marker\": {\"color\": [0.6095215759849906], \"coloraxis\": \"coloraxis\", \"symbol\": \"square\"}, \"mode\": \"markers\", \"name\": \"0.608508430304409\", \"scene\": \"scene\", \"showlegend\": true, \"type\": \"scatter3d\", \"x\": [0.4295940051448383], \"y\": [0.4001478508818249], \"z\": [0.608508430304409]}, {\"hovertemplate\": \"acousticness=%{z}<br>valence=%{x}<br>energy=%{y}<br>danceability=%{marker.color}<extra></extra>\", \"legendgroup\": \"0.01366437427729997\", \"marker\": {\"color\": [0.6704971857410882], \"coloraxis\": \"coloraxis\", \"symbol\": \"x\"}, \"mode\": \"markers\", \"name\": \"0.01366437427729997\", \"scene\": \"scene\", \"showlegend\": true, \"type\": \"scatter3d\", \"x\": [0.0], \"y\": [0.9186820149963039], \"z\": [0.01366437427729997]}],                        {\"coloraxis\": {\"colorbar\": {\"title\": {\"text\": \"danceability\"}}, \"colorscale\": [[0.0, \"#0d0887\"], [0.1111111111111111, \"#46039f\"], [0.2222222222222222, \"#7201a8\"], [0.3333333333333333, \"#9c179e\"], [0.4444444444444444, \"#bd3786\"], [0.5555555555555556, \"#d8576b\"], [0.6666666666666666, \"#ed7953\"], [0.7777777777777778, \"#fb9f3a\"], [0.8888888888888888, \"#fdca26\"], [1.0, \"#f0f921\"]]}, \"legend\": {\"title\": {\"text\": \"acousticness\"}, \"tracegroupgap\": 0, \"x\": 0, \"y\": 1}, \"margin\": {\"t\": 60}, \"scene\": {\"domain\": {\"x\": [0.0, 1.0], \"y\": [0.0, 1.0]}, \"xaxis\": {\"title\": {\"text\": \"valence\"}}, \"yaxis\": {\"title\": {\"text\": \"energy\"}}, \"zaxis\": {\"categoryarray\": [0.00035771781510786257, 0.45028903944297854, 0.031514767092435725, 0.07786493479991889, 0.06092734616282987, 0.2596143889176648, 0.08719582195328532, 0.03841150977101091, 0.5040430632612851, 0.625750287000847, 0.1480494338230663, 0.08770293538553349, 0.0026802973348045035, 0.11356572043019042, 0.23324449044075968, 0.7241302928569929, 0.0002268825495878334, 0.9949288656775183, 0.047843819610826954, 0.22513067552478888, 0.4158053260501026, 0.3377098574838837, 0.2028176845058692, 0.18659005467392759, 0.07015681062974664, 0.6277787407298397, 0.8914777254988907, 0.8164249375261609, 7.779120050687002e-05, 0.07867631629151599, 0.0007684796952288842, 0.04987227333981966, 0.9827581433035621, 0.416819552914599, 0.002000765335591949, 0.11255149356569406, 0.02613936471060507, 0.0006954553609851469, 0.8296098867646132, 0.005804116077453261, 0.08841289419068094, 0.953345564233168, 0.7190591585345112, 0.08496452285139335, 0.4949150214808179, 0.15717747560353346, 0.8032399882877083, 0.2444009859502195, 0.9553740179621606, 0.1602201561970225, 0.889449271769898, 0.004637755183282458, 0.7271729734504819, 0.04764097423792769, 0.0029135695136386633, 0.0001690716183115415, 0.21803108747331443, 0.0043436293925785165, 0.18760428153842393, 0.6308214213233287, 0.010925961743159827, 1.0, 0.005591128435909027, 0.1663055173840006, 0.8448232897320586, 0.04064280887290287, 0.011128807116059096, 0.7545570987918835, 0.60546574971092, 0.017011322930137924, 0.001108245694835161, 0.7667278211658396, 0.33973831121287645, 0.028269241126047406, 0.019242622032029894, 0.10088788462398604, 0.9026342210083506, 0.0049825923172112175, 0.0, 0.10342345178522691, 0.0004621831821509866, 0.002761435483964211, 0.04297553066124448, 0.029892004109241564, 0.1581917024680298, 0.4492748125784822, 0.5293987348736938, 0.6480632780197667, 0.6470490511552703, 2.5152826239509474e-05, 0.8600366926995038, 0.06326006795117146, 0.6287929675943361, 0.8681505076154746, 0.004759462407022021, 0.00270058187209443, 0.0644771401885671, 0.608508430304409, 0.01366437427729997], \"categoryorder\": \"array\", \"title\": {\"text\": \"acousticness\"}}}, \"template\": {\"data\": {\"bar\": [{\"error_x\": {\"color\": \"#2a3f5f\"}, \"error_y\": {\"color\": \"#2a3f5f\"}, \"marker\": {\"line\": {\"color\": \"#E5ECF6\", \"width\": 0.5}}, \"type\": \"bar\"}], \"barpolar\": [{\"marker\": {\"line\": {\"color\": \"#E5ECF6\", \"width\": 0.5}}, \"type\": \"barpolar\"}], \"carpet\": [{\"aaxis\": {\"endlinecolor\": \"#2a3f5f\", \"gridcolor\": \"white\", \"linecolor\": \"white\", \"minorgridcolor\": \"white\", \"startlinecolor\": \"#2a3f5f\"}, \"baxis\": {\"endlinecolor\": \"#2a3f5f\", \"gridcolor\": \"white\", \"linecolor\": \"white\", \"minorgridcolor\": \"white\", \"startlinecolor\": \"#2a3f5f\"}, \"type\": \"carpet\"}], \"choropleth\": [{\"colorbar\": {\"outlinewidth\": 0, \"ticks\": \"\"}, \"type\": \"choropleth\"}], \"contour\": [{\"colorbar\": {\"outlinewidth\": 0, \"ticks\": \"\"}, \"colorscale\": [[0.0, \"#0d0887\"], [0.1111111111111111, \"#46039f\"], [0.2222222222222222, \"#7201a8\"], [0.3333333333333333, \"#9c179e\"], [0.4444444444444444, \"#bd3786\"], [0.5555555555555556, \"#d8576b\"], [0.6666666666666666, \"#ed7953\"], [0.7777777777777778, \"#fb9f3a\"], [0.8888888888888888, \"#fdca26\"], [1.0, \"#f0f921\"]], \"type\": \"contour\"}], \"contourcarpet\": [{\"colorbar\": {\"outlinewidth\": 0, \"ticks\": \"\"}, \"type\": \"contourcarpet\"}], \"heatmap\": [{\"colorbar\": {\"outlinewidth\": 0, \"ticks\": \"\"}, \"colorscale\": [[0.0, \"#0d0887\"], [0.1111111111111111, \"#46039f\"], [0.2222222222222222, \"#7201a8\"], [0.3333333333333333, \"#9c179e\"], [0.4444444444444444, \"#bd3786\"], [0.5555555555555556, \"#d8576b\"], [0.6666666666666666, \"#ed7953\"], [0.7777777777777778, \"#fb9f3a\"], [0.8888888888888888, \"#fdca26\"], [1.0, \"#f0f921\"]], \"type\": \"heatmap\"}], \"heatmapgl\": [{\"colorbar\": {\"outlinewidth\": 0, \"ticks\": \"\"}, \"colorscale\": [[0.0, \"#0d0887\"], [0.1111111111111111, \"#46039f\"], [0.2222222222222222, \"#7201a8\"], [0.3333333333333333, \"#9c179e\"], [0.4444444444444444, \"#bd3786\"], [0.5555555555555556, \"#d8576b\"], [0.6666666666666666, \"#ed7953\"], [0.7777777777777778, \"#fb9f3a\"], [0.8888888888888888, \"#fdca26\"], [1.0, \"#f0f921\"]], \"type\": \"heatmapgl\"}], \"histogram\": [{\"marker\": {\"colorbar\": {\"outlinewidth\": 0, \"ticks\": \"\"}}, \"type\": \"histogram\"}], \"histogram2d\": [{\"colorbar\": {\"outlinewidth\": 0, \"ticks\": \"\"}, \"colorscale\": [[0.0, \"#0d0887\"], [0.1111111111111111, \"#46039f\"], [0.2222222222222222, \"#7201a8\"], [0.3333333333333333, \"#9c179e\"], [0.4444444444444444, \"#bd3786\"], [0.5555555555555556, \"#d8576b\"], [0.6666666666666666, \"#ed7953\"], [0.7777777777777778, \"#fb9f3a\"], [0.8888888888888888, \"#fdca26\"], [1.0, \"#f0f921\"]], \"type\": \"histogram2d\"}], \"histogram2dcontour\": [{\"colorbar\": {\"outlinewidth\": 0, \"ticks\": \"\"}, \"colorscale\": [[0.0, \"#0d0887\"], [0.1111111111111111, \"#46039f\"], [0.2222222222222222, \"#7201a8\"], [0.3333333333333333, \"#9c179e\"], [0.4444444444444444, \"#bd3786\"], [0.5555555555555556, \"#d8576b\"], [0.6666666666666666, \"#ed7953\"], [0.7777777777777778, \"#fb9f3a\"], [0.8888888888888888, \"#fdca26\"], [1.0, \"#f0f921\"]], \"type\": \"histogram2dcontour\"}], \"mesh3d\": [{\"colorbar\": {\"outlinewidth\": 0, \"ticks\": \"\"}, \"type\": \"mesh3d\"}], \"parcoords\": [{\"line\": {\"colorbar\": {\"outlinewidth\": 0, \"ticks\": \"\"}}, \"type\": \"parcoords\"}], \"pie\": [{\"automargin\": true, \"type\": \"pie\"}], \"scatter\": [{\"marker\": {\"colorbar\": {\"outlinewidth\": 0, \"ticks\": \"\"}}, \"type\": \"scatter\"}], \"scatter3d\": [{\"line\": {\"colorbar\": {\"outlinewidth\": 0, \"ticks\": \"\"}}, \"marker\": {\"colorbar\": {\"outlinewidth\": 0, \"ticks\": \"\"}}, \"type\": \"scatter3d\"}], \"scattercarpet\": [{\"marker\": {\"colorbar\": {\"outlinewidth\": 0, \"ticks\": \"\"}}, \"type\": \"scattercarpet\"}], \"scattergeo\": [{\"marker\": {\"colorbar\": {\"outlinewidth\": 0, \"ticks\": \"\"}}, \"type\": \"scattergeo\"}], \"scattergl\": [{\"marker\": {\"colorbar\": {\"outlinewidth\": 0, \"ticks\": \"\"}}, \"type\": \"scattergl\"}], \"scattermapbox\": [{\"marker\": {\"colorbar\": {\"outlinewidth\": 0, \"ticks\": \"\"}}, \"type\": \"scattermapbox\"}], \"scatterpolar\": [{\"marker\": {\"colorbar\": {\"outlinewidth\": 0, \"ticks\": \"\"}}, \"type\": \"scatterpolar\"}], \"scatterpolargl\": [{\"marker\": {\"colorbar\": {\"outlinewidth\": 0, \"ticks\": \"\"}}, \"type\": \"scatterpolargl\"}], \"scatterternary\": [{\"marker\": {\"colorbar\": {\"outlinewidth\": 0, \"ticks\": \"\"}}, \"type\": \"scatterternary\"}], \"surface\": [{\"colorbar\": {\"outlinewidth\": 0, \"ticks\": \"\"}, \"colorscale\": [[0.0, \"#0d0887\"], [0.1111111111111111, \"#46039f\"], [0.2222222222222222, \"#7201a8\"], [0.3333333333333333, \"#9c179e\"], [0.4444444444444444, \"#bd3786\"], [0.5555555555555556, \"#d8576b\"], [0.6666666666666666, \"#ed7953\"], [0.7777777777777778, \"#fb9f3a\"], [0.8888888888888888, \"#fdca26\"], [1.0, \"#f0f921\"]], \"type\": \"surface\"}], \"table\": [{\"cells\": {\"fill\": {\"color\": \"#EBF0F8\"}, \"line\": {\"color\": \"white\"}}, \"header\": {\"fill\": {\"color\": \"#C8D4E3\"}, \"line\": {\"color\": \"white\"}}, \"type\": \"table\"}]}, \"layout\": {\"annotationdefaults\": {\"arrowcolor\": \"#2a3f5f\", \"arrowhead\": 0, \"arrowwidth\": 1}, \"autotypenumbers\": \"strict\", \"coloraxis\": {\"colorbar\": {\"outlinewidth\": 0, \"ticks\": \"\"}}, \"colorscale\": {\"diverging\": [[0, \"#8e0152\"], [0.1, \"#c51b7d\"], [0.2, \"#de77ae\"], [0.3, \"#f1b6da\"], [0.4, \"#fde0ef\"], [0.5, \"#f7f7f7\"], [0.6, \"#e6f5d0\"], [0.7, \"#b8e186\"], [0.8, \"#7fbc41\"], [0.9, \"#4d9221\"], [1, \"#276419\"]], \"sequential\": [[0.0, \"#0d0887\"], [0.1111111111111111, \"#46039f\"], [0.2222222222222222, \"#7201a8\"], [0.3333333333333333, \"#9c179e\"], [0.4444444444444444, \"#bd3786\"], [0.5555555555555556, \"#d8576b\"], [0.6666666666666666, \"#ed7953\"], [0.7777777777777778, \"#fb9f3a\"], [0.8888888888888888, \"#fdca26\"], [1.0, \"#f0f921\"]], \"sequentialminus\": [[0.0, \"#0d0887\"], [0.1111111111111111, \"#46039f\"], [0.2222222222222222, \"#7201a8\"], [0.3333333333333333, \"#9c179e\"], [0.4444444444444444, \"#bd3786\"], [0.5555555555555556, \"#d8576b\"], [0.6666666666666666, \"#ed7953\"], [0.7777777777777778, \"#fb9f3a\"], [0.8888888888888888, \"#fdca26\"], [1.0, \"#f0f921\"]]}, \"colorway\": [\"#636efa\", \"#EF553B\", \"#00cc96\", \"#ab63fa\", \"#FFA15A\", \"#19d3f3\", \"#FF6692\", \"#B6E880\", \"#FF97FF\", \"#FECB52\"], \"font\": {\"color\": \"#2a3f5f\"}, \"geo\": {\"bgcolor\": \"white\", \"lakecolor\": \"white\", \"landcolor\": \"#E5ECF6\", \"showlakes\": true, \"showland\": true, \"subunitcolor\": \"white\"}, \"hoverlabel\": {\"align\": \"left\"}, \"hovermode\": \"closest\", \"mapbox\": {\"style\": \"light\"}, \"paper_bgcolor\": \"white\", \"plot_bgcolor\": \"#E5ECF6\", \"polar\": {\"angularaxis\": {\"gridcolor\": \"white\", \"linecolor\": \"white\", \"ticks\": \"\"}, \"bgcolor\": \"#E5ECF6\", \"radialaxis\": {\"gridcolor\": \"white\", \"linecolor\": \"white\", \"ticks\": \"\"}}, \"scene\": {\"xaxis\": {\"backgroundcolor\": \"#E5ECF6\", \"gridcolor\": \"white\", \"gridwidth\": 2, \"linecolor\": \"white\", \"showbackground\": true, \"ticks\": \"\", \"zerolinecolor\": \"white\"}, \"yaxis\": {\"backgroundcolor\": \"#E5ECF6\", \"gridcolor\": \"white\", \"gridwidth\": 2, \"linecolor\": \"white\", \"showbackground\": true, \"ticks\": \"\", \"zerolinecolor\": \"white\"}, \"zaxis\": {\"backgroundcolor\": \"#E5ECF6\", \"gridcolor\": \"white\", \"gridwidth\": 2, \"linecolor\": \"white\", \"showbackground\": true, \"ticks\": \"\", \"zerolinecolor\": \"white\"}}, \"shapedefaults\": {\"line\": {\"color\": \"#2a3f5f\"}}, \"ternary\": {\"aaxis\": {\"gridcolor\": \"white\", \"linecolor\": \"white\", \"ticks\": \"\"}, \"baxis\": {\"gridcolor\": \"white\", \"linecolor\": \"white\", \"ticks\": \"\"}, \"bgcolor\": \"#E5ECF6\", \"caxis\": {\"gridcolor\": \"white\", \"linecolor\": \"white\", \"ticks\": \"\"}}, \"title\": {\"x\": 0.05}, \"xaxis\": {\"automargin\": true, \"gridcolor\": \"white\", \"linecolor\": \"white\", \"ticks\": \"\", \"title\": {\"standoff\": 15}, \"zerolinecolor\": \"white\", \"zerolinewidth\": 2}, \"yaxis\": {\"automargin\": true, \"gridcolor\": \"white\", \"linecolor\": \"white\", \"ticks\": \"\", \"title\": {\"standoff\": 15}, \"zerolinecolor\": \"white\", \"zerolinewidth\": 2}}}, \"width\": 800},                        {\"responsive\": true}                    ).then(function(){\n",
       "                            \n",
       "var gd = document.getElementById('46e05d26-6ba5-4926-9387-adba2c829b74');\n",
       "var x = new MutationObserver(function (mutations, observer) {{\n",
       "        var display = window.getComputedStyle(gd).display;\n",
       "        if (!display || display === 'none') {{\n",
       "            console.log([gd, 'removed!']);\n",
       "            Plotly.purge(gd);\n",
       "            observer.disconnect();\n",
       "        }}\n",
       "}});\n",
       "\n",
       "// Listen for the removal of the full notebook cells\n",
       "var notebookContainer = gd.closest('#notebook-container');\n",
       "if (notebookContainer) {{\n",
       "    x.observe(notebookContainer, {childList: true});\n",
       "}}\n",
       "\n",
       "// Listen for the clearing of the current output cell\n",
       "var outputEl = gd.closest('.output');\n",
       "if (outputEl) {{\n",
       "    x.observe(outputEl, {childList: true});\n",
       "}}\n",
       "\n",
       "                        })                };                });            </script>        </div>"
      ]
     },
     "metadata": {},
     "output_type": "display_data"
    }
   ],
   "source": [
    "fig = px.scatter_3d(df_scaled, x=\"valence\", y=\"energy\", z=\"acousticness\", color=\"danceability\", \n",
    "                    symbol=\"acousticness\", width=800)\n",
    "fig.update_layout(legend=dict(x=0,y=1))\n",
    "fig.show()"
   ]
  },
  {
   "cell_type": "code",
   "execution_count": null,
   "metadata": {},
   "outputs": [],
   "source": []
  }
 ],
 "metadata": {
  "kernelspec": {
   "display_name": "Python 3",
   "language": "python",
   "name": "python3"
  },
  "language_info": {
   "codemirror_mode": {
    "name": "ipython",
    "version": 3
   },
   "file_extension": ".py",
   "mimetype": "text/x-python",
   "name": "python",
   "nbconvert_exporter": "python",
   "pygments_lexer": "ipython3",
   "version": "3.7.7"
  }
 },
 "nbformat": 4,
 "nbformat_minor": 4
}
